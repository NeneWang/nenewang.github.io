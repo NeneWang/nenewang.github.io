{
  "cells": [
    {
      "cell_type": "markdown",
      "metadata": {
        "id": "ZsV8AbERPy21"
      },
      "source": [
        "# Why NumPy?\n",
        "\n",
        "[NumPy](https://numpy.org/) is a math module. It specializes in performing fast math on large arrays of values, which is otherwise very slow in Python.\n",
        "\n",
        "This notebook demonstrates that Python is slow even for simple math, and that equivalent operations with NumPy arrays is much faster. However, it also demonstrates the importance of interacting with NumPy on NumPy's terms, since accidentally introducing native Python types and functionality to NumPy operations can dramatically slow down your program."
      ]
    },
    {
      "cell_type": "code",
      "execution_count": 2,
      "metadata": {
        "id": "N-jCSpXW7z44"
      },
      "outputs": [],
      "source": [
        "# By convension, NumPy is usually imported as \"np\"\n",
        "import numpy as np\n",
        "from random import randint"
      ]
    },
    {
      "cell_type": "code",
      "execution_count": 3,
      "metadata": {
        "id": "hSrXxDy5Jr4v"
      },
      "outputs": [],
      "source": [
        "# Create a native Python list of 1,000,000 random integers.\n",
        "a = [randint(-1000, 1000) for _ in range(1000000)]\n",
        "\n",
        "# Additionally, convert the list of 1,000,000 integers to a NumPy array.\n",
        "a_arr = np.array(a)"
      ]
    },
    {
      "cell_type": "code",
      "execution_count": 4,
      "metadata": {
        "colab": {
          "base_uri": "https://localhost:8080/"
        },
        "id": "8rhdqvvhQ95s",
        "outputId": "9776a988-bcde-4f33-80a2-c81a15356b67"
      },
      "outputs": [
        {
          "data": {
            "text/plain": [
              "[809, -616, -455, -4, -653, -914, -618, -576, 171, -249]"
            ]
          },
          "execution_count": 4,
          "metadata": {},
          "output_type": "execute_result"
        }
      ],
      "source": [
        "# Examine the first 10 values in the Python list\n",
        "a[:10]"
      ]
    },
    {
      "cell_type": "code",
      "execution_count": 5,
      "metadata": {
        "colab": {
          "base_uri": "https://localhost:8080/"
        },
        "id": "kW6HYX9gREzY",
        "outputId": "527e6586-06ae-4ec2-ba1b-34b4655d68d5"
      },
      "outputs": [
        {
          "data": {
            "text/plain": [
              "array([ 809, -616, -455,   -4, -653, -914, -618, -576,  171, -249])"
            ]
          },
          "execution_count": 5,
          "metadata": {},
          "output_type": "execute_result"
        }
      ],
      "source": [
        "# Examine the first 10 values in the NumPy array.\n",
        "#\n",
        "# Note that we can use familiar Python operators on NumPy\n",
        "# arrays: indexing and slicing works the same as it does on\n",
        "# Python lists.\n",
        "#\n",
        "# Also note that NumPy arrays differentiate themselves from\n",
        "# Python lists by surrounding their display output with \"array()\".\n",
        "a_arr[:10]"
      ]
    },
    {
      "cell_type": "code",
      "execution_count": 6,
      "metadata": {
        "colab": {
          "base_uri": "https://localhost:8080/"
        },
        "id": "7fWeM3wSKNIA",
        "outputId": "a3bead3f-7fa1-4e49-9573-db2fab64563c"
      },
      "outputs": [
        {
          "name": "stdout",
          "output_type": "stream",
          "text": [
            "55.6 ms ± 794 µs per loop (mean ± std. dev. of 7 runs, 10 loops each)\n"
          ]
        }
      ],
      "source": [
        "# Example 1: Write a function that increments every value in a Python list by 1.\n",
        "#\n",
        "# The algorithm is simple:\n",
        "#   1. Access element i of the list.\n",
        "#   2. Increment that element by 1.\n",
        "#   3. Save the result back in element i of the list.\n",
        "def increment(lst):\n",
        "  for i in range(len(lst)):\n",
        "    lst[i] += 1\n",
        "\n",
        "# Execute the increment() function 10 times with the Python list.\n",
        "# This will increment the contents of the list 10 times.\n",
        "#\n",
        "# Running times vary. In Colab, it should be between 100-200 ms per call.\n",
        "#\n",
        "# Consider what it takes to run this algorithm. For every element in the list,\n",
        "# Python must:\n",
        "#   - Determine the type of the element\n",
        "#   - Determine the type of the value being added to the element\n",
        "#   - Determine the correct operation to perform (integer addition).\n",
        "%timeit -n 10 increment(a)"
      ]
    },
    {
      "cell_type": "code",
      "execution_count": 7,
      "metadata": {
        "colab": {
          "base_uri": "https://localhost:8080/"
        },
        "id": "Jp6AfavuSJSY",
        "outputId": "fe14fc76-e53b-42b9-d829-a86537310845"
      },
      "outputs": [
        {
          "name": "stdout",
          "output_type": "stream",
          "text": [
            "188 ms ± 880 µs per loop (mean ± std. dev. of 7 runs, 10 loops each)\n"
          ]
        }
      ],
      "source": [
        "# Execute the increment() function 10 times with the NumPy array.\n",
        "# This will increment the contents of the list 10 times.\n",
        "#\n",
        "# Running times vary. In Colab, it should be between 200-400 ms per call.\n",
        "#\n",
        "# Why is this slower? Consider what has to happen. For every element in the\n",
        "# NumPy array, Python must:\n",
        "#   - Pull the i-th element from the NumPy array and package it as a Python\n",
        "#     integer value\n",
        "#   - Determine the type of the element\n",
        "#   - Determine the type of the value being added to the element\n",
        "#   - Determine the correct operation to perform (integer addition)\n",
        "#   - Unpack the integer value from the result and copy it into the NumPy array\n",
        "#\n",
        "# This requires many more steps than the list alone!\n",
        "%timeit -n 10 increment(a_arr)"
      ]
    },
    {
      "cell_type": "code",
      "execution_count": 8,
      "metadata": {
        "colab": {
          "base_uri": "https://localhost:8080/"
        },
        "id": "pG8UgMiuMY6s",
        "outputId": "a0cb3953-2a2f-4cc8-866e-200ef5daa95b"
      },
      "outputs": [
        {
          "name": "stdout",
          "output_type": "stream",
          "text": [
            "352 µs ± 36.6 µs per loop (mean ± std. dev. of 7 runs, 10 loops each)\n"
          ]
        }
      ],
      "source": [
        "# Example 2: Write a function that increments every value in a NumPy array by 1.\n",
        "#\n",
        "# In this function, there is no algorithm to implement. NumPy overloads most\n",
        "# Python operators and implements its own, highly efficient code that runs\n",
        "# outside the restrictions of the Python interpreter.\n",
        "#\n",
        "# NumPy interprets \"arr += 1\" as \"add 1 to every element of the array.\"\n",
        "def increment_arr(arr):\n",
        "  arr += 1\n",
        "\n",
        "# Execute the increment_arr() function 10 times with the NumPy array.\n",
        "# This will increment the contents of the list 10 times.\n",
        "#\n",
        "# Running times vary. In Colab, it should be around 400 µs (microseconds).\n",
        "#\n",
        "# This is _significantly faster_ than math with native Python objects.\n",
        "%timeit -n 10 increment_arr(a_arr)"
      ]
    },
    {
      "cell_type": "code",
      "execution_count": 9,
      "metadata": {
        "colab": {
          "base_uri": "https://localhost:8080/",
          "height": 225
        },
        "id": "qK7eTGd6KnLk",
        "outputId": "d26ba61f-8dd0-410d-a616-dff95b6d2ec3"
      },
      "outputs": [
        {
          "ename": "TypeError",
          "evalue": "can only concatenate list (not \"int\") to list",
          "output_type": "error",
          "traceback": [
            "\u001b[1;31m---------------------------------------------------------------------------\u001b[0m",
            "\u001b[1;31mTypeError\u001b[0m                                 Traceback (most recent call last)",
            "Cell \u001b[1;32mIn[9], line 7\u001b[0m\n\u001b[0;32m      1\u001b[0m \u001b[38;5;66;03m# A quick demonstration of math with NumPy arrays is below.\u001b[39;00m\n\u001b[0;32m      2\u001b[0m \u001b[38;5;66;03m#\u001b[39;00m\n\u001b[0;32m      3\u001b[0m \u001b[38;5;66;03m# You cannot do math with Python lists. This is because:\u001b[39;00m\n\u001b[0;32m      4\u001b[0m \u001b[38;5;66;03m#   - Lists are general-purpose and can contain a mix of different values.\u001b[39;00m\n\u001b[0;32m      5\u001b[0m \u001b[38;5;66;03m#   - The \"+\" operator is defined as list concatenation instead of addition when\u001b[39;00m\n\u001b[0;32m      6\u001b[0m \u001b[38;5;66;03m#     used with Python lists.\u001b[39;00m\n\u001b[1;32m----> 7\u001b[0m \u001b[43m[\u001b[49m\u001b[38;5;241;43m1\u001b[39;49m\u001b[43m,\u001b[49m\u001b[43m \u001b[49m\u001b[38;5;241;43m2\u001b[39;49m\u001b[43m,\u001b[49m\u001b[43m \u001b[49m\u001b[38;5;241;43m3\u001b[39;49m\u001b[43m]\u001b[49m\u001b[43m \u001b[49m\u001b[38;5;241;43m+\u001b[39;49m\u001b[43m \u001b[49m\u001b[38;5;241;43m1\u001b[39;49m\n",
            "\u001b[1;31mTypeError\u001b[0m: can only concatenate list (not \"int\") to list"
          ]
        }
      ],
      "source": [
        "# A quick demonstration of math with NumPy arrays is below.\n",
        "#\n",
        "# You cannot do math with Python lists. This is because:\n",
        "#   - Lists are general-purpose and can contain a mix of different values.\n",
        "#   - The \"+\" operator is defined as list concatenation instead of addition when\n",
        "#     used with Python lists.\n",
        "[1, 2, 3] + 1"
      ]
    },
    {
      "cell_type": "code",
      "execution_count": 10,
      "metadata": {
        "colab": {
          "base_uri": "https://localhost:8080/"
        },
        "id": "fJlxNTHNWdTs",
        "outputId": "d32c467a-4371-4ffe-8220-6f596d1c792c"
      },
      "outputs": [
        {
          "data": {
            "text/plain": [
              "[1, 2, 3, 4, 5, 6]"
            ]
          },
          "execution_count": 10,
          "metadata": {},
          "output_type": "execute_result"
        }
      ],
      "source": [
        "# However, you can concatenate lists using the + operator:\n",
        "[1, 2, 3] + [4, 5, 6]"
      ]
    },
    {
      "cell_type": "code",
      "execution_count": 11,
      "metadata": {
        "colab": {
          "base_uri": "https://localhost:8080/"
        },
        "id": "_aeG0My7MdgV",
        "outputId": "1b64bbee-15f0-477a-90ee-24fc575ab0c2"
      },
      "outputs": [
        {
          "data": {
            "text/plain": [
              "array([2, 3, 4])"
            ]
          },
          "execution_count": 11,
          "metadata": {},
          "output_type": "execute_result"
        }
      ],
      "source": [
        "# In contrast, NumPy arrays overload the addition (+) and addition with\n",
        "# assignment (+=) operators. It will interpret the line of code below as\n",
        "# \"add 1 to every element of the array\".\n",
        "np.array([1, 2, 3]) + 1"
      ]
    },
    {
      "cell_type": "code",
      "execution_count": 12,
      "metadata": {
        "id": "ujmC6JUUWtSp"
      },
      "outputs": [
        {
          "data": {
            "text/plain": [
              "array([5, 7, 9])"
            ]
          },
          "execution_count": 12,
          "metadata": {},
          "output_type": "execute_result"
        }
      ],
      "source": [
        "# What do you think this will do, and why?\n",
        "np.array([1, 2, 3]) + np.array([4, 5, 6])"
      ]
    },
    {
      "cell_type": "code",
      "execution_count": null,
      "metadata": {},
      "outputs": [],
      "source": []
    }
  ],
  "metadata": {
    "colab": {
      "provenance": []
    },
    "kernelspec": {
      "display_name": "Python 3",
      "name": "python3"
    },
    "language_info": {
      "codemirror_mode": {
        "name": "ipython",
        "version": 3
      },
      "file_extension": ".py",
      "mimetype": "text/x-python",
      "name": "python",
      "nbconvert_exporter": "python",
      "pygments_lexer": "ipython3",
      "version": "3.10.5"
    }
  },
  "nbformat": 4,
  "nbformat_minor": 0
}
