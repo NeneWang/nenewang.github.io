{
 "cells": [
  {
   "cell_type": "markdown",
   "metadata": {},
   "source": [
    "# Principal Component Analysis.\n",
    "\n",
    "- It tries to remove the axis in which the data is not varying much.\n",
    "\n",
    "\n",
    "Be careful also when studying you need to ensure that you have sleep bfore, also understand the concept by head.\n",
    "\n",
    "Check also your midterm!! Review that sh.\n",
    "\n",
    "\n",
    "- When you have a diagonal, also have the shapes such as diagonal since they count for the plotable. \n",
    "- The real utility comes from highly dimensional data. What you end up with, te second most variants, and so forth.\n",
    "- A tool for visualization that can show us the patterns to plot it otherwise.\n",
    "\n",
    "**How to study for the exam?\n",
    "- Last time I had some problems with reviewing the assigment questions understandings. (Big point)\n",
    "- Not enough manual practice, I used AI too much to write things, and no understanding exactly of the libraries.\n",
    "- Understanding \n",
    "- From past exams, the prev quiz questions would be included.\n",
    "\n",
    "**Plan for today**\n",
    "\n",
    "1. Work on the Study set for quiz.\n",
    "   1. Listen the remanining chapters in the way home\n",
    "   2. At home review the lectures and add the correct practice sets.\n",
    "2. Memorize the quiz study set\n",
    "3. Work on the Second submission of the assigment\n",
    "   1. \n",
    "4. Work on the Project:\n",
    "   1. Should have all the working tables\n",
    "   2. Should have revised dashboards\n",
    "5. Add improv lessons into your pipeline for maid CLI\n",
    "\n",
    "- What matters is not really the grade, but if you have laernt enough. The same philosophy you applied this semester you should take it to become world class.\n",
    "- You objective is to be world class level at `cs`. Ignore grades, aim to improve your CS Algorithmic skills to do things that are impossible.\n",
    "\n",
    "https://scikit-learn.org/stable/modules/generated/sklearn.decomposition.PCA.html#sklearn.decomposition.PCA\n",
    "\n",
    "\n",
    "**Qestions**\n",
    "- How do you know how many components are there?\n",
    "- Should I integrate also the vision of \n",
    "- How to integrate better the time management skills? Because I know for example.\n",
    "- \n",
    "\n",
    "\n",
    "\n"
   ]
  },
  {
   "cell_type": "markdown",
   "metadata": {},
   "source": []
  },
  {
   "cell_type": "markdown",
   "metadata": {},
   "source": []
  }
 ],
 "metadata": {
  "language_info": {
   "name": "python"
  }
 },
 "nbformat": 4,
 "nbformat_minor": 2
}
