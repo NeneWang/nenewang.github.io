{
  "cells": [
    {
      "cell_type": "markdown",
      "metadata": {
        "id": "E-JuOUmHq2qw"
      },
      "source": [
        "# NumPy Array Basics\n",
        "\n",
        "This notebook demonstrates the basics of NumPy arrays: how to create them and how to perform math on them."
      ]
    },
    {
      "cell_type": "code",
      "execution_count": 2,
      "metadata": {
        "id": "fAEjJv63MKlr"
      },
      "outputs": [],
      "source": [
        "import numpy as np"
      ]
    },
    {
      "cell_type": "markdown",
      "metadata": {
        "id": "C6exoW9suNCd"
      },
      "source": [
        "## NumPy arrays and Python lists\n",
        "\n"
      ]
    },
    {
      "cell_type": "code",
      "execution_count": 3,
      "metadata": {
        "colab": {
          "base_uri": "https://localhost:8080/"
        },
        "id": "LvWJKFPkcAe0",
        "outputId": "8f7e8ad6-1327-47d0-d4d1-d38b7bda50df"
      },
      "outputs": [
        {
          "data": {
            "text/plain": [
              "[3, 4.9]"
            ]
          },
          "execution_count": 3,
          "metadata": {},
          "output_type": "execute_result"
        }
      ],
      "source": [
        "# Python lists are designed to be as flexible as possible. They can contain\n",
        "# different types of values, and it is possible to dynamically add and\n",
        "# remove elements from them.\n",
        "\n",
        "my_lst = []\n",
        "my_lst.append(3)\n",
        "my_lst.append(4.9)\n",
        "my_lst.append(\"Hello\")\n",
        "my_lst.remove(\"Hello\")\n",
        "my_lst"
      ]
    },
    {
      "cell_type": "code",
      "execution_count": 4,
      "metadata": {
        "colab": {
          "base_uri": "https://localhost:8080/"
        },
        "id": "uxKLeSAQbnEy",
        "outputId": "5159e629-ef19-4c01-82a6-389a1330362c"
      },
      "outputs": [
        {
          "data": {
            "text/plain": [
              "array([1, 2, 3])"
            ]
          },
          "execution_count": 4,
          "metadata": {},
          "output_type": "execute_result"
        }
      ],
      "source": [
        "# NumPy arrays are not designed to be flexible like Python lists. Once you create\n",
        "# a NumPy array, it cannot be resized.\n",
        "my_arr = np.array([1, 2, 3])\n",
        "my_arr"
      ]
    },
    {
      "cell_type": "code",
      "execution_count": 5,
      "metadata": {
        "colab": {
          "base_uri": "https://localhost:8080/"
        },
        "id": "qG1j0q6KtGML",
        "outputId": "ea775210-273b-4536-d5b8-1f80422b004e"
      },
      "outputs": [
        {
          "data": {
            "text/plain": [
              "array([1. , 2. , 3.1])"
            ]
          },
          "execution_count": 5,
          "metadata": {},
          "output_type": "execute_result"
        }
      ],
      "source": [
        "# NumPy arrays must contain only one type of value. If types in the input list are\n",
        "# inconsistent, NumPy will attempt to select a safe type that can be used for all\n",
        "# values in the list, and convert them all.\n",
        "#\n",
        "# For example, the presence of a float in the input list results in an array\n",
        "# where all values are floats.\n",
        "np.array([1, 2, 3.1])"
      ]
    },
    {
      "cell_type": "code",
      "execution_count": 6,
      "metadata": {
        "colab": {
          "base_uri": "https://localhost:8080/"
        },
        "id": "pzkWW9OgsRta",
        "outputId": "a086de60-65e5-4d3d-c4e9-7025b7e21134"
      },
      "outputs": [
        {
          "name": "stdout",
          "output_type": "stream",
          "text": [
            "[1 2 3] [1 2 3 4]\n"
          ]
        }
      ],
      "source": [
        "# As a side note, NumPy has an append() function.\n",
        "# (https://numpy.org/doc/stable/reference/generated/numpy.append.html)\n",
        "# But unlike Python lists, it does not change the content of the array. Instead,\n",
        "# it creates a new array. In this example, we append 4 to my_arr, and see that\n",
        "# my_arr remains unchanged:\n",
        "my_arr_2 = np.append(my_arr, 4)\n",
        "print(my_arr, my_arr_2)"
      ]
    },
    {
      "cell_type": "code",
      "execution_count": 7,
      "metadata": {
        "colab": {
          "base_uri": "https://localhost:8080/"
        },
        "id": "njQ9ChklsMZv",
        "outputId": "fee6493d-f5b6-4001-ba15-f4ef46d110d8"
      },
      "outputs": [
        {
          "data": {
            "text/plain": [
              "array([[ 3,  5, 10, 99],\n",
              "       [ 9, 21,  3,  4]])"
            ]
          },
          "execution_count": 7,
          "metadata": {},
          "output_type": "execute_result"
        }
      ],
      "source": [
        "# We can also create multidimensional arrays by giving np.array() lists of lists.\n",
        "# The dimensions of the input lists must be consistent.\n",
        "my_arr_2d = np.array([\n",
        "    [3, 5, 10, 99],\n",
        "    [9, 21, 3, 4]\n",
        "])\n",
        "my_arr_2d"
      ]
    },
    {
      "cell_type": "code",
      "execution_count": 8,
      "metadata": {
        "colab": {
          "base_uri": "https://localhost:8080/"
        },
        "id": "8-BvAOxlczC-",
        "outputId": "22318d54-2da9-46b1-9cc1-757ee5c8a66c"
      },
      "outputs": [
        {
          "data": {
            "text/plain": [
              "(2, 4)"
            ]
          },
          "execution_count": 8,
          "metadata": {},
          "output_type": "execute_result"
        }
      ],
      "source": [
        "# NumPy arrays have some useful attributes. The \"shape\" attribute gives us the\n",
        "# dimensions of the array. Here, we see that my_arr_2d is a 2x4 array.\n",
        "my_arr_2d.shape"
      ]
    },
    {
      "cell_type": "code",
      "execution_count": 9,
      "metadata": {
        "colab": {
          "base_uri": "https://localhost:8080/"
        },
        "id": "fEBUFvWuuFXS",
        "outputId": "96e1a2c2-046f-4471-9977-76f29b0e657c"
      },
      "outputs": [
        {
          "data": {
            "text/plain": [
              "dtype('int32')"
            ]
          },
          "execution_count": 9,
          "metadata": {},
          "output_type": "execute_result"
        }
      ],
      "source": [
        "# We can also access the \"dtype\" attribute to see the type of the array.\n",
        "my_arr_2d.dtype"
      ]
    },
    {
      "cell_type": "markdown",
      "metadata": {
        "id": "AJWBho0iuQ6O"
      },
      "source": [
        "## Creating NumPy arrays programmatically"
      ]
    },
    {
      "cell_type": "code",
      "execution_count": 10,
      "metadata": {
        "colab": {
          "base_uri": "https://localhost:8080/"
        },
        "id": "APGJoU_of2Pp",
        "outputId": "d504c62c-aa16-4dc8-c538-d0d3616a1adc"
      },
      "outputs": [
        {
          "data": {
            "text/plain": [
              "array([0, 1, 2, 3, 4, 5, 6, 7, 8, 9])"
            ]
          },
          "execution_count": 10,
          "metadata": {},
          "output_type": "execute_result"
        }
      ],
      "source": [
        "# NumPy's arange() function works like Python's built-in range() function.\n",
        "# (https://numpy.org/doc/stable/reference/generated/numpy.arange.html).\n",
        "# Here, we request a NumPy array with integer values from 0 to 10.\n",
        "np.arange(10)"
      ]
    },
    {
      "cell_type": "code",
      "execution_count": 11,
      "metadata": {
        "colab": {
          "base_uri": "https://localhost:8080/"
        },
        "id": "Q0eyIoHButiG",
        "outputId": "3e3b7afe-4015-4806-9761-16273198f1e3"
      },
      "outputs": [
        {
          "data": {
            "text/plain": [
              "array([ 5,  6,  7,  8,  9, 10])"
            ]
          },
          "execution_count": 11,
          "metadata": {},
          "output_type": "execute_result"
        }
      ],
      "source": [
        "# Here, we request a NumPy array with integer values from 5 to 11.\n",
        "np.arange(5, 11)"
      ]
    },
    {
      "cell_type": "code",
      "execution_count": 12,
      "metadata": {
        "colab": {
          "base_uri": "https://localhost:8080/"
        },
        "id": "PEBJ96kxuwDI",
        "outputId": "d43a3d34-9239-40c4-9686-e722b313eb18"
      },
      "outputs": [
        {
          "data": {
            "text/plain": [
              "array([5, 7, 9])"
            ]
          },
          "execution_count": 12,
          "metadata": {},
          "output_type": "execute_result"
        }
      ],
      "source": [
        "# Here, we request a NumPy array with integer values from 5 to 11, using a step\n",
        "# size of 2 between each value.\n",
        "np.arange(5, 11, 2)"
      ]
    },
    {
      "cell_type": "code",
      "execution_count": 13,
      "metadata": {
        "colab": {
          "base_uri": "https://localhost:8080/"
        },
        "id": "D1luI6HagFTl",
        "outputId": "d24f52d1-3639-43bb-ce19-31ea558ae6ef"
      },
      "outputs": [
        {
          "data": {
            "text/plain": [
              "array([ 5., 10., 15., 20., 25., 30., 35., 40., 45., 50.])"
            ]
          },
          "execution_count": 13,
          "metadata": {},
          "output_type": "execute_result"
        }
      ],
      "source": [
        "# NumPy's linspace() function allows us to create an array of a fixed number of\n",
        "# values evenly spaced between a start and end point.\n",
        "# (https://numpy.org/doc/stable/reference/generated/numpy.linspace.html)\n",
        "# Here, we request a NumPy array containing 10 values between 5 and 50.\n",
        "np.linspace(5, 50, 10)"
      ]
    },
    {
      "cell_type": "code",
      "execution_count": 14,
      "metadata": {
        "colab": {
          "base_uri": "https://localhost:8080/"
        },
        "id": "9jczmehmvhX2",
        "outputId": "23ccb35c-30c1-439a-fd8b-1fed83270386"
      },
      "outputs": [
        {
          "data": {
            "text/plain": [
              "array([ 5. ,  9.5, 14. , 18.5, 23. , 27.5, 32. , 36.5, 41. , 45.5, 50. ])"
            ]
          },
          "execution_count": 14,
          "metadata": {},
          "output_type": "execute_result"
        }
      ],
      "source": [
        "# Here, we request a NumPy array containing 11 values between 5 and 50.\n",
        "np.linspace(5, 50, 11)"
      ]
    },
    {
      "cell_type": "code",
      "execution_count": 15,
      "metadata": {
        "colab": {
          "base_uri": "https://localhost:8080/"
        },
        "id": "GxufCTnzgV3n",
        "outputId": "38028486-eba2-4616-a343-d11f37d64481"
      },
      "outputs": [
        {
          "data": {
            "text/plain": [
              "array([[1., 1., 1.],\n",
              "       [1., 1., 1.],\n",
              "       [1., 1., 1.]])"
            ]
          },
          "execution_count": 15,
          "metadata": {},
          "output_type": "execute_result"
        }
      ],
      "source": [
        "# Sometimes, it is useful to create an array of a fixed size initialized to some\n",
        "# value. There are several functions we can use:\n",
        "#\n",
        "# ones(): Fill the array with all ones (https://numpy.org/doc/stable/reference/generated/numpy.ones.html)\n",
        "# zeros(): Fill the array with all zeros (https://numpy.org/doc/stable/reference/generated/numpy.zeros.html)\n",
        "# empty(): Allocate but do not initialize the array. It will contain random uninitialized values\n",
        "#          (https://numpy.org/doc/stable/reference/generated/numpy.empty.html)\n",
        "#\n",
        "# All of these functions accept a tuple describing the desired shape of the array.\n",
        "# Here, we ask for a 3x3 array containing all ones:\n",
        "np.ones((3, 3))"
      ]
    },
    {
      "cell_type": "code",
      "execution_count": 16,
      "metadata": {
        "colab": {
          "base_uri": "https://localhost:8080/"
        },
        "id": "fmiYPHALwef6",
        "outputId": "e134130d-7b33-431d-df17-6321cedddeab"
      },
      "outputs": [
        {
          "data": {
            "text/plain": [
              "array([[0., 0.],\n",
              "       [0., 0.],\n",
              "       [0., 0.]])"
            ]
          },
          "execution_count": 16,
          "metadata": {},
          "output_type": "execute_result"
        }
      ],
      "source": [
        "# Here, we ask for an uninitialized 3x2 array:\n",
        "np.empty((3, 2))"
      ]
    },
    {
      "cell_type": "code",
      "execution_count": 17,
      "metadata": {
        "colab": {
          "base_uri": "https://localhost:8080/"
        },
        "id": "UjaIzpv-wlW9",
        "outputId": "4339f9e8-ce0b-48a4-a0cb-4cbfb1320c43"
      },
      "outputs": [
        {
          "data": {
            "text/plain": [
              "array([[[0.],\n",
              "        [0.],\n",
              "        [0.]],\n",
              "\n",
              "       [[0.],\n",
              "        [0.],\n",
              "        [0.]]])"
            ]
          },
          "execution_count": 17,
          "metadata": {},
          "output_type": "execute_result"
        }
      ],
      "source": [
        "# Here, we ask for a 2x3x1 array containing all zeros:\n",
        "np.zeros((2,3,1))"
      ]
    },
    {
      "cell_type": "code",
      "execution_count": 18,
      "metadata": {
        "colab": {
          "base_uri": "https://localhost:8080/"
        },
        "id": "G3LAG_4rRpNN",
        "outputId": "27ce36d2-6db0-4384-f892-925980422545"
      },
      "outputs": [
        {
          "data": {
            "text/plain": [
              "array([[0.62082672, 0.76968012, 0.80052772, 0.31517545, 0.43757039,\n",
              "        0.0302309 , 0.57126924, 0.30711223, 0.70919207, 0.73164364],\n",
              "       [0.2158012 , 0.96756168, 0.28919571, 0.4973461 , 0.75810241,\n",
              "        0.26370614, 0.05545817, 0.48403772, 0.62916714, 0.5376728 ],\n",
              "       [0.68983538, 0.08033691, 0.51412087, 0.59732415, 0.17463539,\n",
              "        0.76457282, 0.75547304, 0.4246529 , 0.86491239, 0.53361901],\n",
              "       [0.58331412, 0.72712779, 0.92998695, 0.57925131, 0.74982189,\n",
              "        0.97530878, 0.47824464, 0.76272281, 0.0629487 , 0.11690405],\n",
              "       [0.29785653, 0.4823994 , 0.95994804, 0.6129815 , 0.59111683,\n",
              "        0.4462911 , 0.41191572, 0.57023229, 0.92613226, 0.13169809],\n",
              "       [0.23772512, 0.6344949 , 0.39219997, 0.1394328 , 0.9290494 ,\n",
              "        0.01611539, 0.60975606, 0.3335388 , 0.03307847, 0.07980548],\n",
              "       [0.00101473, 0.89291461, 0.24208574, 0.41050106, 0.0296905 ,\n",
              "        0.65007406, 0.87630791, 0.88255764, 0.79818117, 0.72545438],\n",
              "       [0.16054131, 0.19934878, 0.06953987, 0.05474376, 0.48056015,\n",
              "        0.24173307, 0.03662947, 0.79165403, 0.44127957, 0.37078807],\n",
              "       [0.57269631, 0.08564066, 0.1241792 , 0.06583352, 0.08371494,\n",
              "        0.03842113, 0.29326832, 0.37458326, 0.77421325, 0.61162827],\n",
              "       [0.73388009, 0.26637327, 0.92769909, 0.76610456, 0.25880246,\n",
              "        0.11510087, 0.16706436, 0.32351326, 0.46970686, 0.67218177]])"
            ]
          },
          "execution_count": 18,
          "metadata": {},
          "output_type": "execute_result"
        }
      ],
      "source": [
        "# Here, we ask for a 10x10 array containing random floating-point values between\n",
        "# 0.0 (inclusive) and 1.0 (exclusive):\n",
        "np.random.random((10,10))"
      ]
    },
    {
      "cell_type": "code",
      "execution_count": 19,
      "metadata": {
        "colab": {
          "base_uri": "https://localhost:8080/"
        },
        "id": "94bs69jnXxAm",
        "outputId": "09a903fe-e8d9-4ef0-cc8b-20442be743fb"
      },
      "outputs": [
        {
          "data": {
            "text/plain": [
              "array([[-6,  3,  0,  9],\n",
              "       [-6,  3, -2,  2],\n",
              "       [-8,  2,  3, -9],\n",
              "       [-1, -5, -8, -1]])"
            ]
          },
          "execution_count": 19,
          "metadata": {},
          "output_type": "execute_result"
        }
      ],
      "source": [
        "# Here, we ask for a 4x4 array of integers between -10 and 10. randint(),\n",
        "# unlike random(), requires us to specify the upper and lower bounds of the\n",
        "# random values.\n",
        "np.random.randint(-10, 10, (4,4))"
      ]
    },
    {
      "cell_type": "markdown",
      "metadata": {
        "id": "olEJAOGrNBvk"
      },
      "source": [
        "## Accessing values in NumPy arrays"
      ]
    },
    {
      "cell_type": "code",
      "execution_count": 20,
      "metadata": {
        "colab": {
          "base_uri": "https://localhost:8080/"
        },
        "id": "WpQr6Ks4NGhC",
        "outputId": "2edd19ae-8dc0-4c7b-a517-6b816641878a"
      },
      "outputs": [
        {
          "name": "stdout",
          "output_type": "stream",
          "text": [
            "2 2\n"
          ]
        }
      ],
      "source": [
        "# Just like Python lists, you can access elements by index:\n",
        "my_list = [5, 2, 7, 4, 3, 6, 9, 10]\n",
        "my_arr = np.array(my_list)\n",
        "\n",
        "print(my_list[1], my_arr[1])"
      ]
    },
    {
      "cell_type": "code",
      "execution_count": 21,
      "metadata": {
        "colab": {
          "base_uri": "https://localhost:8080/"
        },
        "id": "CFzf_pAHX-Ig",
        "outputId": "2a47623a-14a2-4c71-d959-eb2388a36499"
      },
      "outputs": [
        {
          "name": "stdout",
          "output_type": "stream",
          "text": [
            "[5, 2, 7, 4, 3, 6, 9, 10] [10, 3]\n"
          ]
        }
      ],
      "source": [
        "# There are other list behaviors we frequently use in Python. Specifically,\n",
        "# slicing and replacing list elements with new values.\n",
        "my_list = [5, 2, 7, 4, 3, 6, 9, 10]\n",
        "my_list_2 = my_list[3:5]\n",
        "my_list_2[0] = 10\n",
        "print(my_list, my_list_2)"
      ]
    },
    {
      "cell_type": "code",
      "execution_count": 22,
      "metadata": {
        "colab": {
          "base_uri": "https://localhost:8080/"
        },
        "id": "Rk44DtxAYXug",
        "outputId": "4e3fd980-a0bf-4400-d0b8-ef44f7d0b886"
      },
      "outputs": [
        {
          "name": "stdout",
          "output_type": "stream",
          "text": [
            "[ 5  2  7  4  3  6  9 10] [10  3]\n"
          ]
        }
      ],
      "source": [
        "# All of these behaviors work the same in NumPy.\n",
        "my_list = [5, 2, 7, 4, 3, 6, 9, 10]\n",
        "my_arr = np.array(my_list)\n",
        "my_arr_2 = my_arr[3:5].copy()\n",
        "my_arr_2[0] = 10\n",
        "print(my_arr, my_arr_2)"
      ]
    },
    {
      "cell_type": "code",
      "execution_count": 23,
      "metadata": {},
      "outputs": [
        {
          "name": "stdout",
          "output_type": "stream",
          "text": [
            "[ 5  2  7 10  3  6  9 10] [10  3]\n"
          ]
        }
      ],
      "source": [
        "# All of these behaviors work the same in NumPy.\n",
        "my_list = [5, 2, 7, 4, 3, 6, 9, 10]\n",
        "my_arr = np.array(my_list)\n",
        "my_arr_2 = my_arr[3:5]\n",
        "my_arr_2[0] = 10\n",
        "print(my_arr, my_arr_2)"
      ]
    },
    {
      "cell_type": "markdown",
      "metadata": {
        "id": "glyuxeD6POIK"
      },
      "source": [
        "## Multidimensional Data"
      ]
    },
    {
      "cell_type": "code",
      "execution_count": 24,
      "metadata": {
        "colab": {
          "base_uri": "https://localhost:8080/"
        },
        "id": "zJdXHstkadl8",
        "outputId": "60dbb6f5-baf1-46d7-ffe9-37c474fa508b"
      },
      "outputs": [
        {
          "name": "stdout",
          "output_type": "stream",
          "text": [
            "[1, 2, 3] 2\n"
          ]
        }
      ],
      "source": [
        "# Multidimensional lists (or lists of lists) in Python are possible too, since\n",
        "# a list can contain any value at any element. Here, we create a 2-dimensional\n",
        "# list (or a list containing lists, each of which contain values).\n",
        "my_matrix = [\n",
        "    [1, 2, 3],\n",
        "    [4, 5, 6]\n",
        "]\n",
        "\n",
        "# The 2D list has rows and columns. Here, we access the first row, then the\n",
        "# second element of the first row:\n",
        "print(my_matrix[0], my_matrix[0][1])"
      ]
    },
    {
      "cell_type": "code",
      "execution_count": 25,
      "metadata": {
        "colab": {
          "base_uri": "https://localhost:8080/"
        },
        "id": "3OaDFVPKa8MT",
        "outputId": "33b77021-c5ee-43bc-accd-9ad9fd1967ac"
      },
      "outputs": [
        {
          "name": "stdout",
          "output_type": "stream",
          "text": [
            "[[  1   2   3  10]\n",
            " [  4   5   6 100]\n",
            " [  9  21   3   4]]\n"
          ]
        }
      ],
      "source": [
        "# NumPy also supports multidimensional arrays:\n",
        "my_matrix_arr = np.array([\n",
        "    [1, 2, 3, 10],\n",
        "    [4, 5, 6, 100],\n",
        "    [9, 21, 3, 4]\n",
        "])\n",
        "\n",
        "# We can access the `shape` attribute available on all arrays to see how many\n",
        "# dimmensions it has and how many elements are contained in each dimension. As\n",
        "# we can see, we created a 2-dimensional array with 3 rows and 4 columns.\n",
        "print(my_matrix_arr)"
      ]
    },
    {
      "cell_type": "code",
      "execution_count": 26,
      "metadata": {
        "colab": {
          "base_uri": "https://localhost:8080/"
        },
        "id": "mYEqqayPPnZs",
        "outputId": "ca0afae7-2cd9-4e73-a2ad-574b6e6355be"
      },
      "outputs": [
        {
          "data": {
            "text/plain": [
              "(3, 4, 1)"
            ]
          },
          "execution_count": 26,
          "metadata": {},
          "output_type": "execute_result"
        }
      ],
      "source": [
        "# In fact, we can create arrays with arbitrarily many dimensions, so long as\n",
        "# they are consistent:\n",
        "my_matrix_arr_3d = np.array([\n",
        "    [[1], [2], [3], [10]],\n",
        "    [[4], [5], [6], [100]],\n",
        "    [[9], [21], [3], [4]]\n",
        "])\n",
        "\n",
        "my_matrix_arr_3d.shape"
      ]
    },
    {
      "cell_type": "code",
      "execution_count": 27,
      "metadata": {
        "colab": {
          "base_uri": "https://localhost:8080/"
        },
        "id": "YayaV9l2P0qJ",
        "outputId": "d33b2fca-a156-4b4a-8a8a-fc78929e6a0d"
      },
      "outputs": [
        {
          "name": "stdout",
          "output_type": "stream",
          "text": [
            "2 2\n"
          ]
        }
      ],
      "source": [
        "# NumPy gives us a useful shorthand when accessing elements of multidimensional\n",
        "# arrays. Here, I am asking for the 0th row and 1st column of my_matrix_arr.\n",
        "#\n",
        "# Note that the rightmost example, my_matrix_arr[0, 1], is better than the\n",
        "# first method. The first approach must leave python, enter NumPy, retrieve the\n",
        "# requested element, and bring it back into Python twice!\n",
        "print(my_matrix_arr[0][1], my_matrix_arr[0, 1])"
      ]
    },
    {
      "cell_type": "code",
      "execution_count": 28,
      "metadata": {
        "colab": {
          "base_uri": "https://localhost:8080/"
        },
        "id": "BNuUBu-0bjoj",
        "outputId": "a7d8f468-ce2b-43cd-a6fb-6b57c42bb665"
      },
      "outputs": [
        {
          "data": {
            "text/plain": [
              "array([1, 4])"
            ]
          },
          "execution_count": 28,
          "metadata": {},
          "output_type": "execute_result"
        }
      ],
      "source": [
        "# We can extend this shorthand to slicing. Here, I am asking for the 0th column\n",
        "# from rows 0 and 1 (alternatively, 0 to 2, exclusive of 2).\n",
        "my_matrix_arr[0:2,0]"
      ]
    },
    {
      "cell_type": "markdown",
      "metadata": {
        "id": "OKErvzvIQqLa"
      },
      "source": [
        "## Changing the Shape of NumPy Arrays"
      ]
    },
    {
      "cell_type": "code",
      "execution_count": 29,
      "metadata": {
        "colab": {
          "base_uri": "https://localhost:8080/"
        },
        "id": "e_DYZUm3QuS_",
        "outputId": "00feb0a1-6071-4eda-9d23-dfc7e0803841"
      },
      "outputs": [
        {
          "data": {
            "text/plain": [
              "array([1, 2, 3, 4, 5, 6, 7, 8, 9])"
            ]
          },
          "execution_count": 29,
          "metadata": {},
          "output_type": "execute_result"
        }
      ],
      "source": [
        "# NumPy offers many features for manipulating the contents and shape of arrays,\n",
        "# far more than what Python offers for lists. One of these features involves\n",
        "# changing the number of dimensions of an array, and how many elements are\n",
        "# contained within each of these dimensions.\n",
        "#\n",
        "# For example, let's use the arange() function to create an array containing\n",
        "# a sequence of integer values from 1 to 10, exclusive of 10:\n",
        "np.arange(1, 10)"
      ]
    },
    {
      "cell_type": "code",
      "execution_count": 30,
      "metadata": {
        "colab": {
          "base_uri": "https://localhost:8080/"
        },
        "id": "jkXqBpnkeHVp",
        "outputId": "1c8ae6b2-c4b1-4dd2-99fc-b030ef6bfb54"
      },
      "outputs": [
        {
          "data": {
            "text/plain": [
              "(9,)"
            ]
          },
          "execution_count": 30,
          "metadata": {},
          "output_type": "execute_result"
        }
      ],
      "source": [
        "# We see this array is one-dimensional with 9 elements:\n",
        "np.arange(1, 10).shape"
      ]
    },
    {
      "cell_type": "code",
      "execution_count": 31,
      "metadata": {
        "colab": {
          "base_uri": "https://localhost:8080/"
        },
        "id": "A1lYZ5GEem-9",
        "outputId": "2e623309-f2d2-457b-fd62-8be146473680"
      },
      "outputs": [
        {
          "data": {
            "text/plain": [
              "array([[1, 2, 3],\n",
              "       [4, 5, 6],\n",
              "       [7, 8, 9]])"
            ]
          },
          "execution_count": 31,
          "metadata": {},
          "output_type": "execute_result"
        }
      ],
      "source": [
        "# Using the reshape() method, we can change it from a 9-element 1D array to a\n",
        "# 3x3 2D array:\n",
        "np.arange(1, 10).reshape(3,3)"
      ]
    },
    {
      "cell_type": "code",
      "execution_count": 32,
      "metadata": {
        "colab": {
          "base_uri": "https://localhost:8080/"
        },
        "id": "RNj2kVeHRPNZ",
        "outputId": "7ac5cf64-a88c-4e7f-809b-b331c2dca09e"
      },
      "outputs": [
        {
          "data": {
            "text/plain": [
              "(3, 3)"
            ]
          },
          "execution_count": 32,
          "metadata": {},
          "output_type": "execute_result"
        }
      ],
      "source": [
        "# We can see how its shape has changed:\n",
        "np.arange(1, 10).reshape(3,3).shape"
      ]
    },
    {
      "cell_type": "code",
      "execution_count": 33,
      "metadata": {
        "colab": {
          "base_uri": "https://localhost:8080/",
          "height": 189
        },
        "id": "uEUWx54_RUkY",
        "outputId": "34972e7b-99ae-414f-bcbe-6b88fbc27385"
      },
      "outputs": [
        {
          "ename": "ValueError",
          "evalue": "cannot reshape array of size 9 into shape (4,4)",
          "output_type": "error",
          "traceback": [
            "\u001b[1;31m---------------------------------------------------------------------------\u001b[0m",
            "\u001b[1;31mValueError\u001b[0m                                Traceback (most recent call last)",
            "Cell \u001b[1;32mIn[33], line 4\u001b[0m\n\u001b[0;32m      1\u001b[0m \u001b[38;5;66;03m# Note that reshaping is only possible if the new shape makes sense given the\u001b[39;00m\n\u001b[0;32m      2\u001b[0m \u001b[38;5;66;03m# shape of the existing array! We cannot transform a 1D 9-element array to a\u001b[39;00m\n\u001b[0;32m      3\u001b[0m \u001b[38;5;66;03m# 4x4 array, because there are not enough elements to fill the space:\u001b[39;00m\n\u001b[1;32m----> 4\u001b[0m \u001b[43mnp\u001b[49m\u001b[38;5;241;43m.\u001b[39;49m\u001b[43marange\u001b[49m\u001b[43m(\u001b[49m\u001b[38;5;241;43m1\u001b[39;49m\u001b[43m,\u001b[49m\u001b[43m \u001b[49m\u001b[38;5;241;43m10\u001b[39;49m\u001b[43m)\u001b[49m\u001b[38;5;241;43m.\u001b[39;49m\u001b[43mreshape\u001b[49m\u001b[43m(\u001b[49m\u001b[38;5;241;43m4\u001b[39;49m\u001b[43m,\u001b[49m\u001b[43m \u001b[49m\u001b[38;5;241;43m4\u001b[39;49m\u001b[43m)\u001b[49m\n",
            "\u001b[1;31mValueError\u001b[0m: cannot reshape array of size 9 into shape (4,4)"
          ]
        }
      ],
      "source": [
        "# Note that reshaping is only possible if the new shape makes sense given the\n",
        "# shape of the existing array! We cannot transform a 1D 9-element array to a\n",
        "# 4x4 array, because there are not enough elements to fill the space:\n",
        "np.arange(1, 10).reshape(4, 4)"
      ]
    },
    {
      "cell_type": "code",
      "execution_count": null,
      "metadata": {
        "colab": {
          "base_uri": "https://localhost:8080/"
        },
        "id": "--DAV14Wervi",
        "outputId": "a272bf64-91c4-4e0e-c273-f7dca0dd13b4"
      },
      "outputs": [
        {
          "data": {
            "text/plain": [
              "array([[1, 2, 3, 4, 5, 6, 7, 8, 9]])"
            ]
          },
          "execution_count": 29,
          "metadata": {},
          "output_type": "execute_result"
        }
      ],
      "source": [
        "# However, if all we want to do is add new dimensions to the array without\n",
        "# changing the number of elements, we can. Here, we are adding an extra dimension\n",
        "# to our 1D array, which has the effect of tranforming it to a 2D array with one\n",
        "# row and as many columns as the original (9):\n",
        "np.arange(1, 10).reshape(1, 9)"
      ]
    },
    {
      "cell_type": "code",
      "execution_count": null,
      "metadata": {
        "colab": {
          "base_uri": "https://localhost:8080/"
        },
        "id": "Sklc46SCSG94",
        "outputId": "bdc8e532-e27b-4726-b7f9-6b4302efb595"
      },
      "outputs": [
        {
          "data": {
            "text/plain": [
              "array([[[[[[[[[1]]],\n",
              "\n",
              "\n",
              "            [[[2]]],\n",
              "\n",
              "\n",
              "            [[[3]]],\n",
              "\n",
              "\n",
              "            [[[4]]],\n",
              "\n",
              "\n",
              "            [[[5]]],\n",
              "\n",
              "\n",
              "            [[[6]]],\n",
              "\n",
              "\n",
              "            [[[7]]],\n",
              "\n",
              "\n",
              "            [[[8]]],\n",
              "\n",
              "\n",
              "            [[[9]]]]]]]]])"
            ]
          },
          "execution_count": 66,
          "metadata": {},
          "output_type": "execute_result"
        }
      ],
      "source": [
        "# There is no limit to how many dimensions we can add:\n",
        "np.arange(1, 10).reshape(1, 1, 1, 1, 1, 9, 1, 1, 1)"
      ]
    },
    {
      "cell_type": "code",
      "execution_count": null,
      "metadata": {
        "colab": {
          "base_uri": "https://localhost:8080/"
        },
        "id": "WC2bVoTmSMD4",
        "outputId": "d1acfdc5-cd33-44cf-badf-fa1a4cc562dc"
      },
      "outputs": [
        {
          "data": {
            "text/plain": [
              "array([[1, 2, 3, 4, 5, 6, 7, 8, 9]])"
            ]
          },
          "execution_count": 67,
          "metadata": {},
          "output_type": "execute_result"
        }
      ],
      "source": [
        "# We can also use -1 in the list of new dimensions to indicate \"as many elements\n",
        "# as there were in the original\". The statement below results in a 1x9 array:\n",
        "np.arange(1, 10).reshape(1, -1)"
      ]
    },
    {
      "cell_type": "code",
      "execution_count": null,
      "metadata": {
        "colab": {
          "base_uri": "https://localhost:8080/"
        },
        "id": "LyO3RMYZfW77",
        "outputId": "d0381a3a-08bb-4063-8f69-317acd930fd8"
      },
      "outputs": [
        {
          "data": {
            "text/plain": [
              "array([[1, 2, 3, 4, 5, 6, 7, 8, 9]])"
            ]
          },
          "execution_count": 68,
          "metadata": {},
          "output_type": "execute_result"
        }
      ],
      "source": [
        "# We can also use the subscript operator to create new dimensions by using the\n",
        "# \"np.newaxis\" convenience object to indicate where we want them. The code\n",
        "# below is equivalent to calling np.arange(1, 10).reshape(1, -1) or\n",
        "# np.arange(1, 10).reshape(1, 9).\n",
        "np.arange(1, 10)[np.newaxis, :]"
      ]
    },
    {
      "cell_type": "markdown",
      "metadata": {
        "id": "P1NFGhK9SpOJ"
      },
      "source": [
        "## Changing the contents of NumPy arrays\n"
      ]
    },
    {
      "cell_type": "code",
      "execution_count": null,
      "metadata": {
        "colab": {
          "base_uri": "https://localhost:8080/"
        },
        "id": "mmL2djpIf_ZA",
        "outputId": "0c5475ee-3899-4a9b-afa3-2bd49a9425f3"
      },
      "outputs": [
        {
          "data": {
            "text/plain": [
              "[1, 2, 3, 4]"
            ]
          },
          "execution_count": 75,
          "metadata": {},
          "output_type": "execute_result"
        }
      ],
      "source": [
        "# In Python, if we want to add a new element to the end of a list, we can call\n",
        "# the list's append() method. Note that performing this action modifies the\n",
        "# original list. That is, the list contained in the variable a has been altered\n",
        "# in-place to contain a new value which was not present when it was originally\n",
        "# initialized:\n",
        "a = [1, 2, 3]\n",
        "a.append(4)\n",
        "a"
      ]
    },
    {
      "cell_type": "code",
      "execution_count": null,
      "metadata": {
        "colab": {
          "base_uri": "https://localhost:8080/"
        },
        "id": "rhrSv5YegD9u",
        "outputId": "2c1c384b-8aeb-41e1-a40b-246e476c0a9c"
      },
      "outputs": [
        {
          "name": "stdout",
          "output_type": "stream",
          "text": [
            "[1 2 3] [1 2 3 4]\n"
          ]
        }
      ],
      "source": [
        "# NumPy has a similar append() function, which behaves similarly as the Python\n",
        "# list's append() method. However, it is important to note that this function\n",
        "# does not modify the original array. Instead, it returns a new array containing\n",
        "# the contents of the original plus the new value:\n",
        "a = [1, 2, 3]\n",
        "a_arr = np.array(a)\n",
        "a_new = np.append(a_arr, 4)\n",
        "print(a_arr, a_new)"
      ]
    },
    {
      "cell_type": "code",
      "execution_count": null,
      "metadata": {
        "colab": {
          "base_uri": "https://localhost:8080/"
        },
        "id": "KYCsntN2gxfL",
        "outputId": "bbe4f84d-08e9-42d4-f268-b73de5485d30"
      },
      "outputs": [
        {
          "data": {
            "text/plain": [
              "[1, 2, 3, 4, 5, 6]"
            ]
          },
          "execution_count": 81,
          "metadata": {},
          "output_type": "execute_result"
        }
      ],
      "source": [
        "# The + operator is the first occurence of a major difference between Python list\n",
        "# functionality and NumPy array functionality. In Python, + can be used to\n",
        "# concatenate two lists together:\n",
        "\n",
        "a = [1, 2, 3]\n",
        "b = [4, 5, 6]\n",
        "\n",
        "a + b"
      ]
    },
    {
      "cell_type": "code",
      "execution_count": null,
      "metadata": {
        "colab": {
          "base_uri": "https://localhost:8080/"
        },
        "id": "rWOQrwVzg4Sy",
        "outputId": "3f83519d-ceef-448d-ede3-d36f29528e17"
      },
      "outputs": [
        {
          "data": {
            "text/plain": [
              "array([1, 2, 3, 4, 5, 6])"
            ]
          },
          "execution_count": 82,
          "metadata": {},
          "output_type": "execute_result"
        }
      ],
      "source": [
        "# To concatenate NumPy arrays, we have to use NumPy's concatenate fnuction:\n",
        "\n",
        "a = np.array([1, 2, 3])\n",
        "b = np.array([4, 5, 6])\n",
        "np.concatenate([a, b])"
      ]
    },
    {
      "cell_type": "code",
      "execution_count": null,
      "metadata": {
        "colab": {
          "base_uri": "https://localhost:8080/"
        },
        "id": "uHzBomkThk2C",
        "outputId": "c2b082ec-a530-42ac-bddb-bded8ca2af24"
      },
      "outputs": [
        {
          "data": {
            "text/plain": [
              "array([1, 2, 3, 4, 5, 6, 7, 8, 9])"
            ]
          },
          "execution_count": 83,
          "metadata": {},
          "output_type": "execute_result"
        }
      ],
      "source": [
        "# We can also concatenate multiple NumPy arrays at once:\n",
        "a = np.array([1, 2, 3])\n",
        "b = np.array([4, 5, 6])\n",
        "c = np.array([7, 8, 9])\n",
        "np.concatenate([a, b, c])"
      ]
    },
    {
      "cell_type": "code",
      "execution_count": null,
      "metadata": {
        "colab": {
          "base_uri": "https://localhost:8080/"
        },
        "id": "o2WZBFL0hJmj",
        "outputId": "fbfd811a-0c50-40af-9749-e7976ec7409f"
      },
      "outputs": [
        {
          "name": "stdout",
          "output_type": "stream",
          "text": [
            "Row-wise concatenation:\n",
            " [[0. 0. 0.]\n",
            " [0. 0. 0.]\n",
            " [0. 0. 0.]\n",
            " [1. 1. 1.]\n",
            " [1. 1. 1.]\n",
            " [1. 1. 1.]]\n",
            "Column-wise concatenation:\n",
            " [[0. 0. 0. 1. 1. 1.]\n",
            " [0. 0. 0. 1. 1. 1.]\n",
            " [0. 0. 0. 1. 1. 1.]]\n"
          ]
        }
      ],
      "source": [
        "# NumPy also allowes complex concatination over multidimensional\n",
        "# arrays with the `axis` parameter.\n",
        "a = np.zeros((3,3))\n",
        "b = np.ones((3,3))\n",
        "\n",
        "print(\"Row-wise concatenation:\\n\", np.concatenate([a, b], axis=0))\n",
        "print(\"Column-wise concatenation:\\n\", np.concatenate([a, b], axis=1))"
      ]
    },
    {
      "cell_type": "markdown",
      "metadata": {
        "id": "g09vQOE4VLZN"
      },
      "source": [
        "## NumPy and arithmetic"
      ]
    },
    {
      "cell_type": "code",
      "execution_count": null,
      "metadata": {
        "colab": {
          "base_uri": "https://localhost:8080/"
        },
        "id": "Q5TqaqdKjP2X",
        "outputId": "c822f039-4805-412e-959f-cc5f634fa419"
      },
      "outputs": [
        {
          "data": {
            "text/plain": [
              "array([11, 12, 13])"
            ]
          },
          "execution_count": 90,
          "metadata": {},
          "output_type": "execute_result"
        }
      ],
      "source": [
        "# A major difference between NumPy arrays and Python lists is the functionality\n",
        "# of the + operator. As we saw above, + indicates concatenation when used with\n",
        "# Python lists. However, with NumPy arrays, + indicates addition:\n",
        "\n",
        "a = np.array([1, 2, 3])\n",
        "a + 10"
      ]
    },
    {
      "cell_type": "code",
      "execution_count": null,
      "metadata": {
        "colab": {
          "base_uri": "https://localhost:8080/"
        },
        "id": "_YhrrtYKkJNN",
        "outputId": "719654b1-54f8-4b80-b74d-faa9e7dcb017"
      },
      "outputs": [
        {
          "data": {
            "text/plain": [
              "array([3, 5, 7])"
            ]
          },
          "execution_count": 89,
          "metadata": {},
          "output_type": "execute_result"
        }
      ],
      "source": [
        "# We can also add two arrays together, so long as one of the following conditions\n",
        "# is true:\n",
        "#\n",
        "#   - The arrays are the same shape\n",
        "#   - The arrays are not the same shape, but they are broadcastable\n",
        "#\n",
        "# We will look at the simple case first. These arrays are the same shape,\n",
        "# so NumPy will add corresponding elements together. We see that the final\n",
        "# output array is equal to [1+2, 2+3, 3+4]:\n",
        "\n",
        "a = np.array([1, 2, 3])\n",
        "b = np.array([2, 3, 4])\n",
        "a + b"
      ]
    },
    {
      "cell_type": "code",
      "execution_count": null,
      "metadata": {
        "colab": {
          "base_uri": "https://localhost:8080/"
        },
        "id": "5MF8EGWnlYwP",
        "outputId": "05f78fc2-e8fb-48db-bdcb-256a4fe9c814"
      },
      "outputs": [
        {
          "data": {
            "text/plain": [
              "array([3, 5, 7])"
            ]
          },
          "execution_count": 39,
          "metadata": {},
          "output_type": "execute_result"
        }
      ],
      "source": [
        "# The + symbol is a kind of useful shorthand. However, we can also use the\n",
        "# NumPy function add() to add the arrays instead:\n",
        "np.add(a, b)"
      ]
    },
    {
      "cell_type": "code",
      "execution_count": null,
      "metadata": {
        "colab": {
          "base_uri": "https://localhost:8080/"
        },
        "id": "wpojGVUnVV14",
        "outputId": "d1109ba1-1b65-43e4-fa89-762fbebc5654"
      },
      "outputs": [
        {
          "data": {
            "text/plain": [
              "array([ 2,  6, 12])"
            ]
          },
          "execution_count": 93,
          "metadata": {},
          "output_type": "execute_result"
        }
      ],
      "source": [
        "# All other arithmetic operators in Python work with NumPy, including multiplication,\n",
        "# subtraction, division, power (**), and modulo (%). For example, this expression\n",
        "# produces output equivalent to [1*2, 2*3, 3*4]:\n",
        "a * b"
      ]
    },
    {
      "cell_type": "code",
      "execution_count": null,
      "metadata": {
        "colab": {
          "base_uri": "https://localhost:8080/",
          "height": 189
        },
        "id": "p_lWubl_eIdG",
        "outputId": "5430d815-d59d-4432-92a6-fb83761fa8b9"
      },
      "outputs": [
        {
          "ename": "ValueError",
          "evalue": "operands could not be broadcast together with shapes (3,) (4,) ",
          "output_type": "error",
          "traceback": [
            "\u001b[0;31m---------------------------------------------------------------------------\u001b[0m",
            "\u001b[0;31mValueError\u001b[0m                                Traceback (most recent call last)",
            "\u001b[0;32m<ipython-input-94-d51d500088d6>\u001b[0m in \u001b[0;36m<cell line: 7>\u001b[0;34m()\u001b[0m\n\u001b[1;32m      5\u001b[0m \u001b[0ma\u001b[0m \u001b[0;34m=\u001b[0m \u001b[0mnp\u001b[0m\u001b[0;34m.\u001b[0m\u001b[0marray\u001b[0m\u001b[0;34m(\u001b[0m\u001b[0;34m[\u001b[0m\u001b[0;36m1\u001b[0m\u001b[0;34m,\u001b[0m \u001b[0;36m2\u001b[0m\u001b[0;34m,\u001b[0m \u001b[0;36m3\u001b[0m\u001b[0;34m]\u001b[0m\u001b[0;34m)\u001b[0m\u001b[0;34m\u001b[0m\u001b[0;34m\u001b[0m\u001b[0m\n\u001b[1;32m      6\u001b[0m \u001b[0mb\u001b[0m \u001b[0;34m=\u001b[0m \u001b[0mnp\u001b[0m\u001b[0;34m.\u001b[0m\u001b[0marray\u001b[0m\u001b[0;34m(\u001b[0m\u001b[0;34m[\u001b[0m\u001b[0;36m2\u001b[0m\u001b[0;34m,\u001b[0m \u001b[0;36m3\u001b[0m\u001b[0;34m,\u001b[0m \u001b[0;36m4\u001b[0m\u001b[0;34m,\u001b[0m \u001b[0;36m5\u001b[0m\u001b[0;34m]\u001b[0m\u001b[0;34m)\u001b[0m\u001b[0;34m\u001b[0m\u001b[0;34m\u001b[0m\u001b[0m\n\u001b[0;32m----> 7\u001b[0;31m \u001b[0ma\u001b[0m\u001b[0;34m+\u001b[0m\u001b[0mb\u001b[0m\u001b[0;34m\u001b[0m\u001b[0;34m\u001b[0m\u001b[0m\n\u001b[0m",
            "\u001b[0;31mValueError\u001b[0m: operands could not be broadcast together with shapes (3,) (4,) "
          ]
        }
      ],
      "source": [
        "# What if the arrays aren't the same size? There are some circumstances where\n",
        "# there is no clear way to perform the addition, and in those situations, NumPy\n",
        "# will raise an exception. For example, there is no way to add a 3-element array\n",
        "# to a 4-element array:\n",
        "\n",
        "a = np.array([1, 2, 3])\n",
        "b = np.array([2, 3, 4, 5])\n",
        "a+b"
      ]
    },
    {
      "cell_type": "code",
      "execution_count": null,
      "metadata": {
        "colab": {
          "base_uri": "https://localhost:8080/"
        },
        "id": "GHuwvqVXjawu",
        "outputId": "114637e4-242a-4602-eb4d-a28e9ea61bc9"
      },
      "outputs": [
        {
          "name": "stdout",
          "output_type": "stream",
          "text": [
            "a.shape: (2, 3) b.shape: (3,)\n"
          ]
        },
        {
          "data": {
            "text/plain": [
              "array([[ 3,  5,  7],\n",
              "       [12, 14, 16]])"
            ]
          },
          "execution_count": 96,
          "metadata": {},
          "output_type": "execute_result"
        }
      ],
      "source": [
        "# But there are some situations where this works. Here are two arrays that are\n",
        "# clearly not the same size, but can be added together anyway.\n",
        "a = np.array([\n",
        "    [1, 2, 3],\n",
        "    [10, 11, 12]\n",
        "])\n",
        "\n",
        "b = np.array([2, 3, 4])\n",
        "\n",
        "print(\"a.shape:\", a.shape, \"b.shape:\", b.shape)\n",
        "\n",
        "# We see the output of this addition is eqivalent to the following array:\n",
        "# [\n",
        "#     [1+2, 2+3, 3+4],\n",
        "#     [10+2, 11+3, 12+4]\n",
        "# ]\n",
        "a+b"
      ]
    },
    {
      "cell_type": "code",
      "execution_count": null,
      "metadata": {
        "colab": {
          "base_uri": "https://localhost:8080/"
        },
        "id": "R6KDSDDRmiD5",
        "outputId": "122d9e1b-3c94-4152-9d4d-e9142a89a4a1"
      },
      "outputs": [
        {
          "name": "stdout",
          "output_type": "stream",
          "text": [
            "(2, 3) (3,)\n"
          ]
        }
      ],
      "source": [
        "# The addition in the cell above is an example of broadcasting: under some situations,\n",
        "# NumPy can manipulate the shape of arrays so they can be added together.\n",
        "# Broadcasting has 3 rules:\n",
        "#\n",
        "# Rule 1: If the two arrays differ in their number of dimensions, the shape of\n",
        "#         the one with fewer dimensions is padded with ones on its leading (left) side.\n",
        "# Rule 2: If the shape of the two arrays does not match in any dimension, the\n",
        "#         array with shape equal to 1 in that dimension is stretched to match\n",
        "#         the other shape.\n",
        "# Rule 3: If in any dimension the sizes disagree and neither is equal to 1, an\n",
        "#         error is raised.\n",
        "#\n",
        "# To follow along with arrays a and b:\n",
        "print(a.shape, b.shape)"
      ]
    },
    {
      "cell_type": "code",
      "execution_count": null,
      "metadata": {
        "colab": {
          "base_uri": "https://localhost:8080/"
        },
        "id": "Icca4v-DnOJ4",
        "outputId": "6f24895c-1362-4d74-c402-53ca222bf202"
      },
      "outputs": [
        {
          "name": "stdout",
          "output_type": "stream",
          "text": [
            "(2, 3) (1, 3)\n"
          ]
        }
      ],
      "source": [
        "# Rule 1: a and b differ in their number of dimensions. We will pad another dimension\n",
        "# on the left side of b.\n",
        "print(a.shape, b.reshape(1, -1).shape)"
      ]
    },
    {
      "cell_type": "code",
      "execution_count": null,
      "metadata": {
        "colab": {
          "base_uri": "https://localhost:8080/"
        },
        "id": "-chCp9hHnXSk",
        "outputId": "ad9508d7-c58b-4a39-82cf-f69da2314dfd"
      },
      "outputs": [
        {
          "name": "stdout",
          "output_type": "stream",
          "text": [
            "(2, 3) (2, 3)\n"
          ]
        }
      ],
      "source": [
        "# Rule 2: The shape of a and b does not match in the first (0) dimension. a\n",
        "# has 2 rows, but b only has 1. Because b only has 1 row, we can duplicate that\n",
        "# row so it equals the number of rows in a:\n",
        "print(a.shape, b.reshape(1, -1).repeat(2, axis=0).shape)"
      ]
    },
    {
      "cell_type": "code",
      "execution_count": null,
      "metadata": {
        "colab": {
          "base_uri": "https://localhost:8080/"
        },
        "id": "qWaJOhWznlJR",
        "outputId": "854238ae-6d37-4d1d-d1e7-04056f8f3bb8"
      },
      "outputs": [
        {
          "name": "stdout",
          "output_type": "stream",
          "text": [
            "[[ 1  2  3]\n",
            " [10 11 12]]\n",
            "\n",
            "[[2 3 4]\n",
            " [2 3 4]]\n"
          ]
        }
      ],
      "source": [
        "# Now they are the same shape, so they can be added. Here is what they look like\n",
        "# after broadcasting:\n",
        "print(a)\n",
        "print()\n",
        "print(b.reshape(1, -1).repeat(2, axis=0))"
      ]
    },
    {
      "cell_type": "code",
      "execution_count": null,
      "metadata": {
        "colab": {
          "base_uri": "https://localhost:8080/"
        },
        "id": "64lEZ3e1nwII",
        "outputId": "94cc3feb-60ec-4608-ba40-a274eca36613"
      },
      "outputs": [
        {
          "name": "stdout",
          "output_type": "stream",
          "text": [
            "(3,) (4,)\n"
          ]
        }
      ],
      "source": [
        "# We now understand why our earlier example with differently-sized arrays did not\n",
        "# work: their shapes cannot be broadcast. In this example:\n",
        "#\n",
        "# Rule 1 does not apply, since both arrays have an equal number of dimensions.\n",
        "#\n",
        "# Rule 2 does not apply. The dimensions do not match, but none of them are 1.\n",
        "#\n",
        "# Rule 3 applies: both arrays disagree along the same dimension and neither\n",
        "# is equal to 1. Consequently, an error is raised.\n",
        "\n",
        "a = np.array([1, 2, 3])\n",
        "b = np.array([2, 3, 4, 5])\n",
        "print(a.shape, b.shape)"
      ]
    },
    {
      "cell_type": "markdown",
      "metadata": {
        "id": "Jprq4T631RTG"
      },
      "source": [
        "## NumPy and aggregations"
      ]
    },
    {
      "cell_type": "code",
      "execution_count": null,
      "metadata": {
        "colab": {
          "base_uri": "https://localhost:8080/"
        },
        "id": "p54o7WDZ1UR0",
        "outputId": "efcee4cd-e8d0-4a46-9305-82544010dac3"
      },
      "outputs": [
        {
          "name": "stdout",
          "output_type": "stream",
          "text": [
            "Sum: 39\n",
            "Mean: 6.5\n",
            "Median: 6.5\n",
            "Standard deviation: 4.573474244670748\n",
            "Minimum: 1\n",
            "Maximum: 12\n"
          ]
        }
      ],
      "source": [
        "# We can perform aggregations like summming, mean, median, and standard deviation\n",
        "# on arrays. By default, these aggregations apply to all values in an array,\n",
        "# regardless of its structure.\n",
        "a = np.array([\n",
        "    [1, 2, 3],\n",
        "    [10, 11, 12]\n",
        "])\n",
        "\n",
        "print(\"Sum:\", np.sum(a))\n",
        "print(\"Mean:\", np.mean(a))\n",
        "print(\"Median:\", np.median(a))\n",
        "print(\"Standard deviation:\", np.std(a))\n",
        "print(\"Minimum:\", np.min(a))\n",
        "print(\"Maximum:\", np.max(a))"
      ]
    },
    {
      "cell_type": "code",
      "execution_count": null,
      "metadata": {
        "colab": {
          "base_uri": "https://localhost:8080/"
        },
        "id": "1Soi_ZcK1vYE",
        "outputId": "8cf5bdb2-789b-4514-f77b-547fc0b8d69a"
      },
      "outputs": [
        {
          "name": "stdout",
          "output_type": "stream",
          "text": [
            "Sum: [11 13 15]\n",
            "Mean: [5.5 6.5 7.5]\n",
            "Median: [5.5 6.5 7.5]\n",
            "Standard deviation: [4.5 4.5 4.5]\n",
            "Minimum: [1 2 3]\n",
            "Maximum: [10 11 12]\n"
          ]
        }
      ],
      "source": [
        "# However, we can make use of the axis parameter to control how these aggregations\n",
        "# are performed.\n",
        "#\n",
        "# For example, in our 2D NumPy array, giving axis=0 means the aggregation is\n",
        "# performed accross the rows (dimension 0) leaving only columns (dimension 1):\n",
        "print(\"Sum:\", np.sum(a, axis=0))\n",
        "print(\"Mean:\", np.mean(a, axis=0))\n",
        "print(\"Median:\", np.median(a, axis=0))\n",
        "print(\"Standard deviation:\", np.std(a, axis=0))\n",
        "print(\"Minimum:\", np.min(a, axis=0))\n",
        "print(\"Maximum:\", np.max(a, axis=0))"
      ]
    },
    {
      "cell_type": "code",
      "execution_count": null,
      "metadata": {
        "colab": {
          "base_uri": "https://localhost:8080/"
        },
        "id": "g999tm2f2BO5",
        "outputId": "d70cc26c-d2f6-45d4-97a0-9b77627e8e1e"
      },
      "outputs": [
        {
          "name": "stdout",
          "output_type": "stream",
          "text": [
            "Sum: [ 6 33]\n",
            "Mean: [ 2. 11.]\n",
            "Median: [ 2. 11.]\n",
            "Standard deviation: [0.81649658 0.81649658]\n",
            "Minimum: [ 1 10]\n",
            "Maximum: [ 3 12]\n"
          ]
        }
      ],
      "source": [
        "# Gving axis=1 means the aggregation is performed accross the columns\n",
        "# (dimension 1) leaving only rows (dimension 0):\n",
        "print(\"Sum:\", np.sum(a, axis=1))\n",
        "print(\"Mean:\", np.mean(a, axis=1))\n",
        "print(\"Median:\", np.median(a, axis=1))\n",
        "print(\"Standard deviation:\", np.std(a, axis=1))\n",
        "print(\"Minimum:\", np.min(a, axis=1))\n",
        "print(\"Maximum:\", np.max(a, axis=1))"
      ]
    },
    {
      "cell_type": "markdown",
      "metadata": {
        "id": "Ivgn6uIBomrj"
      },
      "source": [
        "## Boolean logic and masking"
      ]
    },
    {
      "cell_type": "code",
      "execution_count": null,
      "metadata": {
        "colab": {
          "base_uri": "https://localhost:8080/"
        },
        "id": "VCZZCel-ovB4",
        "outputId": "e666d740-0de3-4213-9d8e-e162748ac8bf"
      },
      "outputs": [
        {
          "data": {
            "text/plain": [
              "array([ True, False, False])"
            ]
          },
          "execution_count": 106,
          "metadata": {},
          "output_type": "execute_result"
        }
      ],
      "source": [
        "# A final point regarding NumPy arrays is that they work with Python relational\n",
        "# operators like <, <=, >, >=, ==, and !=.\n",
        "#\n",
        "# The comparisons are performed element-wise like other mathematical operations.\n",
        "# They produce equivalently-sized arrays filled with Boolean values.\n",
        "#\n",
        "# Here, we see an example where the resulting NumPy array is True for array\n",
        "# elements where the condition is true, and False where it is not.\n",
        "np.array([1, 2, 3]) < 2"
      ]
    },
    {
      "cell_type": "code",
      "execution_count": null,
      "metadata": {
        "colab": {
          "base_uri": "https://localhost:8080/"
        },
        "id": "8RjwcE88pEtZ",
        "outputId": "fc10b218-4c58-4584-b1cc-6588db5ced21"
      },
      "outputs": [
        {
          "data": {
            "text/plain": [
              "array([ True, False,  True])"
            ]
          },
          "execution_count": 107,
          "metadata": {},
          "output_type": "execute_result"
        }
      ],
      "source": [
        "# We can perform array comparisons too. The resulting array is equivalent to the\n",
        "# following: [1 < 10, 2 < 1, 3 < 8]:\n",
        "\n",
        "a = np.array([1, 2, 3])\n",
        "b = np.array([10, 1, 8])\n",
        "\n",
        "a < b"
      ]
    },
    {
      "cell_type": "code",
      "execution_count": null,
      "metadata": {
        "colab": {
          "base_uri": "https://localhost:8080/"
        },
        "id": "pTQNye6xpRpy",
        "outputId": "c437134a-e4bf-4611-c7e5-d47a252f5044"
      },
      "outputs": [
        {
          "data": {
            "text/plain": [
              "array([[False,  True, False],\n",
              "       [False,  True, False]])"
            ]
          },
          "execution_count": 108,
          "metadata": {},
          "output_type": "execute_result"
        }
      ],
      "source": [
        "# Broadcasting rules apply here too:\n",
        "a = np.array([\n",
        "    [1, 2, 3],\n",
        "    [2, 3, 4]\n",
        "])\n",
        "b = np.array([1, 10, 0])\n",
        "\n",
        "a < b"
      ]
    },
    {
      "cell_type": "code",
      "execution_count": null,
      "metadata": {
        "colab": {
          "base_uri": "https://localhost:8080/"
        },
        "id": "z-RfDH0Dpb2U",
        "outputId": "1aa182c1-bff6-4857-f6aa-bbe6dd21ce9a"
      },
      "outputs": [
        {
          "data": {
            "text/plain": [
              "array([2])"
            ]
          },
          "execution_count": 110,
          "metadata": {},
          "output_type": "execute_result"
        }
      ],
      "source": [
        "# Related to boolean logic is the concept of masking: using a boolean-valued\n",
        "# array to select elements of another.\n",
        "#\n",
        "# As a simple example, this code will retrieve the 1st element of array a:\n",
        "\n",
        "a = np.array([1, 2, 10, 50, 72, 4, 100])\n",
        "b = np.array([False, True, False, False, False, False, False])\n",
        "a[b]"
      ]
    },
    {
      "cell_type": "code",
      "execution_count": null,
      "metadata": {
        "colab": {
          "base_uri": "https://localhost:8080/"
        },
        "id": "OmFYywfDpspL",
        "outputId": "f9c9c162-bdf9-45e5-a1fe-a5d3830577a5"
      },
      "outputs": [
        {
          "data": {
            "text/plain": [
              "array([ 2, 72,  4])"
            ]
          },
          "execution_count": 111,
          "metadata": {},
          "output_type": "execute_result"
        }
      ],
      "source": [
        "# This code will retrieve several elements from a:\n",
        "a = np.array([1, 2, 10, 50, 72, 4, 100])\n",
        "b = np.array([False, True, False, False, True, True, False])\n",
        "a[b]"
      ]
    },
    {
      "cell_type": "code",
      "execution_count": null,
      "metadata": {
        "colab": {
          "base_uri": "https://localhost:8080/"
        },
        "id": "6DU2KPdUpwZp",
        "outputId": "50479b9b-6e12-4e66-cf9f-dc5297c43ee4"
      },
      "outputs": [
        {
          "data": {
            "text/plain": [
              "array([1, 2, 4])"
            ]
          },
          "execution_count": 112,
          "metadata": {},
          "output_type": "execute_result"
        }
      ],
      "source": [
        "# This code allows us to retrieve specific elements where a given condition\n",
        "# is true:\n",
        "a = np.array([1, 2, 10, 50, 72, 4, 100])\n",
        "a[a < 10]"
      ]
    }
  ],
  "metadata": {
    "colab": {
      "provenance": []
    },
    "kernelspec": {
      "display_name": "Python 3",
      "name": "python3"
    },
    "language_info": {
      "codemirror_mode": {
        "name": "ipython",
        "version": 3
      },
      "file_extension": ".py",
      "mimetype": "text/x-python",
      "name": "python",
      "nbconvert_exporter": "python",
      "pygments_lexer": "ipython3",
      "version": "3.10.5"
    }
  },
  "nbformat": 4,
  "nbformat_minor": 0
}
