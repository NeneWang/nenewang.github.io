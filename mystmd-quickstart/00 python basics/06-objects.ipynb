{
 "cells": [
  {
   "cell_type": "markdown",
   "id": "3ab16a52",
   "metadata": {},
   "source": [
    "---\n",
    "title: 6 - How to structure classes\n",
    "subtitle: Classes and objects\n",
    "---"
   ]
  },
  {
   "cell_type": "code",
   "execution_count": 4,
   "id": "0d4a0d09",
   "metadata": {},
   "outputs": [],
   "source": [
    "class HumanBeing(object):  \n",
    "    def __init__(self, first_name, eye_color):  \n",
    "        self.first_name = first_name  \n",
    "        self.eye_color = eye_color  \n",
    "        self.position = 0  \n",
    "    def walk_steps(self, steps):  \n",
    "        self.position += steps  "
   ]
  },
  {
   "cell_type": "code",
   "execution_count": 5,
   "id": "5272b2f8",
   "metadata": {},
   "outputs": [],
   "source": [
    "Sandra = HumanBeing('Sandra', 'blue')  "
   ]
  },
  {
   "cell_type": "code",
   "execution_count": 6,
   "id": "a6249bc3",
   "metadata": {},
   "outputs": [
    {
     "data": {
      "text/plain": [
       "'Sandra'"
      ]
     },
     "execution_count": 6,
     "metadata": {},
     "output_type": "execute_result"
    }
   ],
   "source": [
    "Sandra.first_name  "
   ]
  },
  {
   "cell_type": "code",
   "execution_count": null,
   "id": "ee209ee4",
   "metadata": {},
   "outputs": [],
   "source": []
  }
 ],
 "metadata": {
  "kernelspec": {
   "display_name": "windows_base_1",
   "language": "python",
   "name": "python3"
  },
  "language_info": {
   "codemirror_mode": {
    "name": "ipython",
    "version": 3
   },
   "file_extension": ".py",
   "mimetype": "text/x-python",
   "name": "python",
   "nbconvert_exporter": "python",
   "pygments_lexer": "ipython3",
   "version": "3.12.9"
  }
 },
 "nbformat": 4,
 "nbformat_minor": 5
}
