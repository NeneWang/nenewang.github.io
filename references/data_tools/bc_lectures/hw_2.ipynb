{
  "nbformat": 4,
  "nbformat_minor": 0,
  "metadata": {
    "colab": {
      "provenance": []
    },
    "kernelspec": {
      "name": "python3",
      "display_name": "Python 3"
    },
    "language_info": {
      "name": "python"
    }
  },
  "cells": [
    {
      "cell_type": "code",
      "execution_count": null,
      "metadata": {
        "id": "XOjjawxIN6qS"
      },
      "outputs": [],
      "source": []
    },
    {
      "cell_type": "markdown",
      "source": [
        "## Broadcasting\n",
        "\n",
        "### Rules of Broadcosting\n",
        "\n",
        "\n",
        "* Rule 1: If the two arrays differ in their number of dimensions, the shape of the one with fewer dimensions is padded with ones on its leading (left) side.\n",
        "* Rule 2: If the shape of the two arrays does not match in any dimension, the array with shape equal to 1 in that dimension is stretched to match the other shape.\n",
        "* Rule 3: If in any dimension the sizes disagree and neither is equal to 1, an error is raised.\n",
        "\n",
        "\n",
        "\n",
        "### Problem 1.1\n",
        "\n",
        "The arrays can be added together.\n",
        "\n",
        "Rules application:\n",
        "\n",
        "Starts as a.shape = (3, 3)  b.shape= (3, 1)\n",
        "\n",
        "a and b have the same number of dimensions.\n",
        "1.Same, dimensions number. Doesn't apply Rule 1\n",
        "\n",
        "\n",
        "a  and b dont match their shape. Thus, b (the array 1 in the dimension unmatched) is stretched to match a.\n",
        "2. Apply rule 2 to b: a.shape = (3, 3) b.shape(3, 3)\n"
      ],
      "metadata": {
        "id": "uQ_AGWHBONgQ"
      }
    },
    {
      "cell_type": "code",
      "source": [
        "import numpy as np\n",
        "import pandas as pd\n",
        "\n",
        "a = np.array([\n",
        "  [ 1 , 1 , 2 ] ,\n",
        "  [ 3 , 2 , 1 ] ,\n",
        "  [ 1 , 9 , 1 ]\n",
        "])\n",
        "\n",
        "b = np.array([\n",
        "  [ 1 ],\n",
        "  [ 2 ],\n",
        "  [ 3 ]\n",
        "])\n",
        "\n",
        "print(a.shape, b.shape)\n",
        "a + b\n"
      ],
      "metadata": {
        "colab": {
          "base_uri": "https://localhost:8080/"
        },
        "id": "qOX08iTEkdJW",
        "outputId": "670c73da-7e86-44f0-9e42-7669663a0d1b"
      },
      "execution_count": null,
      "outputs": [
        {
          "output_type": "stream",
          "name": "stdout",
          "text": [
            "(3, 3) (3, 1)\n"
          ]
        },
        {
          "output_type": "execute_result",
          "data": {
            "text/plain": [
              "array([[ 2,  2,  3],\n",
              "       [ 5,  4,  3],\n",
              "       [ 4, 12,  4]])"
            ]
          },
          "metadata": {},
          "execution_count": 91
        }
      ]
    },
    {
      "cell_type": "markdown",
      "source": [
        "\n",
        "### Problem 1.2\n",
        "\n",
        "The arrays can be added together.\n",
        "\n",
        "A.shape = (2, 2, 2), b.shape = (2,)\n",
        "\n",
        "Rules application:\n",
        "\n",
        "1. Apply Rule 1 to b: a.shape = (2,2,2), b.shape = (2, 1, 1)\n",
        "\n",
        "\n",
        "don't have the same number of dimensions therefore, the one with fewest dimensions (b) is padded with ones.\n",
        "\n",
        "b becomes:\n",
        "\n",
        "```\n",
        "[[[10, 11]]]\n",
        "```\n",
        "\n",
        "2. Apply Rule 2 to b: a.shape(2, 2, 2), b.shape(2, 2, 2)\n",
        "\n",
        "b becomes\n",
        "```\n",
        "[\n",
        "[\n",
        "  [10, 11],\n",
        "  [10, 11]\n",
        "\n",
        "],\n",
        "[\n",
        "  [10, 11],\n",
        "  [10, 11]\n",
        "]\n",
        "\n",
        "]\n",
        "```\n",
        "\n",
        "\n",
        "\n",
        "\n"
      ],
      "metadata": {
        "id": "vI6ohB76kdnv"
      }
    },
    {
      "cell_type": "code",
      "source": [
        "a = [[[1, 2], [3, 1]],\n",
        "     [[8, 7], [9, 1]]]\n",
        "\n",
        "b = [10, 11]\n",
        "\n",
        "print(np.array(a).shape, np.array(b).shape)\n",
        "np.array(a) + np.array(b)"
      ],
      "metadata": {
        "colab": {
          "base_uri": "https://localhost:8080/"
        },
        "id": "pK4DwIz5lhxc",
        "outputId": "056f1e56-3f59-4957-823a-1f3b89235b1b"
      },
      "execution_count": null,
      "outputs": [
        {
          "output_type": "stream",
          "name": "stdout",
          "text": [
            "(2, 2, 2) (2,)\n"
          ]
        },
        {
          "output_type": "execute_result",
          "data": {
            "text/plain": [
              "array([[[11, 13],\n",
              "        [13, 12]],\n",
              "\n",
              "       [[18, 18],\n",
              "        [19, 12]]])"
            ]
          },
          "metadata": {},
          "execution_count": 90
        }
      ]
    },
    {
      "cell_type": "markdown",
      "source": [
        "\n",
        "### Problem 1.3\n",
        "\n",
        "The arrays can be added together.\n",
        "\n",
        "Rules application:\n",
        "\n",
        "Starts with a.shape = (3, ) b.shape = (3, 1)\n",
        "1. Apply rule 1 to a: a.shape = (1, 3) b.shape = (3, 1)\n",
        "\n",
        "a doesn't match number of dimensions. Thus, a (being the smallest dimension wise) is padded to become\n",
        "\n",
        "```\n",
        "[\n",
        "  [1, 2, 3]\n",
        "]\n",
        "```\n",
        "\n",
        "2. Apply rule 2 to a and b: a.shape = (3, 3) b.shape= (3, 3)\n",
        "\n",
        "Dimension size doesnt match, thus,\n",
        "\n",
        "a becomes:\n",
        "\n",
        "```\n",
        "[\n",
        "  [1, 2, 3],\n",
        "  [1, 2, 3],\n",
        "  [1, 2, 3]\n",
        "]\n",
        "```\n",
        "\n",
        "b becomes:\n",
        "\n",
        "```\n",
        "[\n",
        "  [10, 10, 10],\n",
        "  [11, 11, 11],\n",
        "  [12, 12, 12]\n",
        "]\n",
        "```\n",
        "\n"
      ],
      "metadata": {
        "id": "HchP_eiUmAKa"
      }
    },
    {
      "cell_type": "code",
      "source": [
        "a = [1, 2, 3]\n",
        "b = [\n",
        "    [10],\n",
        "    [11],\n",
        "    [12]\n",
        "]\n",
        "\n",
        "\n",
        "print(np.array(a).shape, np.array(b).shape)\n",
        "np.array(a) + np.array(b)"
      ],
      "metadata": {
        "colab": {
          "base_uri": "https://localhost:8080/"
        },
        "id": "vmrofqiTnVlF",
        "outputId": "03da2214-e806-4976-e84f-083b3c3acf01"
      },
      "execution_count": null,
      "outputs": [
        {
          "output_type": "stream",
          "name": "stdout",
          "text": [
            "(3,) (3, 1)\n"
          ]
        },
        {
          "output_type": "execute_result",
          "data": {
            "text/plain": [
              "array([[11, 12, 13],\n",
              "       [12, 13, 14],\n",
              "       [13, 14, 15]])"
            ]
          },
          "metadata": {},
          "execution_count": 94
        }
      ]
    },
    {
      "cell_type": "code",
      "source": [],
      "metadata": {
        "id": "iKgl_ETHnsjE"
      },
      "execution_count": null,
      "outputs": []
    },
    {
      "cell_type": "markdown",
      "source": [
        "\n",
        "\n",
        "### Problem 1.4\n",
        "\n",
        "The arrays cannot be added together.\n",
        "\n",
        "Rules Steps:\n",
        "\n",
        "Starts with a.shape = (2, 2, 2) b.shape = (4,)\n",
        "\n",
        "1. Apply Rule 1 to b: a.shape = (2, 2, 2), b.shape = (4, 1, 1)\n",
        "\n",
        "a and b dont match dimension count, therefore, b, which is the one with fewer dimensions, gets padded and becomes:\n",
        "\n",
        "```\n",
        "[[10, 11, 12, 13]]\n",
        "```\n",
        "\n",
        "2. Apply rule 2 to b: a.shape = (2, 2, 2) b.shape = (4, 4, 4)\n",
        "\n",
        "a and b dont match the shape, thus, b gets stretched.\n",
        "\n",
        "\n",
        "`a` doesnt have array with 1 size, thus doesn't stretch.\n",
        "\n",
        "`b` becomes:\n",
        "\n",
        "```\n",
        "[\n",
        "  [[10, 11, 12, 13],  [10, 11, 12, 13]],\n",
        "  [[10, 11, 12, 13],  [10, 11, 12, 13]]\n",
        "]\n",
        "```\n",
        "\n",
        "3. If in any dimension the sizes disagree and neither is equal to 1, an error is raised. **Which occurs**\n"
      ],
      "metadata": {
        "id": "3h5WPBpEn0wy"
      }
    },
    {
      "cell_type": "code",
      "source": [
        "\n",
        "a = [\n",
        " [[1, 2], [3, 1]],\n",
        " [[8, 7], [9, 1]]\n",
        "]\n",
        "\n",
        "b = [10, 11, 12, 13]\n",
        "\n",
        "print(np.array(a).shape, np.array(b).shape)\n",
        "np.array(a) + np.array(b)"
      ],
      "metadata": {
        "colab": {
          "base_uri": "https://localhost:8080/",
          "height": 193
        },
        "id": "_yIXKudqoaUk",
        "outputId": "c47d2b6e-9e52-473c-d65d-b398344cb9ff"
      },
      "execution_count": null,
      "outputs": [
        {
          "output_type": "stream",
          "name": "stdout",
          "text": [
            "(2, 2, 2) (4,)\n"
          ]
        },
        {
          "output_type": "error",
          "ename": "ValueError",
          "evalue": "operands could not be broadcast together with shapes (2,2,2) (4,) ",
          "traceback": [
            "\u001b[0;31m---------------------------------------------------------------------------\u001b[0m",
            "\u001b[0;31mValueError\u001b[0m                                Traceback (most recent call last)",
            "\u001b[0;32m<ipython-input-95-fb7ac00b2572>\u001b[0m in \u001b[0;36m<cell line: 9>\u001b[0;34m()\u001b[0m\n\u001b[1;32m      7\u001b[0m \u001b[0;34m\u001b[0m\u001b[0m\n\u001b[1;32m      8\u001b[0m \u001b[0mprint\u001b[0m\u001b[0;34m(\u001b[0m\u001b[0mnp\u001b[0m\u001b[0;34m.\u001b[0m\u001b[0marray\u001b[0m\u001b[0;34m(\u001b[0m\u001b[0ma\u001b[0m\u001b[0;34m)\u001b[0m\u001b[0;34m.\u001b[0m\u001b[0mshape\u001b[0m\u001b[0;34m,\u001b[0m \u001b[0mnp\u001b[0m\u001b[0;34m.\u001b[0m\u001b[0marray\u001b[0m\u001b[0;34m(\u001b[0m\u001b[0mb\u001b[0m\u001b[0;34m)\u001b[0m\u001b[0;34m.\u001b[0m\u001b[0mshape\u001b[0m\u001b[0;34m)\u001b[0m\u001b[0;34m\u001b[0m\u001b[0;34m\u001b[0m\u001b[0m\n\u001b[0;32m----> 9\u001b[0;31m \u001b[0mnp\u001b[0m\u001b[0;34m.\u001b[0m\u001b[0marray\u001b[0m\u001b[0;34m(\u001b[0m\u001b[0ma\u001b[0m\u001b[0;34m)\u001b[0m \u001b[0;34m+\u001b[0m \u001b[0mnp\u001b[0m\u001b[0;34m.\u001b[0m\u001b[0marray\u001b[0m\u001b[0;34m(\u001b[0m\u001b[0mb\u001b[0m\u001b[0;34m)\u001b[0m\u001b[0;34m\u001b[0m\u001b[0;34m\u001b[0m\u001b[0m\n\u001b[0m",
            "\u001b[0;31mValueError\u001b[0m: operands could not be broadcast together with shapes (2,2,2) (4,) "
          ]
        }
      ]
    },
    {
      "cell_type": "markdown",
      "source": [
        "### Problem 1.5\n",
        "\n",
        "The arrays cannot be added together.\n",
        "\n",
        "Rule Steps:\n",
        "Starts with a = (2, 1, 1, 1) b= (2,)\n",
        "\n",
        "1. Apply rule 1 to b: a.shape = (2, 1, 1, 1), b.shape = (2, 1, 1, 1)\n",
        "\n",
        "`a` and `b` dont match, dimension `b`.` `b` Being the smallest dimension count, is padded into:\n",
        "\n",
        "```\n",
        "[\n",
        "[[[[3, 4]]]\n",
        "]\n",
        "```\n",
        "\n",
        "2. Apply rule 2 to a and b: a.shape = (2, 2, 2, 2), b.shape = (2, 2, 2, 2)\n",
        "\n",
        "`a` Is stretched to match `b`\n",
        "\n",
        "`a` Becomes:\n",
        "\n",
        "```\n",
        "[\n",
        "    [[[ 1, 1 ]]] ,\n",
        "    [[[ 2, 2 ]]]\n",
        "]\n",
        "\n",
        "```\n",
        "`b` becomes:\n",
        "\n",
        "```\n",
        "[\n",
        "  [[[[3, 4]]],\n",
        "  [[[[3, 4]]]\n",
        "]\n",
        "```\n"
      ],
      "metadata": {
        "id": "Y1g65heJqh3o"
      }
    },
    {
      "cell_type": "code",
      "source": [
        "a =  [\n",
        "    [[[ 1 ]]] ,\n",
        "    [[[ 2 ]]]\n",
        "]\n",
        "\n",
        "b = [3, 4]\n",
        "\n",
        "print(np.array(a).shape, np.array(b).shape)\n",
        "\n",
        "np.array(a) + np.array(b)"
      ],
      "metadata": {
        "id": "cV7qt_trqIhn",
        "colab": {
          "base_uri": "https://localhost:8080/"
        },
        "outputId": "122e871a-ea24-4fa4-d2a8-33697b6f8726"
      },
      "execution_count": null,
      "outputs": [
        {
          "output_type": "stream",
          "name": "stdout",
          "text": [
            "(2, 1, 1, 1) (2,)\n"
          ]
        },
        {
          "output_type": "execute_result",
          "data": {
            "text/plain": [
              "array([[[[4, 5]]],\n",
              "\n",
              "\n",
              "       [[[5, 6]]]])"
            ]
          },
          "metadata": {},
          "execution_count": 97
        }
      ]
    },
    {
      "cell_type": "code",
      "source": [
        "# prompt: Load data from solar.csv to numpy array\n",
        "\n",
        "import numpy as np\n",
        "SOLAR_PATH = 'solar.csv'\n",
        "# SOLAR_PATH = '/content/drive/MyDrive/College/CISC 3225 Data Tools/solar.csv'\n",
        "solar_data = np.loadtxt(SOLAR_PATH, delimiter=',', unpack=True, dtype=float)\n",
        "solar_data"
      ],
      "metadata": {
        "colab": {
          "base_uri": "https://localhost:8080/"
        },
        "id": "VUbwCZC_94tI",
        "outputId": "7c62709a-1d45-4839-988f-eaaec21cd872"
      },
      "execution_count": null,
      "outputs": [
        {
          "output_type": "execute_result",
          "data": {
            "text/plain": [
              "array([[277.97178749, 276.79002882, 196.02083865, ..., 281.2492984 ,\n",
              "        308.79714745, 255.70751034],\n",
              "       [290.87848694,   0.        , 126.81410304, ..., 145.13885509,\n",
              "        109.84031278, 122.4024413 ],\n",
              "       [ 16.27913217,  92.19335012, 127.24963504, ...,  68.75927169,\n",
              "        135.8464653 , 117.49570871]])"
            ]
          },
          "metadata": {},
          "execution_count": 1
        }
      ]
    },
    {
      "cell_type": "code",
      "source": [
        "# 1. How many watts were generated all year?\n",
        "\n",
        "total_watts_tracked = solar_data.sum()\n",
        "print(f'The total wats generated all year is {total_watts_tracked}')"
      ],
      "metadata": {
        "id": "ZCedlyFt_wmg",
        "colab": {
          "base_uri": "https://localhost:8080/"
        },
        "outputId": "8f526677-b23b-47f0-b7af-616ebc65a599"
      },
      "execution_count": null,
      "outputs": [
        {
          "output_type": "stream",
          "name": "stdout",
          "text": [
            "The total wats generated all year is 218010.26201750195\n"
          ]
        }
      ]
    },
    {
      "cell_type": "code",
      "source": [
        "# 2. What is the highest number of watts produced by the solar panels? The lowest?\n",
        "\n",
        "maxwatts = solar_data.sum()\n",
        "minwatts = solar_data.min()\n",
        "\n",
        "print(f\"The max watts was {maxwatts} the min watts was {minwatts}\")"
      ],
      "metadata": {
        "colab": {
          "base_uri": "https://localhost:8080/"
        },
        "id": "oMRUHgeJAFuY",
        "outputId": "ad7d0306-85d6-4aa9-d55b-3129705c9893"
      },
      "execution_count": null,
      "outputs": [
        {
          "output_type": "stream",
          "name": "stdout",
          "text": [
            "The max watts was 218010.26201750195 the min watts was 0.0\n"
          ]
        }
      ]
    },
    {
      "cell_type": "code",
      "source": [
        "\n",
        "# Slicing Example\n",
        "# This retursn the first date's data\n",
        "print(solar_data[: ,0])\n",
        "\n",
        "# This returns The Mornings data for all 365 days.\n",
        "print(solar_data[0, :])\n",
        "print(solar_data[0, :].size)"
      ],
      "metadata": {
        "colab": {
          "base_uri": "https://localhost:8080/"
        },
        "id": "QvSAgFg5xhz1",
        "outputId": "c855acc9-2ac4-4bc0-f8ec-eb427f7164d3"
      },
      "execution_count": null,
      "outputs": [
        {
          "output_type": "stream",
          "name": "stdout",
          "text": [
            "[277.97178749 290.87848694  16.27913217]\n",
            "[277.97178749 276.79002882 196.02083865 298.0649882  257.07155815\n",
            " 323.3315445  354.72384951 305.53166165 247.08196228 250.0727405\n",
            " 360.41314527 320.67253413 297.39000994 281.8230464  296.57061378\n",
            " 280.60487936 281.21314398 291.57324724 254.92957753 266.46231132\n",
            " 345.83453839 281.95477835 226.33411278 287.58506279 349.02474298\n",
            " 314.70930858 345.89214387 298.16135496 402.49143062 244.26786802\n",
            " 331.79256436 219.33022089 292.22285761 334.93237956 193.48329016\n",
            " 338.72024457 276.17043266 339.38620293 288.21911655 300.75926327\n",
            " 281.96247581 328.32448015 397.46910172 362.87152189 369.84014752\n",
            " 296.44084198 312.9437752  269.5589366  197.90647833 240.92915937\n",
            " 303.45432347 411.89313156 344.19742053 234.02224665 288.34534299\n",
            " 300.7235094  260.14211589 305.65574146 257.03789698 270.00389702\n",
            " 237.22595068 190.74448256 205.79473695 279.45882213 262.2269118\n",
            " 270.22961005 270.90582318 381.01098468 415.11591147 323.13891637\n",
            " 349.24958995 256.40699221 375.29789414 295.70561006 272.9664981\n",
            " 345.41875581 292.50845519 383.34344674 294.86812589 264.6860879\n",
            " 260.41100049 309.38724294 347.33408068 334.95414622 231.0601384\n",
            " 350.50906157 382.8928405  384.91409957 268.97990918 270.48273322\n",
            " 249.92398743 337.68663013 340.31291673 387.31185558 251.59412412\n",
            " 287.4638057  326.65917018 432.28028016 298.13825089 234.93783512\n",
            " 231.70428142 395.75635525 166.23303073 236.54342375 374.2423315\n",
            " 216.71867403 345.52898025 198.45399601 376.04806957 301.82011341\n",
            " 281.81859258 337.33308855 288.41916525 371.14261944 248.54996895\n",
            " 325.77826193 365.08831246 284.62732148 272.33928723 292.53441494\n",
            " 243.32879881 263.60864416 219.93194018 338.09054594 388.4624339\n",
            " 233.87474676 342.24387573 304.503441   337.38683073 240.60135031\n",
            " 294.99870506 330.40151758 212.05807709 257.86669469 284.52880006\n",
            " 267.51601475 321.15947143 202.10714805 322.14257978 306.45403025\n",
            " 297.02785305 277.29525727 305.98040174 254.36223653 357.45478308\n",
            " 371.10464405 245.97948494 286.6487245  339.17967764 317.03114301\n",
            " 328.05498349 286.27735823 264.04309816 424.92367892 345.04870978\n",
            " 330.2136799  254.52240532 327.74608301 276.15158862 353.02903101\n",
            " 303.06609943 296.73484368 289.50187594 379.38502757 265.15567904\n",
            " 219.19376732 339.1613866  257.22191006 343.50872756 257.00018765\n",
            " 354.72543055 284.75586659 289.17274071 383.30260677 315.97982031\n",
            " 223.2659107  329.18643497 344.11888534 332.03974251 360.0770108\n",
            " 334.86489265 312.67452028 300.74661006 224.22761728 285.97547584\n",
            " 257.64902249 321.61039796 270.46954457 178.03695184 269.21633082\n",
            " 287.71545599 328.37336311 260.84482043 369.64421344 284.49026826\n",
            " 316.48214903 282.3670188  299.97030599 300.67538588 223.2924831\n",
            " 255.20735484 333.06566431 365.22150208 280.47802114 213.66783035\n",
            " 208.06135649 325.35067214 300.40391499 259.56451164 235.56365733\n",
            " 335.12894714 344.80472138 243.26247385 239.50948545 357.1428002\n",
            " 282.77829647 320.287783   272.96316004 405.82972044 277.88312146\n",
            " 199.66366677 383.82905334 279.86826038 226.47116401 304.38277014\n",
            " 251.18456486 254.853155   221.50711191 272.50395898 315.3868635\n",
            " 267.35627165 340.19684155 326.23188268 333.85109285 252.71715025\n",
            " 300.83699913 319.67207774 294.28715569 384.49628605 316.67427116\n",
            " 266.88397791 322.03174586 286.27340825 317.44705799 398.42121715\n",
            " 282.89996907 415.8523701  324.89411457 337.89316494 337.25225073\n",
            " 322.88867548 283.82902298 286.68950134 410.84974903 301.06948188\n",
            " 308.59805444 350.20256183 347.2196263  331.70829149 322.95162242\n",
            " 221.98352189 294.61806769 311.24524357 239.5859121  315.09506791\n",
            " 266.25704349 211.29921302 276.12497814 288.69035859 328.11161815\n",
            " 331.86925995 277.9107491  383.14755748 326.59885639 338.36050513\n",
            " 328.09463158 338.0257379  348.99621195 345.33519665 316.79745857\n",
            " 226.72669027 335.19304868 270.56983404 368.46526014 260.02682995\n",
            " 303.60188453 271.13364381 292.85706847 326.17041641 281.3967847\n",
            " 302.20193512 303.11613238 258.54767563 284.87616186 338.74606637\n",
            " 235.49180341 332.84375981 446.40434207 339.96633038 278.94065343\n",
            " 329.15656574 282.93798032 341.42620771 330.28351294 261.82647175\n",
            " 237.84670619 359.18857965 290.5097298  244.39141588 349.82457186\n",
            " 192.32652192 286.04816074 305.81720333 280.59772478 269.96688774\n",
            " 312.07024061 326.68588781 326.20830055 267.32393573 229.26186768\n",
            " 290.41114897 332.99136589 320.24902003 258.26585388 221.05976434\n",
            " 285.32756071 323.48065011 327.15143018 312.36083707 312.84503661\n",
            " 228.83913955 280.64735484 196.09749443 330.6825097  255.16299832\n",
            " 241.25850036 344.69928852 310.55899105 206.72233829 307.56048683\n",
            " 395.71033727 280.35768182 339.54725157 315.68325343 384.62734277\n",
            " 297.86472408 364.72689967 285.26642346 249.49822387 368.39802872\n",
            " 349.65388589 271.88786882 299.03644896 352.86966068 304.79553982\n",
            " 273.71750802 303.69906151 309.87075014 359.79033593 346.46767928\n",
            " 325.51242728 346.76967216 281.2492984  308.79714745 255.70751034]\n",
            "365\n"
          ]
        }
      ]
    },
    {
      "cell_type": "code",
      "source": [
        "# 3. What is the highest number of watts in the morning, afternoon, and evening? The lowest?\n",
        "\n",
        "high_morning = solar_data[0, :].max()\n",
        "low_morning = solar_data[0, :].min()\n",
        "\n",
        "high_afternoon = solar_data[1, :].max()\n",
        "low_afternoon = solar_data[1, :].min()\n",
        "\n",
        "high_evening = solar_data[2, :].max()\n",
        "low_evening = solar_data[2, :].min()\n",
        "\n",
        "print(f'Highest in the morning {high_morning}; Lowest in the morning {low_morning}')\n",
        "\n",
        "print(f'Highest in the afternoon {high_afternoon}; Lowest in the afternoon {low_afternoon}')\n",
        "\n",
        "print(f'Highest in the evening {high_evening}; lowest in the evening {low_evening}')\n"
      ],
      "metadata": {
        "id": "1KUIigrtAfHg",
        "colab": {
          "base_uri": "https://localhost:8080/"
        },
        "outputId": "31b9dd22-2dec-4b4c-d0f9-81335b92d24e"
      },
      "execution_count": null,
      "outputs": [
        {
          "output_type": "stream",
          "name": "stdout",
          "text": [
            "Highest in the morning 446.4043420712958; Lowest in the morning 166.23303072555183\n",
            "Highest in the afternoon 450.23976606026287; Lowest in the afternoon 0.0\n",
            "Highest in the evening 247.0150989425381; lowest in the evening 0.0\n"
          ]
        }
      ]
    },
    {
      "cell_type": "code",
      "source": [
        "# 4. What is the average number of watts generated in January (i.e., over all readings in the first 31 days)?\n",
        "\n",
        "print('Expected to be 3x31 data points.', solar_data[:, :31].size)\n",
        "\n",
        "print('Average Watts generated in January is', solar_data.mean())\n"
      ],
      "metadata": {
        "colab": {
          "base_uri": "https://localhost:8080/"
        },
        "id": "1frikHZozBkw",
        "outputId": "dc8ada1d-5efa-461e-8abd-1e8042e3357f"
      },
      "execution_count": null,
      "outputs": [
        {
          "output_type": "stream",
          "name": "stdout",
          "text": [
            "Expected to be 3x31 data points. 93\n",
            "Average Watts generated in January is 199.0961296963488\n"
          ]
        }
      ]
    },
    {
      "cell_type": "code",
      "source": [
        "# 5. What is the average number of watts generated on January afternoons (i.e, afternoons for the first 31 days)?\n",
        "\n",
        "\n",
        "print('Average Watts generated in January is', solar_data[:, 31].mean())\n"
      ],
      "metadata": {
        "id": "G0DF0KSYA7jy",
        "colab": {
          "base_uri": "https://localhost:8080/"
        },
        "outputId": "30240ca5-d27c-4c8a-897d-ec074f11a9fc"
      },
      "execution_count": null,
      "outputs": [
        {
          "output_type": "stream",
          "name": "stdout",
          "text": [
            "Average Watts generated in January is 164.02476587667297\n"
          ]
        }
      ]
    },
    {
      "cell_type": "code",
      "source": [
        "# 6. How many readings had less than 50 watts?\n",
        "\n",
        "print('Readings less than 50 Watts')\n",
        "# Using Boolean Masking\n",
        "print(solar_data[solar_data < 50])\n",
        "\n",
        "print('====' * 25)\n",
        "\n",
        "print('Count of readings with less than 50 watts is', solar_data[solar_data < 50].size)\n"
      ],
      "metadata": {
        "colab": {
          "base_uri": "https://localhost:8080/"
        },
        "id": "ZFtGff_kxvO9",
        "outputId": "9dc80a68-4c15-4db5-d572-09843b2501bf"
      },
      "execution_count": null,
      "outputs": [
        {
          "output_type": "stream",
          "name": "stdout",
          "text": [
            "Readings less than 50 Watts\n",
            "[ 0.          0.          0.          4.09148506 12.19999701 14.45621789\n",
            " 45.37754339 24.44543584  0.          0.          0.          0.\n",
            " 18.01491844  0.          0.          0.         12.56182753 34.7829153\n",
            " 47.71191015  0.         29.48418713 21.86929189 35.93366083 22.17300337\n",
            "  0.         28.56012225 28.80883646  0.         18.60087398 49.31796749\n",
            " 16.27913217 45.84034965 22.97553758 41.7863011  46.21146056 26.24018571\n",
            " 28.40806268 25.77362073  0.         20.93617433  8.71818903 32.43833018\n",
            " 44.18550817 37.84127142 21.36222526  0.          0.         11.26057002\n",
            " 40.14334792 26.97432177 41.48968367  0.          1.84339645  0.\n",
            "  6.94242372 13.09344703  6.86414807  0.          0.         48.77761773\n",
            "  0.          4.63597121  2.75527944 34.77675643 31.20393819 26.99315168\n",
            " 34.24662036  3.50133252 41.99697577 35.06228729  4.7110161  29.24230955\n",
            " 34.91838034 42.52749499  0.         34.73850948 10.19063849 41.64785623\n",
            " 27.5184292  35.35715723 44.35177846 22.52272123 14.93137889  0.\n",
            "  0.         46.00902179  0.         45.69034777 41.47899131  0.\n",
            " 49.1168513  44.04169607]\n",
            "====================================================================================================\n",
            "Count of readings with less than 50 watts is 92\n"
          ]
        }
      ]
    },
    {
      "cell_type": "code",
      "source": [
        "# 7. Of the readings with less than 50 watts, what was the highest amount\n",
        "\n",
        "print('Among the readings with less than 50 Watts, the highest amount was', solar_data[solar_data < 50].max())\n",
        "\n",
        "\n"
      ],
      "metadata": {
        "colab": {
          "base_uri": "https://localhost:8080/"
        },
        "id": "PSSInpmU28tv",
        "outputId": "7ef6e0eb-6e2c-47b7-e5a2-adb9a71d168e"
      },
      "execution_count": null,
      "outputs": [
        {
          "output_type": "stream",
          "name": "stdout",
          "text": [
            "Among the readings with less than 50 Watts, the highest amount was 49.317967494803355\n"
          ]
        }
      ]
    },
    {
      "cell_type": "code",
      "source": [
        "# 8. How many evening had less than 50 watts?\n",
        "\n",
        "\n",
        "mornings = solar_data[0][:]\n",
        "\n",
        "print('mornings with less than 50 watts:', mornings[mornings < 50].size)\n",
        "\n",
        "\n",
        "afternoon = solar_data[1][:]\n",
        "\n",
        "print('afternoon with less than 50 watts:', afternoon[afternoon < 50].size)\n",
        "\n",
        "evenings = solar_data[2][:]\n",
        "\n",
        "print('Evenings with less than 50 watts:', evenings[evenings < 50].size)\n",
        "\n",
        "# Great they add up to 92!"
      ],
      "metadata": {
        "colab": {
          "base_uri": "https://localhost:8080/"
        },
        "id": "S0D2o7fv5Bi0",
        "outputId": "f7f3097e-17e9-4b12-8d39-bd56570f571d"
      },
      "execution_count": null,
      "outputs": [
        {
          "output_type": "stream",
          "name": "stdout",
          "text": [
            "mornings with less than 50 watts: 0\n",
            "afternoon with less than 50 watts: 30\n",
            "Evenings with less than 50 watts: 62\n"
          ]
        }
      ]
    },
    {
      "cell_type": "code",
      "source": [
        "# 9. How many days had less than 500 watts total?\n",
        "\n",
        "date_sum_series = solar_data.sum(axis = 0)\n",
        "print(date_sum_series[:10])\n",
        "print(date_sum_series.size) # Expected to be 365 sums\n",
        "\n",
        "print('days with less than 500 wats are', date_sum_series[date_sum_series < 500].size)\n",
        "\n",
        "# print('==='*19)\n",
        "# print(date_sum_series)\n"
      ],
      "metadata": {
        "colab": {
          "base_uri": "https://localhost:8080/"
        },
        "id": "KkfDkfhl5fj4",
        "outputId": "12517384-f959-46b3-ee9b-ae67241716fd"
      },
      "execution_count": null,
      "outputs": [
        {
          "output_type": "stream",
          "name": "stdout",
          "text": [
            "[585.1294066  368.98337894 450.08457673 554.34535032 583.01645608\n",
            " 763.04941888 613.83940043 495.07496892 785.66097354 444.7628872 ]\n",
            "365\n",
            "days with less than 500 wats are 89\n"
          ]
        }
      ]
    },
    {
      "cell_type": "code",
      "source": [],
      "metadata": {
        "id": "oDAlgaHk76-F"
      },
      "execution_count": null,
      "outputs": []
    },
    {
      "cell_type": "markdown",
      "source": [
        "#### 10. In what direction are the solar panels facing?\n",
        "\n",
        "According to this video short ^1 and some logic, knowing that the sun rises in the east and set in the west. East Facing produces more energy in the mornings. While West Facing produce more energy during the afternoons. The best direction to go is South ^2 and the worst is the North ^2\n",
        "\n",
        "^1 https://www.youtube.com/watch?v=aAUqAYssXY0&ab_channel=SolarQuotes\n",
        "\n",
        "![](https://www.solarpoweraustralia.com.au/wp-content/uploads/2019/01/image.png)\n",
        "\n",
        "> From https://www.solarpoweraustralia.com.au/east-and-west-facing-solar-panels"
      ],
      "metadata": {
        "id": "SWJS4SSk9qqM"
      }
    },
    {
      "cell_type": "code",
      "source": [
        "## Comparing the morning, afternoon, evening average\n",
        "\n",
        "print('='*10, 'Morning, Afternoon, Evening', '='*10)\n",
        "print(solar_data.mean(axis=1))\n"
      ],
      "metadata": {
        "colab": {
          "base_uri": "https://localhost:8080/"
        },
        "id": "iPpqqyD28_h5",
        "outputId": "33f7cb10-2394-4111-a918-6a2cf7a9e00a"
      },
      "execution_count": null,
      "outputs": [
        {
          "output_type": "stream",
          "name": "stdout",
          "text": [
            "========== Morning, Afternoon, Evening ==========\n",
            "[300.38834891 198.39523217  98.50480801]\n"
          ]
        }
      ]
    },
    {
      "cell_type": "markdown",
      "source": [
        "Therefore since, on average, more energy is produced in the mornings. The Solar panel is likely facing **East**."
      ],
      "metadata": {
        "id": "vYv_EnGhC54Z"
      }
    }
  ]
}