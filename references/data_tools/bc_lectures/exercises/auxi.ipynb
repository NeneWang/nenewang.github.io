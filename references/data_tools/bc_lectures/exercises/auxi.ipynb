{
 "cells": [
  {
   "cell_type": "code",
   "execution_count": 4,
   "metadata": {},
   "outputs": [
    {
     "data": {
      "text/html": [
       "<div>\n",
       "<style scoped>\n",
       "    .dataframe tbody tr th:only-of-type {\n",
       "        vertical-align: middle;\n",
       "    }\n",
       "\n",
       "    .dataframe tbody tr th {\n",
       "        vertical-align: top;\n",
       "    }\n",
       "\n",
       "    .dataframe thead th {\n",
       "        text-align: right;\n",
       "    }\n",
       "</style>\n",
       "<table border=\"1\" class=\"dataframe\">\n",
       "  <thead>\n",
       "    <tr style=\"text-align: right;\">\n",
       "      <th></th>\n",
       "      <th>A</th>\n",
       "      <th>B</th>\n",
       "      <th>C</th>\n",
       "      <th>D</th>\n",
       "    </tr>\n",
       "  </thead>\n",
       "  <tbody>\n",
       "    <tr>\n",
       "      <th>a</th>\n",
       "      <td>1</td>\n",
       "      <td>5</td>\n",
       "      <td>9</td>\n",
       "      <td>13</td>\n",
       "    </tr>\n",
       "    <tr>\n",
       "      <th>b</th>\n",
       "      <td>2</td>\n",
       "      <td>6</td>\n",
       "      <td>10</td>\n",
       "      <td>14</td>\n",
       "    </tr>\n",
       "    <tr>\n",
       "      <th>c</th>\n",
       "      <td>3</td>\n",
       "      <td>7</td>\n",
       "      <td>11</td>\n",
       "      <td>15</td>\n",
       "    </tr>\n",
       "    <tr>\n",
       "      <th>d</th>\n",
       "      <td>4</td>\n",
       "      <td>8</td>\n",
       "      <td>12</td>\n",
       "      <td>16</td>\n",
       "    </tr>\n",
       "  </tbody>\n",
       "</table>\n",
       "</div>"
      ],
      "text/plain": [
       "   A  B   C   D\n",
       "a  1  5   9  13\n",
       "b  2  6  10  14\n",
       "c  3  7  11  15\n",
       "d  4  8  12  16"
      ]
     },
     "execution_count": 4,
     "metadata": {},
     "output_type": "execute_result"
    }
   ],
   "source": [
    "import pandas as pd\n",
    "\n",
    "# Sample DataFrame ex1\n",
    "data = {\n",
    "    'A': [1, 2, 3, 4],\n",
    "    'B': [5, 6, 7, 8],\n",
    "    'C': [9, 10, 11, 12],\n",
    "    'D': [13, 14, 15, 16]\n",
    "}\n",
    "df = pd.DataFrame(data, index=['a', 'b', 'c', 'd'])\n",
    "df.head()"
   ]
  },
  {
   "cell_type": "markdown",
   "metadata": {},
   "source": []
  },
  {
   "cell_type": "markdown",
   "metadata": {},
   "source": [
    "Task:\n",
    "1. Select the value in the first row and second column using iloc.\n",
    "2. Select the value in the row with label 'c' and column 'B' using loc.\n",
    "3. Select the first two rows and the first three columns using iloc.\n",
    "4. Select rows 'b' to 'd' and columns 'B' and 'C' using loc."
   ]
  },
  {
   "cell_type": "markdown",
   "metadata": {},
   "source": [
    "Task\n",
    "1. Set the value in the second row and third column to 100 using iloc.\n",
    "2. Set the value in the row with label 'd' and column 'C' to 200 using loc.\n",
    "3. Set the entire column 'B' to zero using iloc.\n",
    "4. Set the values in rows 'a' and 'b' and columns 'A' and 'D' to 50 using loc."
   ]
  },
  {
   "cell_type": "markdown",
   "metadata": {},
   "source": [
    "Task\n",
    "\n",
    "1. Select rows where column 'A' is greater than 2 using loc.\n",
    "2. Select columns 'B' and 'C' for rows where column 'A' is greater than 2 using loc."
   ]
  },
  {
   "cell_type": "code",
   "execution_count": 11,
   "metadata": {},
   "outputs": [
    {
     "name": "stdout",
     "output_type": "stream",
     "text": [
      "5\n",
      "\n",
      "7\n",
      "\n",
      "   A  B   C\n",
      "a  1  5   9\n",
      "b  2  6  10\n",
      "\n",
      "   B   D\n",
      "b  6  14\n",
      "c  7  15\n",
      "d  8  16\n"
     ]
    }
   ],
   "source": [
    "value_1st_row_2nd_col = df.iloc[0, 1]\n",
    "print(value_1st_row_2nd_col)\n",
    "print()\n",
    "\n",
    "value_c_B = df.loc['c', 'B']\n",
    "print(value_c_B)\n",
    "print()\n",
    "\n",
    "subset_first_two_rows_first_three_cols = df.iloc[:2, :3]\n",
    "print(subset_first_two_rows_first_three_cols)\n",
    "print()\n",
    "subset_b_to_d_B_and_C = df.loc['b':'d', ['B', 'D']]\n",
    "print(subset_b_to_d_B_and_C)\n",
    "\n"
   ]
  },
  {
   "cell_type": "code",
   "execution_count": null,
   "metadata": {},
   "outputs": [],
   "source": [
    "df.iloc[1, 2] = 100\n",
    "print(df)\n"
   ]
  },
  {
   "cell_type": "code",
   "execution_count": 15,
   "metadata": {},
   "outputs": [
    {
     "name": "stdout",
     "output_type": "stream",
     "text": [
      "   A  B   C   D\n",
      "c  3  7  11  15\n",
      "d  4  8  12  16\n"
     ]
    }
   ],
   "source": [
    "import pandas as pd\n",
    "\n",
    "# Sample DataFrame ex1\n",
    "data = {\n",
    "    'A': [1, 2, 3, 4],\n",
    "    'B': [5, 6, 7, 8],\n",
    "    'C': [9, 10, 11, 12],\n",
    "    'D': [13, 14, 15, 16]\n",
    "}\n",
    "df = pd.DataFrame(data, index=['a', 'b', 'c', 'd'])\n",
    "df.head()\n",
    "\n",
    "rows_A_greater_than_2 = df.loc[df['A'] > 2]\n",
    "print(rows_A_greater_than_2)\n"
   ]
  },
  {
   "cell_type": "code",
   "execution_count": 16,
   "metadata": {},
   "outputs": [
    {
     "name": "stdout",
     "output_type": "stream",
     "text": [
      "   A  B    C   D\n",
      "a  1  5    9  13\n",
      "b  2  6   10  14\n",
      "c  3  7   11  15\n",
      "d  4  8  200  16\n"
     ]
    }
   ],
   "source": [
    "df.loc['d', 'C'] = 200\n",
    "print(df)\n"
   ]
  },
  {
   "cell_type": "code",
   "execution_count": 17,
   "metadata": {},
   "outputs": [
    {
     "name": "stdout",
     "output_type": "stream",
     "text": [
      "   A  B    C   D\n",
      "a  1  0    9  13\n",
      "b  2  0   10  14\n",
      "c  3  0   11  15\n",
      "d  4  0  200  16\n"
     ]
    }
   ],
   "source": [
    "df.iloc[:, 1] = 0\n",
    "print(df)\n"
   ]
  },
  {
   "cell_type": "code",
   "execution_count": 18,
   "metadata": {},
   "outputs": [
    {
     "name": "stdout",
     "output_type": "stream",
     "text": [
      "    A  B    C   D\n",
      "a  50  0    9  50\n",
      "b  50  0   10  50\n",
      "c   3  0   11  15\n",
      "d   4  0  200  16\n"
     ]
    }
   ],
   "source": [
    "df.loc['a':'b', ['A', 'D']] = 50\n",
    "print(df)\n"
   ]
  },
  {
   "cell_type": "code",
   "execution_count": 14,
   "metadata": {},
   "outputs": [
    {
     "name": "stdout",
     "output_type": "stream",
     "text": [
      "   B   C\n",
      "c  7  11\n",
      "d  8  12\n"
     ]
    }
   ],
   "source": [
    "import pandas as pd\n",
    "\n",
    "# Sample DataFrame ex1\n",
    "data = {\n",
    "    'A': [1, 2, 3, 4],\n",
    "    'B': [5, 6, 7, 8],\n",
    "    'C': [9, 10, 11, 12],\n",
    "    'D': [13, 14, 15, 16]\n",
    "}\n",
    "df = pd.DataFrame(data, index=['a', 'b', 'c', 'd'])\n",
    "df.head()\n",
    "\n",
    "columns_B_and_C_where_A_greater_than_2 = df.loc[df['A'] > 2, ['B', 'C']]\n",
    "print(columns_B_and_C_where_A_greater_than_2)\n"
   ]
  },
  {
   "cell_type": "code",
   "execution_count": 9,
   "metadata": {},
   "outputs": [
    {
     "name": "stdout",
     "output_type": "stream",
     "text": [
      "   B   D\n",
      "b  6  14\n",
      "c  7  15\n",
      "d  8  16\n"
     ]
    }
   ],
   "source": []
  },
  {
   "cell_type": "code",
   "execution_count": null,
   "metadata": {},
   "outputs": [],
   "source": []
  }
 ],
 "metadata": {
  "kernelspec": {
   "display_name": "Python 3",
   "language": "python",
   "name": "python3"
  },
  "language_info": {
   "codemirror_mode": {
    "name": "ipython",
    "version": 3
   },
   "file_extension": ".py",
   "mimetype": "text/x-python",
   "name": "python",
   "nbconvert_exporter": "python",
   "pygments_lexer": "ipython3",
   "version": "3.10.5"
  }
 },
 "nbformat": 4,
 "nbformat_minor": 2
}
