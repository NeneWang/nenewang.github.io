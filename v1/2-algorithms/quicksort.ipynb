{
 "cells": [
  {
   "cell_type": "code",
   "execution_count": 1,
   "metadata": {},
   "outputs": [
    {
     "name": "stdout",
     "output_type": "stream",
     "text": [
      "Sorted array: [2, 4, 5, 6, 7, 8, 9, 11, 12, 13, 19, 21]\n"
     ]
    }
   ],
   "source": [
    "def partition(array, start, end):\n",
    "    pivot = array[end]\n",
    "    i = start - 1\n",
    "    for j in range(start, end):\n",
    "        if array[j] <= pivot:\n",
    "            i += 1\n",
    "            array[i], array[j] = array[j], array[i]\n",
    "    array[i + 1], array[end] = array[end], array[i + 1]\n",
    "    return i + 1\n",
    "\n",
    "def quicksort(array, start, end):\n",
    "    if start < end:\n",
    "        pivot_index = partition(array, start, end)\n",
    "        quicksort(array, start, pivot_index - 1)\n",
    "        quicksort(array, pivot_index + 1, end)\n",
    "\n",
    "# Example usage\n",
    "array = [13, 19, 9, 5, 12, 8, 7, 4, 21, 2, 6, 11]\n",
    "quicksort(array, 0, len(array) - 1)\n",
    "print(\"Sorted array:\", array)\n"
   ]
  },
  {
   "cell_type": "code",
   "execution_count": 2,
   "metadata": {},
   "outputs": [
    {
     "name": "stdout",
     "output_type": "stream",
     "text": [
      "Initial array: [13, 19, 9, 5, 12, 8, 7, 4, 21, 2, 6, 11]\n",
      "\n",
      "Quicksort called on array segment: [13, 19, 9, 5, 12, 8, 7, 4, 21, 2, 6, 11]\n",
      "Partitioning with pivot 11 at index 11\n",
      "Swapped 9 and 13: [9, 19, 13, 5, 12, 8, 7, 4, 21, 2, 6, 11]\n",
      "Swapped 5 and 19: [9, 5, 13, 19, 12, 8, 7, 4, 21, 2, 6, 11]\n",
      "Swapped 8 and 13: [9, 5, 8, 19, 12, 13, 7, 4, 21, 2, 6, 11]\n",
      "Swapped 7 and 19: [9, 5, 8, 7, 12, 13, 19, 4, 21, 2, 6, 11]\n",
      "Swapped 4 and 12: [9, 5, 8, 7, 4, 13, 19, 12, 21, 2, 6, 11]\n",
      "Swapped 2 and 13: [9, 5, 8, 7, 4, 2, 19, 12, 21, 13, 6, 11]\n",
      "Swapped 6 and 19: [9, 5, 8, 7, 4, 2, 6, 12, 21, 13, 19, 11]\n",
      "Moved pivot to index 7: [9, 5, 8, 7, 4, 2, 6, 11, 21, 13, 19, 12]\n",
      "Array after partitioning: [9, 5, 8, 7, 4, 2, 6, 11, 21, 13, 19, 12]\n",
      "\n",
      "Quicksort called on array segment: [9, 5, 8, 7, 4, 2, 6]\n",
      "Partitioning with pivot 6 at index 6\n",
      "Swapped 5 and 9: [5, 9, 8, 7, 4, 2, 6, 11, 21, 13, 19, 12]\n",
      "Swapped 4 and 9: [5, 4, 8, 7, 9, 2, 6, 11, 21, 13, 19, 12]\n",
      "Swapped 2 and 8: [5, 4, 2, 7, 9, 8, 6, 11, 21, 13, 19, 12]\n",
      "Moved pivot to index 3: [5, 4, 2, 6, 9, 8, 7, 11, 21, 13, 19, 12]\n",
      "Array after partitioning: [5, 4, 2, 6, 9, 8, 7, 11, 21, 13, 19, 12]\n",
      "\n",
      "Quicksort called on array segment: [5, 4, 2]\n",
      "Partitioning with pivot 2 at index 2\n",
      "Moved pivot to index 0: [2, 4, 5, 6, 9, 8, 7, 11, 21, 13, 19, 12]\n",
      "Array after partitioning: [2, 4, 5, 6, 9, 8, 7, 11, 21, 13, 19, 12]\n",
      "\n",
      "Quicksort called on array segment: [4, 5]\n",
      "Partitioning with pivot 5 at index 2\n",
      "Swapped 4 and 4: [2, 4, 5, 6, 9, 8, 7, 11, 21, 13, 19, 12]\n",
      "Moved pivot to index 2: [2, 4, 5, 6, 9, 8, 7, 11, 21, 13, 19, 12]\n",
      "Array after partitioning: [2, 4, 5, 6, 9, 8, 7, 11, 21, 13, 19, 12]\n",
      "\n",
      "Quicksort called on array segment: [9, 8, 7]\n",
      "Partitioning with pivot 7 at index 6\n",
      "Moved pivot to index 4: [2, 4, 5, 6, 7, 8, 9, 11, 21, 13, 19, 12]\n",
      "Array after partitioning: [2, 4, 5, 6, 7, 8, 9, 11, 21, 13, 19, 12]\n",
      "\n",
      "Quicksort called on array segment: [8, 9]\n",
      "Partitioning with pivot 9 at index 6\n",
      "Swapped 8 and 8: [2, 4, 5, 6, 7, 8, 9, 11, 21, 13, 19, 12]\n",
      "Moved pivot to index 6: [2, 4, 5, 6, 7, 8, 9, 11, 21, 13, 19, 12]\n",
      "Array after partitioning: [2, 4, 5, 6, 7, 8, 9, 11, 21, 13, 19, 12]\n",
      "\n",
      "Quicksort called on array segment: [21, 13, 19, 12]\n",
      "Partitioning with pivot 12 at index 11\n",
      "Moved pivot to index 8: [2, 4, 5, 6, 7, 8, 9, 11, 12, 13, 19, 21]\n",
      "Array after partitioning: [2, 4, 5, 6, 7, 8, 9, 11, 12, 13, 19, 21]\n",
      "\n",
      "Quicksort called on array segment: [13, 19, 21]\n",
      "Partitioning with pivot 21 at index 11\n",
      "Swapped 13 and 13: [2, 4, 5, 6, 7, 8, 9, 11, 12, 13, 19, 21]\n",
      "Swapped 19 and 19: [2, 4, 5, 6, 7, 8, 9, 11, 12, 13, 19, 21]\n",
      "Moved pivot to index 11: [2, 4, 5, 6, 7, 8, 9, 11, 12, 13, 19, 21]\n",
      "Array after partitioning: [2, 4, 5, 6, 7, 8, 9, 11, 12, 13, 19, 21]\n",
      "\n",
      "Quicksort called on array segment: [13, 19]\n",
      "Partitioning with pivot 19 at index 10\n",
      "Swapped 13 and 13: [2, 4, 5, 6, 7, 8, 9, 11, 12, 13, 19, 21]\n",
      "Moved pivot to index 10: [2, 4, 5, 6, 7, 8, 9, 11, 12, 13, 19, 21]\n",
      "Array after partitioning: [2, 4, 5, 6, 7, 8, 9, 11, 12, 13, 19, 21]\n",
      "Sorted array: [2, 4, 5, 6, 7, 8, 9, 11, 12, 13, 19, 21]\n"
     ]
    }
   ],
   "source": [
    "def partition(array, start, end):\n",
    "    pivot = array[end]\n",
    "    i = start - 1\n",
    "    print(f\"Partitioning with pivot {pivot} at index {end}\")\n",
    "    for j in range(start, end):\n",
    "        if array[j] <= pivot:\n",
    "            i += 1\n",
    "            array[i], array[j] = array[j], array[i]\n",
    "            print(f\"Swapped {array[i]} and {array[j]}: {array}\")\n",
    "    array[i + 1], array[end] = array[end], array[i + 1]\n",
    "    print(f\"Moved pivot to index {i + 1}: {array}\")\n",
    "    return i + 1\n",
    "\n",
    "def quicksort(array, start, end):\n",
    "    if start < end:\n",
    "        print(f\"\\nQuicksort called on array segment: {array[start:end+1]}\")\n",
    "        pivot_index = partition(array, start, end)\n",
    "        print(f\"Array after partitioning: {array}\")\n",
    "        quicksort(array, start, pivot_index - 1)\n",
    "        quicksort(array, pivot_index + 1, end)\n",
    "\n",
    "# Example usage\n",
    "array = [13, 19, 9, 5, 12, 8, 7, 4, 21, 2, 6, 11]\n",
    "print(\"Initial array:\", array)\n",
    "quicksort(array, 0, len(array) - 1)\n",
    "print(\"Sorted array:\", array)\n"
   ]
  },
  {
   "cell_type": "code",
   "execution_count": null,
   "metadata": {},
   "outputs": [],
   "source": []
  }
 ],
 "metadata": {
  "kernelspec": {
   "display_name": "Python 3",
   "language": "python",
   "name": "python3"
  },
  "language_info": {
   "codemirror_mode": {
    "name": "ipython",
    "version": 3
   },
   "file_extension": ".py",
   "mimetype": "text/x-python",
   "name": "python",
   "nbconvert_exporter": "python",
   "pygments_lexer": "ipython3",
   "version": "3.10.5"
  }
 },
 "nbformat": 4,
 "nbformat_minor": 2
}
