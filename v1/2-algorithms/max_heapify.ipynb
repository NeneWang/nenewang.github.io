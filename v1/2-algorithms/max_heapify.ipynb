{
 "cells": [
  {
   "cell_type": "code",
   "execution_count": 2,
   "metadata": {},
   "outputs": [
    {
     "name": "stdout",
     "output_type": "stream",
     "text": [
      "checking 3\n",
      "checking 2\n",
      "checking 1\n",
      "checking 0\n",
      "Max-Heap: [10, 9, 7, 5, 1, 3, 2, 4]\n"
     ]
    }
   ],
   "source": [
    "def left(i):\n",
    "    return 2 * i + 1\n",
    "\n",
    "def right(i):\n",
    "    return 2 * i + 2\n",
    "\n",
    "def max_heapify(A, i, heap_size):\n",
    "    l = left(i)\n",
    "    r = right(i)\n",
    "    if l < heap_size and A[l] > A[i]:\n",
    "        largest = l\n",
    "    else:\n",
    "        largest = i\n",
    "    if r < heap_size and A[r] > A[largest]:\n",
    "        largest = r\n",
    "    if largest != i:\n",
    "        A[i], A[largest] = A[largest], A[i]\n",
    "        max_heapify(A, largest, heap_size)\n",
    "\n",
    "def build_max_heap(A):\n",
    "    heap_size = len(A)\n",
    "    for i in range((len(A) // 2) - 1, -1, -1):\n",
    "        print('checking parent', i)\n",
    "        max_heapify(A, i, heap_size)\n",
    "\n",
    "# Example usage\n",
    "A = [4, 10, 3, 5, 1, 7, 2, 9]\n",
    "build_max_heap(A)\n",
    "print(\"Max-Heap:\", A)\n"
   ]
  },
  {
   "cell_type": "code",
   "execution_count": null,
   "metadata": {},
   "outputs": [],
   "source": []
  }
 ],
 "metadata": {
  "kernelspec": {
   "display_name": "Python 3",
   "language": "python",
   "name": "python3"
  },
  "language_info": {
   "codemirror_mode": {
    "name": "ipython",
    "version": 3
   },
   "file_extension": ".py",
   "mimetype": "text/x-python",
   "name": "python",
   "nbconvert_exporter": "python",
   "pygments_lexer": "ipython3",
   "version": "3.10.5"
  }
 },
 "nbformat": 4,
 "nbformat_minor": 2
}
