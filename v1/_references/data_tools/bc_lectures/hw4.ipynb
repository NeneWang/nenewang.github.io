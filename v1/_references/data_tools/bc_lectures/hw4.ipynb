{
  "nbformat": 4,
  "nbformat_minor": 0,
  "metadata": {
    "colab": {
      "provenance": []
    },
    "kernelspec": {
      "name": "python3",
      "display_name": "Python 3"
    },
    "language_info": {
      "name": "python"
    }
  },
  "cells": [
    {
      "cell_type": "markdown",
      "source": [
        "1. How far away is the furthest planet? The closest planet?\n",
        "2. How many planets are missing an orbital period? Missing a mass? Missing a distance?\n",
        "3. How many planets are missing both orbital period and mass?\n",
        "4. How many planets are missing orbital period, mass, and distance?\n",
        "5. How many planets were discovered each year? Do you see a trend? If so, what is it?\n",
        "6. What is the average distance of planets discovered before 2007? After 2007? What do you think this\n",
        "says about the field of astronomy?\n",
        "7. Which exoplanet discovery method found the most planets with missing mass?\n",
        "8. Did the exoplanet discovery method from Question 6 find any planets with a known mass?\n",
        "9. Given the evidence you just found, is it possible to determine planetary mass using the exoplanet\n",
        "discovery method from Question 6? Do some independent research on this exoplanet discovery method\n",
        "to confirm your hypothesis. Include links to reference material in your submission.\n",
        "10. Which are associated with more missing mass values, below-average or above-average orbital periods?\n"
      ],
      "metadata": {
        "id": "eQhJO2gvCvrf"
      }
    },
    {
      "cell_type": "markdown",
      "source": [
        "Explorations are done on the cells below, here is a summary of written responses\n",
        "\n",
        "1. How far away is the furthest planet? The closest planet?\n",
        "\n",
        "```\n",
        "Furthest Planet 8500.0\n",
        "Closest Planet 1.35\n",
        "```\n",
        "\n",
        "2. How many planets are missing an orbital period? Missing a mass? Missing a distance?\n",
        "\n",
        "Missing an orbital period?\n",
        "43\n",
        "\n",
        "Missing a mass?\n",
        "522\n",
        "\n",
        "Missing a distance?\n",
        "227\n",
        "\n",
        "3. How many planets are missing both orbital period and mass?\n",
        "\n",
        "> 43\n",
        "\n",
        "4. How many planets are missing orbital period, mass, and distance?\n",
        "\n",
        "> 11\n",
        "\n",
        "5. How many planets were discovered each year? Do you see a trend? If so, what is it?\n",
        "\n",
        "> The general trend seems that there was an yearly increase that peaked in 2011 and then is trending downwards.\n",
        "Perhaps because is reaching to a point where it becomes harder to invent  or improve technology to find more planets afterwards.\n",
        "\n",
        "6. What is the average distance of planets discovered before 2007? After 2007? What do you think this\n",
        "says about the field of astronomy?\n",
        "\n",
        "```\n",
        "Mean before 2007 142.80625\n",
        "Mean after 2007 315.2525932504441\n",
        "```\n",
        "\n",
        "I think this says about the field of astronomy that over time. astronomy we are equipped to find in a more accurate ways about planets in a at further distances\n",
        "\n",
        "\n",
        "7. Which exoplanet discovery method found the most planets with missing mass?\n",
        "\n",
        "> The 'Transit' method has found the most planets with missing mass\n",
        "\n",
        "\n",
        "8. Did the exoplanet discovery method from Question 6 find any planets with a known mass?\n",
        "\n",
        "> Yes, it did:\n",
        "\n",
        "```\n",
        "\n",
        "       method\tnumber\torbital_period\tmass\tdistance\tyear\n",
        "649\tTransit\t1\t2.70339\t1.47\t178.0\t2013\n",
        "```\n",
        "\n",
        "\n",
        "9. Given the evidence you just found, is it possible to determine planetary mass using the exoplanet\n",
        "discovery method from Question 6? Do some independent research on this exoplanet discovery method\n",
        "to confirm your hypothesis. Include links to reference material in your submission.\n",
        "\n",
        "The transit method measures the intensity of stars and determines the presence of an exoplanet by observing if any portion of the star's intensity is blocked during the transit of an exoplanet^[1]. This blocking of light serves as evidence for the presence of such exoplanets.\n",
        "\n",
        "[^1]: [Source](https://www.planetary.org/articles/down-in-front-the-transit-photometry-method)\n",
        "\n",
        "\n",
        "^1 https://www.planetary.org/articles/down-in-front-the-transit-photometry-method\n",
        "\n",
        "From the available data, it appears challenging, but somehow possible, to determine the mass of exoplanets. Further indenpendent research suggests that alternative methods, such as spectroscopic radial-velocity follow-up or Transit Time Variations (TTVs) measurements, are necessary for detecting the mass of exoplanets^[2].\n",
        "\n",
        "[^2]: [Source](https://platomission.com/2018/05/21/the-transit-method/#:~:text=The%20transit%20method%20allows%20us,Time%20Variations%20(TTVs)%20measurements.)\n",
        "\n",
        "^2 - (https://platomission.com/2018/05/21/the-transit-method/#:~:text=The%20transit%20method%20allows%20us,Time%20Variations%20(TTVs)%20measurements.)\n",
        "\n",
        "\n",
        "In the Astrophysical Journal, the article \"Mass and Orbit Determination from Transit Timing Variations of Exoplanets\" discusses how Perturbation theory can be employed to analyze and determine the precision of transit timing measurements required for characterizing additional planets. Including the inference of characteristics such as the mass of the transiting planet^[3].\n",
        "\n",
        "^3 - (https://iopscience.iop.org/article/10.1086/592230)\n",
        "\n",
        "\n",
        "\n",
        "10. Which are associated with more missing mass values, below-average or above-average orbital periods?\n",
        "\n",
        "Exoplanets containing below average orbital periods, have more missing values.\n",
        "\n",
        "451 vs 28 | A significant difference.\n",
        "\n"
      ],
      "metadata": {
        "id": "nlNlfm-2UJE8"
      }
    },
    {
      "cell_type": "markdown",
      "source": [],
      "metadata": {
        "id": "ps6R_LADS0x1"
      }
    },
    {
      "cell_type": "code",
      "execution_count": 2,
      "metadata": {
        "colab": {
          "base_uri": "https://localhost:8080/",
          "height": 206
        },
        "id": "oEW_WZ8cAIRe",
        "outputId": "9fa48932-7e10-4659-d5bb-22b7ffc07e06"
      },
      "outputs": [
        {
          "output_type": "execute_result",
          "data": {
            "text/plain": [
              "            method  number  orbital_period   mass  distance  year\n",
              "0  Radial Velocity       1         269.300   7.10     77.40  2006\n",
              "1  Radial Velocity       1         874.774   2.21     56.95  2008\n",
              "2  Radial Velocity       1         763.000   2.60     19.84  2011\n",
              "3  Radial Velocity       1         326.030  19.40    110.62  2007\n",
              "4  Radial Velocity       1         516.220  10.50    119.47  2009"
            ],
            "text/html": [
              "\n",
              "  <div id=\"df-6d5647ae-46af-4efb-9247-d34902180168\" class=\"colab-df-container\">\n",
              "    <div>\n",
              "<style scoped>\n",
              "    .dataframe tbody tr th:only-of-type {\n",
              "        vertical-align: middle;\n",
              "    }\n",
              "\n",
              "    .dataframe tbody tr th {\n",
              "        vertical-align: top;\n",
              "    }\n",
              "\n",
              "    .dataframe thead th {\n",
              "        text-align: right;\n",
              "    }\n",
              "</style>\n",
              "<table border=\"1\" class=\"dataframe\">\n",
              "  <thead>\n",
              "    <tr style=\"text-align: right;\">\n",
              "      <th></th>\n",
              "      <th>method</th>\n",
              "      <th>number</th>\n",
              "      <th>orbital_period</th>\n",
              "      <th>mass</th>\n",
              "      <th>distance</th>\n",
              "      <th>year</th>\n",
              "    </tr>\n",
              "  </thead>\n",
              "  <tbody>\n",
              "    <tr>\n",
              "      <th>0</th>\n",
              "      <td>Radial Velocity</td>\n",
              "      <td>1</td>\n",
              "      <td>269.300</td>\n",
              "      <td>7.10</td>\n",
              "      <td>77.40</td>\n",
              "      <td>2006</td>\n",
              "    </tr>\n",
              "    <tr>\n",
              "      <th>1</th>\n",
              "      <td>Radial Velocity</td>\n",
              "      <td>1</td>\n",
              "      <td>874.774</td>\n",
              "      <td>2.21</td>\n",
              "      <td>56.95</td>\n",
              "      <td>2008</td>\n",
              "    </tr>\n",
              "    <tr>\n",
              "      <th>2</th>\n",
              "      <td>Radial Velocity</td>\n",
              "      <td>1</td>\n",
              "      <td>763.000</td>\n",
              "      <td>2.60</td>\n",
              "      <td>19.84</td>\n",
              "      <td>2011</td>\n",
              "    </tr>\n",
              "    <tr>\n",
              "      <th>3</th>\n",
              "      <td>Radial Velocity</td>\n",
              "      <td>1</td>\n",
              "      <td>326.030</td>\n",
              "      <td>19.40</td>\n",
              "      <td>110.62</td>\n",
              "      <td>2007</td>\n",
              "    </tr>\n",
              "    <tr>\n",
              "      <th>4</th>\n",
              "      <td>Radial Velocity</td>\n",
              "      <td>1</td>\n",
              "      <td>516.220</td>\n",
              "      <td>10.50</td>\n",
              "      <td>119.47</td>\n",
              "      <td>2009</td>\n",
              "    </tr>\n",
              "  </tbody>\n",
              "</table>\n",
              "</div>\n",
              "    <div class=\"colab-df-buttons\">\n",
              "\n",
              "  <div class=\"colab-df-container\">\n",
              "    <button class=\"colab-df-convert\" onclick=\"convertToInteractive('df-6d5647ae-46af-4efb-9247-d34902180168')\"\n",
              "            title=\"Convert this dataframe to an interactive table.\"\n",
              "            style=\"display:none;\">\n",
              "\n",
              "  <svg xmlns=\"http://www.w3.org/2000/svg\" height=\"24px\" viewBox=\"0 -960 960 960\">\n",
              "    <path d=\"M120-120v-720h720v720H120Zm60-500h600v-160H180v160Zm220 220h160v-160H400v160Zm0 220h160v-160H400v160ZM180-400h160v-160H180v160Zm440 0h160v-160H620v160ZM180-180h160v-160H180v160Zm440 0h160v-160H620v160Z\"/>\n",
              "  </svg>\n",
              "    </button>\n",
              "\n",
              "  <style>\n",
              "    .colab-df-container {\n",
              "      display:flex;\n",
              "      gap: 12px;\n",
              "    }\n",
              "\n",
              "    .colab-df-convert {\n",
              "      background-color: #E8F0FE;\n",
              "      border: none;\n",
              "      border-radius: 50%;\n",
              "      cursor: pointer;\n",
              "      display: none;\n",
              "      fill: #1967D2;\n",
              "      height: 32px;\n",
              "      padding: 0 0 0 0;\n",
              "      width: 32px;\n",
              "    }\n",
              "\n",
              "    .colab-df-convert:hover {\n",
              "      background-color: #E2EBFA;\n",
              "      box-shadow: 0px 1px 2px rgba(60, 64, 67, 0.3), 0px 1px 3px 1px rgba(60, 64, 67, 0.15);\n",
              "      fill: #174EA6;\n",
              "    }\n",
              "\n",
              "    .colab-df-buttons div {\n",
              "      margin-bottom: 4px;\n",
              "    }\n",
              "\n",
              "    [theme=dark] .colab-df-convert {\n",
              "      background-color: #3B4455;\n",
              "      fill: #D2E3FC;\n",
              "    }\n",
              "\n",
              "    [theme=dark] .colab-df-convert:hover {\n",
              "      background-color: #434B5C;\n",
              "      box-shadow: 0px 1px 3px 1px rgba(0, 0, 0, 0.15);\n",
              "      filter: drop-shadow(0px 1px 2px rgba(0, 0, 0, 0.3));\n",
              "      fill: #FFFFFF;\n",
              "    }\n",
              "  </style>\n",
              "\n",
              "    <script>\n",
              "      const buttonEl =\n",
              "        document.querySelector('#df-6d5647ae-46af-4efb-9247-d34902180168 button.colab-df-convert');\n",
              "      buttonEl.style.display =\n",
              "        google.colab.kernel.accessAllowed ? 'block' : 'none';\n",
              "\n",
              "      async function convertToInteractive(key) {\n",
              "        const element = document.querySelector('#df-6d5647ae-46af-4efb-9247-d34902180168');\n",
              "        const dataTable =\n",
              "          await google.colab.kernel.invokeFunction('convertToInteractive',\n",
              "                                                    [key], {});\n",
              "        if (!dataTable) return;\n",
              "\n",
              "        const docLinkHtml = 'Like what you see? Visit the ' +\n",
              "          '<a target=\"_blank\" href=https://colab.research.google.com/notebooks/data_table.ipynb>data table notebook</a>'\n",
              "          + ' to learn more about interactive tables.';\n",
              "        element.innerHTML = '';\n",
              "        dataTable['output_type'] = 'display_data';\n",
              "        await google.colab.output.renderOutput(dataTable, element);\n",
              "        const docLink = document.createElement('div');\n",
              "        docLink.innerHTML = docLinkHtml;\n",
              "        element.appendChild(docLink);\n",
              "      }\n",
              "    </script>\n",
              "  </div>\n",
              "\n",
              "\n",
              "<div id=\"df-f60026c0-34d0-4780-86ed-bac1de0c1aa0\">\n",
              "  <button class=\"colab-df-quickchart\" onclick=\"quickchart('df-f60026c0-34d0-4780-86ed-bac1de0c1aa0')\"\n",
              "            title=\"Suggest charts\"\n",
              "            style=\"display:none;\">\n",
              "\n",
              "<svg xmlns=\"http://www.w3.org/2000/svg\" height=\"24px\"viewBox=\"0 0 24 24\"\n",
              "     width=\"24px\">\n",
              "    <g>\n",
              "        <path d=\"M19 3H5c-1.1 0-2 .9-2 2v14c0 1.1.9 2 2 2h14c1.1 0 2-.9 2-2V5c0-1.1-.9-2-2-2zM9 17H7v-7h2v7zm4 0h-2V7h2v10zm4 0h-2v-4h2v4z\"/>\n",
              "    </g>\n",
              "</svg>\n",
              "  </button>\n",
              "\n",
              "<style>\n",
              "  .colab-df-quickchart {\n",
              "      --bg-color: #E8F0FE;\n",
              "      --fill-color: #1967D2;\n",
              "      --hover-bg-color: #E2EBFA;\n",
              "      --hover-fill-color: #174EA6;\n",
              "      --disabled-fill-color: #AAA;\n",
              "      --disabled-bg-color: #DDD;\n",
              "  }\n",
              "\n",
              "  [theme=dark] .colab-df-quickchart {\n",
              "      --bg-color: #3B4455;\n",
              "      --fill-color: #D2E3FC;\n",
              "      --hover-bg-color: #434B5C;\n",
              "      --hover-fill-color: #FFFFFF;\n",
              "      --disabled-bg-color: #3B4455;\n",
              "      --disabled-fill-color: #666;\n",
              "  }\n",
              "\n",
              "  .colab-df-quickchart {\n",
              "    background-color: var(--bg-color);\n",
              "    border: none;\n",
              "    border-radius: 50%;\n",
              "    cursor: pointer;\n",
              "    display: none;\n",
              "    fill: var(--fill-color);\n",
              "    height: 32px;\n",
              "    padding: 0;\n",
              "    width: 32px;\n",
              "  }\n",
              "\n",
              "  .colab-df-quickchart:hover {\n",
              "    background-color: var(--hover-bg-color);\n",
              "    box-shadow: 0 1px 2px rgba(60, 64, 67, 0.3), 0 1px 3px 1px rgba(60, 64, 67, 0.15);\n",
              "    fill: var(--button-hover-fill-color);\n",
              "  }\n",
              "\n",
              "  .colab-df-quickchart-complete:disabled,\n",
              "  .colab-df-quickchart-complete:disabled:hover {\n",
              "    background-color: var(--disabled-bg-color);\n",
              "    fill: var(--disabled-fill-color);\n",
              "    box-shadow: none;\n",
              "  }\n",
              "\n",
              "  .colab-df-spinner {\n",
              "    border: 2px solid var(--fill-color);\n",
              "    border-color: transparent;\n",
              "    border-bottom-color: var(--fill-color);\n",
              "    animation:\n",
              "      spin 1s steps(1) infinite;\n",
              "  }\n",
              "\n",
              "  @keyframes spin {\n",
              "    0% {\n",
              "      border-color: transparent;\n",
              "      border-bottom-color: var(--fill-color);\n",
              "      border-left-color: var(--fill-color);\n",
              "    }\n",
              "    20% {\n",
              "      border-color: transparent;\n",
              "      border-left-color: var(--fill-color);\n",
              "      border-top-color: var(--fill-color);\n",
              "    }\n",
              "    30% {\n",
              "      border-color: transparent;\n",
              "      border-left-color: var(--fill-color);\n",
              "      border-top-color: var(--fill-color);\n",
              "      border-right-color: var(--fill-color);\n",
              "    }\n",
              "    40% {\n",
              "      border-color: transparent;\n",
              "      border-right-color: var(--fill-color);\n",
              "      border-top-color: var(--fill-color);\n",
              "    }\n",
              "    60% {\n",
              "      border-color: transparent;\n",
              "      border-right-color: var(--fill-color);\n",
              "    }\n",
              "    80% {\n",
              "      border-color: transparent;\n",
              "      border-right-color: var(--fill-color);\n",
              "      border-bottom-color: var(--fill-color);\n",
              "    }\n",
              "    90% {\n",
              "      border-color: transparent;\n",
              "      border-bottom-color: var(--fill-color);\n",
              "    }\n",
              "  }\n",
              "</style>\n",
              "\n",
              "  <script>\n",
              "    async function quickchart(key) {\n",
              "      const quickchartButtonEl =\n",
              "        document.querySelector('#' + key + ' button');\n",
              "      quickchartButtonEl.disabled = true;  // To prevent multiple clicks.\n",
              "      quickchartButtonEl.classList.add('colab-df-spinner');\n",
              "      try {\n",
              "        const charts = await google.colab.kernel.invokeFunction(\n",
              "            'suggestCharts', [key], {});\n",
              "      } catch (error) {\n",
              "        console.error('Error during call to suggestCharts:', error);\n",
              "      }\n",
              "      quickchartButtonEl.classList.remove('colab-df-spinner');\n",
              "      quickchartButtonEl.classList.add('colab-df-quickchart-complete');\n",
              "    }\n",
              "    (() => {\n",
              "      let quickchartButtonEl =\n",
              "        document.querySelector('#df-f60026c0-34d0-4780-86ed-bac1de0c1aa0 button');\n",
              "      quickchartButtonEl.style.display =\n",
              "        google.colab.kernel.accessAllowed ? 'block' : 'none';\n",
              "    })();\n",
              "  </script>\n",
              "</div>\n",
              "\n",
              "    </div>\n",
              "  </div>\n"
            ],
            "application/vnd.google.colaboratory.intrinsic+json": {
              "type": "dataframe",
              "variable_name": "df",
              "summary": "{\n  \"name\": \"df\",\n  \"rows\": 1035,\n  \"fields\": [\n    {\n      \"column\": \"method\",\n      \"properties\": {\n        \"dtype\": \"category\",\n        \"num_unique_values\": 10,\n        \"samples\": [\n          \"Pulsar Timing\",\n          \"Imaging\",\n          \"Transit Timing Variations\"\n        ],\n        \"semantic_type\": \"\",\n        \"description\": \"\"\n      }\n    },\n    {\n      \"column\": \"number\",\n      \"properties\": {\n        \"dtype\": \"number\",\n        \"std\": 1,\n        \"min\": 1,\n        \"max\": 7,\n        \"num_unique_values\": 7,\n        \"samples\": [\n          1,\n          2,\n          6\n        ],\n        \"semantic_type\": \"\",\n        \"description\": \"\"\n      }\n    },\n    {\n      \"column\": \"orbital_period\",\n      \"properties\": {\n        \"dtype\": \"number\",\n        \"std\": 26014.728304062508,\n        \"min\": 0.09070629,\n        \"max\": 730000.0,\n        \"num_unique_values\": 988,\n        \"samples\": [\n          192.9,\n          152.6,\n          1314.0\n        ],\n        \"semantic_type\": \"\",\n        \"description\": \"\"\n      }\n    },\n    {\n      \"column\": \"mass\",\n      \"properties\": {\n        \"dtype\": \"number\",\n        \"std\": 3.8186166509616046,\n        \"min\": 0.0036,\n        \"max\": 25.0,\n        \"num_unique_values\": 381,\n        \"samples\": [\n          1.24,\n          7.0,\n          0.027\n        ],\n        \"semantic_type\": \"\",\n        \"description\": \"\"\n      }\n    },\n    {\n      \"column\": \"distance\",\n      \"properties\": {\n        \"dtype\": \"number\",\n        \"std\": 733.1164929404421,\n        \"min\": 1.35,\n        \"max\": 8500.0,\n        \"num_unique_values\": 552,\n        \"samples\": [\n          10.1,\n          9.04,\n          7.01\n        ],\n        \"semantic_type\": \"\",\n        \"description\": \"\"\n      }\n    },\n    {\n      \"column\": \"year\",\n      \"properties\": {\n        \"dtype\": \"number\",\n        \"std\": 3,\n        \"min\": 1989,\n        \"max\": 2014,\n        \"num_unique_values\": 23,\n        \"samples\": [\n          2003,\n          1995,\n          2006\n        ],\n        \"semantic_type\": \"\",\n        \"description\": \"\"\n      }\n    }\n  ]\n}"
            }
          },
          "metadata": {},
          "execution_count": 2
        }
      ],
      "source": [
        "import pandas as pd\n",
        "\n",
        "url = 'https://raw.githubusercontent.com/CUNY-CISC-3225/datasets/main/planets.csv'\n",
        "\n",
        "df = pd.read_csv(url)\n",
        "df.head()\n"
      ]
    },
    {
      "cell_type": "code",
      "source": [
        "df.info()"
      ],
      "metadata": {
        "colab": {
          "base_uri": "https://localhost:8080/"
        },
        "id": "WeO-rp8AC3Vs",
        "outputId": "557885b8-ab5b-4ce5-b080-62ade6835da4"
      },
      "execution_count": 3,
      "outputs": [
        {
          "output_type": "stream",
          "name": "stdout",
          "text": [
            "<class 'pandas.core.frame.DataFrame'>\n",
            "RangeIndex: 1035 entries, 0 to 1034\n",
            "Data columns (total 6 columns):\n",
            " #   Column          Non-Null Count  Dtype  \n",
            "---  ------          --------------  -----  \n",
            " 0   method          1035 non-null   object \n",
            " 1   number          1035 non-null   int64  \n",
            " 2   orbital_period  992 non-null    float64\n",
            " 3   mass            513 non-null    float64\n",
            " 4   distance        808 non-null    float64\n",
            " 5   year            1035 non-null   int64  \n",
            "dtypes: float64(3), int64(2), object(1)\n",
            "memory usage: 48.6+ KB\n"
          ]
        }
      ]
    },
    {
      "cell_type": "code",
      "source": [
        "# 1. How far away is the furthest planet? The closest planet?\n",
        "\n",
        "max_distance = df['distance'].max()\n",
        "min_distance = df['distance'].min()\n",
        "\n",
        "print('Furthest Planet', max_distance)\n",
        "print('Closest Planet', min_distance)\n",
        "\n"
      ],
      "metadata": {
        "colab": {
          "base_uri": "https://localhost:8080/"
        },
        "id": "GPUD1ueIEbbU",
        "outputId": "65124c01-6bf5-4e73-8f3c-36819d2a384f"
      },
      "execution_count": 5,
      "outputs": [
        {
          "output_type": "stream",
          "name": "stdout",
          "text": [
            "Furthest Planet 8500.0\n",
            "Closest Planet 1.35\n"
          ]
        }
      ]
    },
    {
      "cell_type": "code",
      "source": [
        "# 2. How many planets are missing an orbital period? Missing a mass? Missing a distance?\n",
        "\n",
        "df.info()"
      ],
      "metadata": {
        "colab": {
          "base_uri": "https://localhost:8080/"
        },
        "id": "ATr05dI_EsON",
        "outputId": "42df278d-37d1-4ca3-c6c0-2c2259ebfa9f"
      },
      "execution_count": 9,
      "outputs": [
        {
          "output_type": "stream",
          "name": "stdout",
          "text": [
            "<class 'pandas.core.frame.DataFrame'>\n",
            "RangeIndex: 1035 entries, 0 to 1034\n",
            "Data columns (total 6 columns):\n",
            " #   Column          Non-Null Count  Dtype  \n",
            "---  ------          --------------  -----  \n",
            " 0   method          1035 non-null   object \n",
            " 1   number          1035 non-null   int64  \n",
            " 2   orbital_period  992 non-null    float64\n",
            " 3   mass            513 non-null    float64\n",
            " 4   distance        808 non-null    float64\n",
            " 5   year            1035 non-null   int64  \n",
            "dtypes: float64(3), int64(2), object(1)\n",
            "memory usage: 48.6+ KB\n"
          ]
        }
      ]
    },
    {
      "cell_type": "code",
      "source": [
        "df.isnull().sum()"
      ],
      "metadata": {
        "colab": {
          "base_uri": "https://localhost:8080/"
        },
        "id": "BcL1FbJXE-Se",
        "outputId": "76860c3b-f7af-4d55-9b7f-7361e1ca7ec5"
      },
      "execution_count": 12,
      "outputs": [
        {
          "output_type": "execute_result",
          "data": {
            "text/plain": [
              "method              0\n",
              "number              0\n",
              "orbital_period     43\n",
              "mass              522\n",
              "distance          227\n",
              "year                0\n",
              "dtype: int64"
            ]
          },
          "metadata": {},
          "execution_count": 12
        }
      ]
    },
    {
      "cell_type": "code",
      "source": [
        "#3. How many planets are missing both orbital period and mass?\n",
        "missing_both = df[(df['orbital_period'].isnull()) & (df['mass'].isnull())]\n",
        "print(missing_both.head())\n"
      ],
      "metadata": {
        "colab": {
          "base_uri": "https://localhost:8080/"
        },
        "id": "CwjYYtvSFmnH",
        "outputId": "65ee3daf-afeb-416e-a1a1-0c50cef7963f"
      },
      "execution_count": 15,
      "outputs": [
        {
          "output_type": "stream",
          "name": "stdout",
          "text": [
            "     method  number  orbital_period  mass  distance  year\n",
            "29  Imaging       1             NaN   NaN     45.52  2005\n",
            "30  Imaging       1             NaN   NaN    165.00  2007\n",
            "31  Imaging       1             NaN   NaN    140.00  2004\n",
            "33  Imaging       1             NaN   NaN       NaN  2008\n",
            "34  Imaging       1             NaN   NaN    145.00  2013\n"
          ]
        }
      ]
    },
    {
      "cell_type": "code",
      "source": [
        "print(len(missing_both))"
      ],
      "metadata": {
        "colab": {
          "base_uri": "https://localhost:8080/"
        },
        "id": "BPGXi2n6Gx4T",
        "outputId": "9fe2cb1a-7136-4860-a3c4-dbc6cbc49e8c"
      },
      "execution_count": 16,
      "outputs": [
        {
          "output_type": "stream",
          "name": "stdout",
          "text": [
            "43\n"
          ]
        }
      ]
    },
    {
      "cell_type": "code",
      "source": [
        "missing_three = df[(df['orbital_period'].isnull()) & (df['mass'].isnull()) & df['distance'].isnull()]\n",
        "print(missing_three.head())\n"
      ],
      "metadata": {
        "colab": {
          "base_uri": "https://localhost:8080/"
        },
        "id": "yPxW1hOwG1wc",
        "outputId": "2f65d502-5d49-4d4c-a95d-4e356a33f453"
      },
      "execution_count": 20,
      "outputs": [
        {
          "output_type": "stream",
          "name": "stdout",
          "text": [
            "                        method  number  orbital_period  mass  distance  year\n",
            "33                     Imaging       1             NaN   NaN       NaN  2008\n",
            "90                     Imaging       1             NaN   NaN       NaN  2006\n",
            "749  Transit Timing Variations       3             NaN   NaN       NaN  2014\n",
            "902               Microlensing       1             NaN   NaN       NaN  2008\n",
            "903               Microlensing       1             NaN   NaN       NaN  2008\n"
          ]
        }
      ]
    },
    {
      "cell_type": "code",
      "source": [
        "print(len(missing_three))"
      ],
      "metadata": {
        "colab": {
          "base_uri": "https://localhost:8080/"
        },
        "id": "3z7IZ3YzHW9H",
        "outputId": "3fd2c27e-7702-4a3d-a21f-6eaf1e27c5c1"
      },
      "execution_count": 21,
      "outputs": [
        {
          "output_type": "stream",
          "name": "stdout",
          "text": [
            "11\n"
          ]
        }
      ]
    },
    {
      "cell_type": "code",
      "source": [
        "# How many planets were discovered each year? Do you see a trend? If so, what is it?\n",
        "\n",
        "discovered_per_year = df.groupby('year').size()\n",
        "discovered_per_year\n",
        "# The general trend seems that there was an yearly increase that peaked in 2011 and then is trending downwards.\n",
        "# Perhaps because is reaching to a point where it becomes harder to invent  or improve technology to find more planets afterwards."
      ],
      "metadata": {
        "colab": {
          "base_uri": "https://localhost:8080/"
        },
        "id": "8LEEaMp5HiMk",
        "outputId": "97e91cbb-3443-4caa-c98c-f0e6a7431684"
      },
      "execution_count": 23,
      "outputs": [
        {
          "output_type": "execute_result",
          "data": {
            "text/plain": [
              "year\n",
              "1989      1\n",
              "1992      2\n",
              "1994      1\n",
              "1995      1\n",
              "1996      6\n",
              "1997      1\n",
              "1998      5\n",
              "1999     15\n",
              "2000     16\n",
              "2001     12\n",
              "2002     32\n",
              "2003     25\n",
              "2004     26\n",
              "2005     39\n",
              "2006     31\n",
              "2007     53\n",
              "2008     74\n",
              "2009     98\n",
              "2010    102\n",
              "2011    185\n",
              "2012    140\n",
              "2013    118\n",
              "2014     52\n",
              "dtype: int64"
            ]
          },
          "metadata": {},
          "execution_count": 23
        }
      ]
    },
    {
      "cell_type": "code",
      "source": [
        "# 6. What is the average distance of planets discovered before 2007? After 2007? What do you think this\n",
        "# says about the field of astronomy?\n",
        "\n",
        "\n",
        "before_2007 = df[df['year'] < 2007]\n",
        "after_2007 = df[df['year'] > 2007]\n",
        "\n",
        "mean_b = before_2007['distance'].mean()\n",
        "mean_a = after_2007['distance'].mean()\n",
        "\n",
        "print('Mean before 2007', mean_b)\n",
        "print('Mean after 2007', mean_a)\n"
      ],
      "metadata": {
        "colab": {
          "base_uri": "https://localhost:8080/"
        },
        "id": "3TWciFsKH6VD",
        "outputId": "63cf847d-2253-4f8a-c960-ccb99eb74f9f"
      },
      "execution_count": 24,
      "outputs": [
        {
          "output_type": "stream",
          "name": "stdout",
          "text": [
            "Mean before 2007 142.80625\n",
            "Mean after 2007 315.2525932504441\n"
          ]
        }
      ]
    },
    {
      "cell_type": "code",
      "source": [
        "\n",
        "discovered_per_year = df.groupby('year')\n",
        "discovered_per_year['distance'].mean()"
      ],
      "metadata": {
        "colab": {
          "base_uri": "https://localhost:8080/"
        },
        "id": "dNCvgcjwJFOA",
        "outputId": "2e69e195-8fd2-4fc9-e99e-946e76be5969"
      },
      "execution_count": 26,
      "outputs": [
        {
          "output_type": "execute_result",
          "data": {
            "text/plain": [
              "year\n",
              "1989     40.570000\n",
              "1992           NaN\n",
              "1994           NaN\n",
              "1995     15.360000\n",
              "1996     15.866667\n",
              "1997     17.430000\n",
              "1998     26.302000\n",
              "1999     30.947333\n",
              "2000     30.752500\n",
              "2001     36.531667\n",
              "2002     44.396129\n",
              "2003     43.085417\n",
              "2004    184.777826\n",
              "2005     46.484324\n",
              "2006    660.228929\n",
              "2007    162.656000\n",
              "2008     98.680312\n",
              "2009     82.056747\n",
              "2010    256.796344\n",
              "2011    319.015032\n",
              "2012    563.286154\n",
              "2013    529.767746\n",
              "2014    359.836667\n",
              "Name: distance, dtype: float64"
            ]
          },
          "metadata": {},
          "execution_count": 26
        }
      ]
    },
    {
      "cell_type": "code",
      "source": [
        "# 7. Which exoplanet discovery method found the most planets with missing mass?\n",
        "\n",
        "missing_mass_df = df[df['mass'].isnull()]\n",
        "method_counts = missing_mass_df.groupby('method').size()\n",
        "# Seems that the 'Transit' method has found the most planets with missing mass\n",
        "method_counts\n"
      ],
      "metadata": {
        "colab": {
          "base_uri": "https://localhost:8080/"
        },
        "id": "eyNFZfFJJcpO",
        "outputId": "0d903d8c-376b-4222-e3a3-a23c87f907c7"
      },
      "execution_count": 36,
      "outputs": [
        {
          "output_type": "execute_result",
          "data": {
            "text/plain": [
              "method\n",
              "Astrometry                         2\n",
              "Eclipse Timing Variations          7\n",
              "Imaging                           38\n",
              "Microlensing                      23\n",
              "Orbital Brightness Modulation      3\n",
              "Pulsar Timing                      5\n",
              "Pulsation Timing Variations        1\n",
              "Radial Velocity                   43\n",
              "Transit                          396\n",
              "Transit Timing Variations          4\n",
              "dtype: int64"
            ]
          },
          "metadata": {},
          "execution_count": 36
        }
      ]
    },
    {
      "cell_type": "code",
      "source": [
        "# 8. Did the exoplanet discovery method from Question 6 find any planets with a known mass?\n",
        "\n",
        "# I am inferring here that you mean the discovery method from question 7.\n",
        "\n",
        "transit_df = df[df['method'] == 'Transit']\n",
        "print(transit_df.head())\n",
        "print(transit_df.info())\n",
        "# It did find one non-null\n"
      ],
      "metadata": {
        "colab": {
          "base_uri": "https://localhost:8080/"
        },
        "id": "Fmsg_AU2J5Xu",
        "outputId": "22311cf9-6c13-4d85-93e2-de062c233526"
      },
      "execution_count": 38,
      "outputs": [
        {
          "output_type": "stream",
          "name": "stdout",
          "text": [
            "     method  number  orbital_period  mass  distance  year\n",
            "91  Transit       1        1.508956   NaN       NaN  2008\n",
            "92  Transit       1        1.742994   NaN     200.0  2008\n",
            "93  Transit       1        4.256800   NaN     680.0  2008\n",
            "94  Transit       1        9.202050   NaN       NaN  2008\n",
            "95  Transit       1        4.037896   NaN       NaN  2009\n",
            "<class 'pandas.core.frame.DataFrame'>\n",
            "Int64Index: 397 entries, 91 to 1034\n",
            "Data columns (total 6 columns):\n",
            " #   Column          Non-Null Count  Dtype  \n",
            "---  ------          --------------  -----  \n",
            " 0   method          397 non-null    object \n",
            " 1   number          397 non-null    int64  \n",
            " 2   orbital_period  397 non-null    float64\n",
            " 3   mass            1 non-null      float64\n",
            " 4   distance        224 non-null    float64\n",
            " 5   year            397 non-null    int64  \n",
            "dtypes: float64(3), int64(2), object(1)\n",
            "memory usage: 21.7+ KB\n",
            "None\n"
          ]
        }
      ]
    },
    {
      "cell_type": "code",
      "source": [],
      "metadata": {
        "id": "PzoW9lo0Luxj"
      },
      "execution_count": null,
      "outputs": []
    },
    {
      "cell_type": "code",
      "source": [
        "transit_df_not_null = transit_df[transit_df['mass'].notna()]\n",
        "transit_df_not_null.head()"
      ],
      "metadata": {
        "colab": {
          "base_uri": "https://localhost:8080/",
          "height": 81
        },
        "id": "Z6jMd_pfLDuf",
        "outputId": "ac83afb1-24b3-432b-c4d4-3130a82d0e2e"
      },
      "execution_count": 43,
      "outputs": [
        {
          "output_type": "execute_result",
          "data": {
            "text/plain": [
              "      method  number  orbital_period  mass  distance  year\n",
              "649  Transit       1         2.70339  1.47     178.0  2013"
            ],
            "text/html": [
              "\n",
              "  <div id=\"df-dc76b6d7-7174-44ec-8949-a1f715f47400\" class=\"colab-df-container\">\n",
              "    <div>\n",
              "<style scoped>\n",
              "    .dataframe tbody tr th:only-of-type {\n",
              "        vertical-align: middle;\n",
              "    }\n",
              "\n",
              "    .dataframe tbody tr th {\n",
              "        vertical-align: top;\n",
              "    }\n",
              "\n",
              "    .dataframe thead th {\n",
              "        text-align: right;\n",
              "    }\n",
              "</style>\n",
              "<table border=\"1\" class=\"dataframe\">\n",
              "  <thead>\n",
              "    <tr style=\"text-align: right;\">\n",
              "      <th></th>\n",
              "      <th>method</th>\n",
              "      <th>number</th>\n",
              "      <th>orbital_period</th>\n",
              "      <th>mass</th>\n",
              "      <th>distance</th>\n",
              "      <th>year</th>\n",
              "    </tr>\n",
              "  </thead>\n",
              "  <tbody>\n",
              "    <tr>\n",
              "      <th>649</th>\n",
              "      <td>Transit</td>\n",
              "      <td>1</td>\n",
              "      <td>2.70339</td>\n",
              "      <td>1.47</td>\n",
              "      <td>178.0</td>\n",
              "      <td>2013</td>\n",
              "    </tr>\n",
              "  </tbody>\n",
              "</table>\n",
              "</div>\n",
              "    <div class=\"colab-df-buttons\">\n",
              "\n",
              "  <div class=\"colab-df-container\">\n",
              "    <button class=\"colab-df-convert\" onclick=\"convertToInteractive('df-dc76b6d7-7174-44ec-8949-a1f715f47400')\"\n",
              "            title=\"Convert this dataframe to an interactive table.\"\n",
              "            style=\"display:none;\">\n",
              "\n",
              "  <svg xmlns=\"http://www.w3.org/2000/svg\" height=\"24px\" viewBox=\"0 -960 960 960\">\n",
              "    <path d=\"M120-120v-720h720v720H120Zm60-500h600v-160H180v160Zm220 220h160v-160H400v160Zm0 220h160v-160H400v160ZM180-400h160v-160H180v160Zm440 0h160v-160H620v160ZM180-180h160v-160H180v160Zm440 0h160v-160H620v160Z\"/>\n",
              "  </svg>\n",
              "    </button>\n",
              "\n",
              "  <style>\n",
              "    .colab-df-container {\n",
              "      display:flex;\n",
              "      gap: 12px;\n",
              "    }\n",
              "\n",
              "    .colab-df-convert {\n",
              "      background-color: #E8F0FE;\n",
              "      border: none;\n",
              "      border-radius: 50%;\n",
              "      cursor: pointer;\n",
              "      display: none;\n",
              "      fill: #1967D2;\n",
              "      height: 32px;\n",
              "      padding: 0 0 0 0;\n",
              "      width: 32px;\n",
              "    }\n",
              "\n",
              "    .colab-df-convert:hover {\n",
              "      background-color: #E2EBFA;\n",
              "      box-shadow: 0px 1px 2px rgba(60, 64, 67, 0.3), 0px 1px 3px 1px rgba(60, 64, 67, 0.15);\n",
              "      fill: #174EA6;\n",
              "    }\n",
              "\n",
              "    .colab-df-buttons div {\n",
              "      margin-bottom: 4px;\n",
              "    }\n",
              "\n",
              "    [theme=dark] .colab-df-convert {\n",
              "      background-color: #3B4455;\n",
              "      fill: #D2E3FC;\n",
              "    }\n",
              "\n",
              "    [theme=dark] .colab-df-convert:hover {\n",
              "      background-color: #434B5C;\n",
              "      box-shadow: 0px 1px 3px 1px rgba(0, 0, 0, 0.15);\n",
              "      filter: drop-shadow(0px 1px 2px rgba(0, 0, 0, 0.3));\n",
              "      fill: #FFFFFF;\n",
              "    }\n",
              "  </style>\n",
              "\n",
              "    <script>\n",
              "      const buttonEl =\n",
              "        document.querySelector('#df-dc76b6d7-7174-44ec-8949-a1f715f47400 button.colab-df-convert');\n",
              "      buttonEl.style.display =\n",
              "        google.colab.kernel.accessAllowed ? 'block' : 'none';\n",
              "\n",
              "      async function convertToInteractive(key) {\n",
              "        const element = document.querySelector('#df-dc76b6d7-7174-44ec-8949-a1f715f47400');\n",
              "        const dataTable =\n",
              "          await google.colab.kernel.invokeFunction('convertToInteractive',\n",
              "                                                    [key], {});\n",
              "        if (!dataTable) return;\n",
              "\n",
              "        const docLinkHtml = 'Like what you see? Visit the ' +\n",
              "          '<a target=\"_blank\" href=https://colab.research.google.com/notebooks/data_table.ipynb>data table notebook</a>'\n",
              "          + ' to learn more about interactive tables.';\n",
              "        element.innerHTML = '';\n",
              "        dataTable['output_type'] = 'display_data';\n",
              "        await google.colab.output.renderOutput(dataTable, element);\n",
              "        const docLink = document.createElement('div');\n",
              "        docLink.innerHTML = docLinkHtml;\n",
              "        element.appendChild(docLink);\n",
              "      }\n",
              "    </script>\n",
              "  </div>\n",
              "\n",
              "\n",
              "    </div>\n",
              "  </div>\n"
            ],
            "application/vnd.google.colaboratory.intrinsic+json": {
              "type": "dataframe",
              "variable_name": "transit_df_not_null",
              "summary": "{\n  \"name\": \"transit_df_not_null\",\n  \"rows\": 1,\n  \"fields\": [\n    {\n      \"column\": \"method\",\n      \"properties\": {\n        \"dtype\": \"string\",\n        \"num_unique_values\": 1,\n        \"samples\": [\n          \"Transit\"\n        ],\n        \"semantic_type\": \"\",\n        \"description\": \"\"\n      }\n    },\n    {\n      \"column\": \"number\",\n      \"properties\": {\n        \"dtype\": \"number\",\n        \"std\": null,\n        \"min\": 1,\n        \"max\": 1,\n        \"num_unique_values\": 1,\n        \"samples\": [\n          1\n        ],\n        \"semantic_type\": \"\",\n        \"description\": \"\"\n      }\n    },\n    {\n      \"column\": \"orbital_period\",\n      \"properties\": {\n        \"dtype\": \"number\",\n        \"std\": null,\n        \"min\": 2.7033904,\n        \"max\": 2.7033904,\n        \"num_unique_values\": 1,\n        \"samples\": [\n          2.7033904\n        ],\n        \"semantic_type\": \"\",\n        \"description\": \"\"\n      }\n    },\n    {\n      \"column\": \"mass\",\n      \"properties\": {\n        \"dtype\": \"number\",\n        \"std\": null,\n        \"min\": 1.47,\n        \"max\": 1.47,\n        \"num_unique_values\": 1,\n        \"samples\": [\n          1.47\n        ],\n        \"semantic_type\": \"\",\n        \"description\": \"\"\n      }\n    },\n    {\n      \"column\": \"distance\",\n      \"properties\": {\n        \"dtype\": \"number\",\n        \"std\": null,\n        \"min\": 178.0,\n        \"max\": 178.0,\n        \"num_unique_values\": 1,\n        \"samples\": [\n          178.0\n        ],\n        \"semantic_type\": \"\",\n        \"description\": \"\"\n      }\n    },\n    {\n      \"column\": \"year\",\n      \"properties\": {\n        \"dtype\": \"number\",\n        \"std\": null,\n        \"min\": 2013,\n        \"max\": 2013,\n        \"num_unique_values\": 1,\n        \"samples\": [\n          2013\n        ],\n        \"semantic_type\": \"\",\n        \"description\": \"\"\n      }\n    }\n  ]\n}"
            }
          },
          "metadata": {},
          "execution_count": 43
        }
      ]
    },
    {
      "cell_type": "code",
      "source": [
        "# # 9. Given the evidence you just found, is it possible to determine planetary mass using the exoplanet\n",
        "# discovery method from Question 6? Do some independent research on this exoplanet discovery method\n",
        "# to confirm your hypothesis. Include links to reference material in your submission.\n",
        "\n",
        "\n"
      ],
      "metadata": {
        "id": "8_JylybEMIKV"
      },
      "execution_count": null,
      "outputs": []
    },
    {
      "cell_type": "markdown",
      "source": [
        "The transit method measures the intensity of stars and determines the presence of an exoplanet by observing if any portion of the star's intensity is blocked during the transit of an exoplanet^[1]. This blocking of light serves as evidence for the presence of such exoplanets.\n",
        "\n",
        "[^1]: [Source](https://www.planetary.org/articles/down-in-front-the-transit-photometry-method)\n",
        "\n",
        "\n",
        "^1 https://www.planetary.org/articles/down-in-front-the-transit-photometry-method\n",
        "\n",
        "From the available data, it appears challenging, but somehow possible, to determine the mass of exoplanets. Further indenpendent research suggests that alternative methods, such as spectroscopic radial-velocity follow-up or Transit Time Variations (TTVs) measurements, are necessary for detecting the mass of exoplanets^[2].\n",
        "\n",
        "[^2]: [Source](https://platomission.com/2018/05/21/the-transit-method/#:~:text=The%20transit%20method%20allows%20us,Time%20Variations%20(TTVs)%20measurements.)\n",
        "\n",
        "^2 - (https://platomission.com/2018/05/21/the-transit-method/#:~:text=The%20transit%20method%20allows%20us,Time%20Variations%20(TTVs)%20measurements.)\n",
        "\n",
        "\n",
        "In the Astrophysical Journal, the article \"Mass and Orbit Determination from Transit Timing Variations of Exoplanets\" discusses how Perturbation theory can be employed to analyze and determine the precision of transit timing measurements required for characterizing additional planets. Including the inference of characteristics such as the mass of the transiting planet^[3].\n",
        "\n",
        "^3 - (https://iopscience.iop.org/article/10.1086/592230)"
      ],
      "metadata": {
        "id": "OI25aI0uUfN3"
      }
    },
    {
      "cell_type": "code",
      "source": [
        "# 10. Which are associated with more missing mass values, below-average or above-average orbital periods?\n",
        "\n",
        "mean_orbital_periods = df['orbital_period'].mean()\n",
        "below = df[df['orbital_period'] < mean_orbital_periods]\n",
        "above = df[df['orbital_period'] > mean_orbital_periods]\n",
        "\n",
        "\n",
        "\n",
        "print(below.head())\n",
        "print('==='*10, mean_orbital_periods, '==='*10)\n",
        "print(above.head())\n"
      ],
      "metadata": {
        "colab": {
          "base_uri": "https://localhost:8080/"
        },
        "id": "YykzeXOcST22",
        "outputId": "8b177d90-72d3-4bde-a5ab-a9d232dfb4d5"
      },
      "execution_count": 46,
      "outputs": [
        {
          "output_type": "stream",
          "name": "stdout",
          "text": [
            "            method  number  orbital_period   mass  distance  year\n",
            "0  Radial Velocity       1         269.300   7.10     77.40  2006\n",
            "1  Radial Velocity       1         874.774   2.21     56.95  2008\n",
            "2  Radial Velocity       1         763.000   2.60     19.84  2011\n",
            "3  Radial Velocity       1         326.030  19.40    110.62  2007\n",
            "4  Radial Velocity       1         516.220  10.50    119.47  2009\n",
            "============================== 2002.9175960947582 ==============================\n",
            "                       method  number  orbital_period  mass  distance  year\n",
            "14            Radial Velocity       3          2391.0  0.54     14.08  2001\n",
            "15            Radial Velocity       3         14002.0  1.64     14.08  2009\n",
            "19            Radial Velocity       5          4909.0  3.53     12.53  2002\n",
            "32  Eclipse Timing Variations       1         10220.0  6.05       NaN  2009\n",
            "37  Eclipse Timing Variations       2          5767.0   NaN    130.72  2008\n"
          ]
        }
      ]
    },
    {
      "cell_type": "code",
      "source": [
        "below_null = below[below['mass'].isnull()]\n",
        "print(below_null.head())\n",
        "print(len(below_null))"
      ],
      "metadata": {
        "colab": {
          "base_uri": "https://localhost:8080/"
        },
        "id": "FqAJawhcSvYu",
        "outputId": "92add03f-cd32-46b7-ae35-a68a0bc0644a"
      },
      "execution_count": 50,
      "outputs": [
        {
          "output_type": "stream",
          "name": "stdout",
          "text": [
            "                       method  number  orbital_period  mass  distance  year\n",
            "7             Radial Velocity       1       798.50000   NaN     21.41  1996\n",
            "20            Radial Velocity       5         0.73654   NaN     12.53  2011\n",
            "25            Radial Velocity       1       116.68840   NaN     18.11  1996\n",
            "26            Radial Velocity       1       691.90000   NaN     81.50  2012\n",
            "44  Eclipse Timing Variations       2      1916.25000   NaN       NaN  2011\n",
            "451\n"
          ]
        }
      ]
    },
    {
      "cell_type": "code",
      "source": [
        "above_null = above[above['mass'].isnull()]\n",
        "print(above_null.head())\n",
        "print(len(above_null))"
      ],
      "metadata": {
        "colab": {
          "base_uri": "https://localhost:8080/"
        },
        "id": "RG6SJqn2TMva",
        "outputId": "80292882-457f-44b7-fc6e-82d211c63d71"
      },
      "execution_count": 51,
      "outputs": [
        {
          "output_type": "stream",
          "name": "stdout",
          "text": [
            "                       method  number  orbital_period  mass  distance  year\n",
            "37  Eclipse Timing Variations       2         5767.00   NaN    130.72  2008\n",
            "38  Eclipse Timing Variations       2         3321.00   NaN    130.72  2008\n",
            "39  Eclipse Timing Variations       2         5573.55   NaN    500.00  2010\n",
            "40  Eclipse Timing Variations       2         2883.50   NaN    500.00  2010\n",
            "41  Eclipse Timing Variations       1         2900.00   NaN       NaN  2011\n",
            "28\n"
          ]
        }
      ]
    },
    {
      "cell_type": "code",
      "source": [
        "# Exoplanets containing below average orbital periods, have more missing values."
      ],
      "metadata": {
        "id": "5pRGblfeTkpW"
      },
      "execution_count": null,
      "outputs": []
    }
  ]
}