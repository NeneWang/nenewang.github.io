{
 "cells": [
  {
   "cell_type": "code",
   "execution_count": 35,
   "id": "d901a506",
   "metadata": {},
   "outputs": [],
   "source": [
    "from typing import List\n",
    "\n",
    "def matrix_add_2d(a: List, b: List):\n",
    "    if (len(a) != len(b)):\n",
    "        raise Exception(\"Col are different\")\n",
    "        return\n",
    "    if(len(a[0]) != len(b[0])):\n",
    "        raise Exception(\"Row size is different\")\n",
    "        return\n",
    "    \n",
    "    res = []\n",
    "    for ra, rb in zip(a, b):\n",
    "        row = []\n",
    "#         print(ra, rb)\n",
    "        for ca, cb in zip(ra, rb):\n",
    "#             print(ca, cb)\n",
    "            row.append(ca+cb)\n",
    "        res.append(row)\n",
    "    return res\n",
    "    "
   ]
  },
  {
   "cell_type": "code",
   "execution_count": 38,
   "id": "a46cdec5",
   "metadata": {},
   "outputs": [
    {
     "data": {
      "text/plain": [
       "[[5, 2, 6], [5, 9, 3]]"
      ]
     },
     "execution_count": 38,
     "metadata": {},
     "output_type": "execute_result"
    }
   ],
   "source": [
    "sample_input = [[4, 2, 6], [1, 9, 0]], [[1, 0, 0], [4, 0, 3]]\n",
    "\n",
    "matrix_add_2d(sample_input[0], sample_input[1])"
   ]
  },
  {
   "cell_type": "code",
   "execution_count": 48,
   "id": "4de950bc",
   "metadata": {},
   "outputs": [
    {
     "name": "stdout",
     "output_type": "stream",
     "text": [
      "4.75 µs ± 430 ns per loop (mean ± std. dev. of 7 runs, 10 loops each)\n"
     ]
    }
   ],
   "source": [
    "%timeit -n 10 matrix_add_2d(sample_input[0], sample_input[1])"
   ]
  },
  {
   "cell_type": "code",
   "execution_count": 49,
   "id": "6beb0f96",
   "metadata": {},
   "outputs": [
    {
     "data": {
      "text/plain": [
       "array([[5, 2, 6],\n",
       "       [5, 9, 3]])"
      ]
     },
     "execution_count": 49,
     "metadata": {},
     "output_type": "execute_result"
    }
   ],
   "source": [
    "import numpy as np\n",
    "\n",
    "ma = np.array(sample_input[0])\n",
    "mb = np.array(sample_input[1])\n",
    "\n",
    "np.add(ma, mb)"
   ]
  },
  {
   "cell_type": "code",
   "execution_count": 50,
   "id": "bad521ed",
   "metadata": {},
   "outputs": [
    {
     "name": "stdout",
     "output_type": "stream",
     "text": [
      "1.58 µs ± 968 ns per loop (mean ± std. dev. of 7 runs, 10 loops each)\n"
     ]
    }
   ],
   "source": [
    "%timeit -n 10 np.add(ma, mb)"
   ]
  },
  {
   "cell_type": "code",
   "execution_count": 51,
   "id": "9752aa12",
   "metadata": {},
   "outputs": [
    {
     "name": "stdout",
     "output_type": "stream",
     "text": [
      "14.3 µs ± 2.01 µs per loop (mean ± std. dev. of 7 runs, 10 loops each)\n"
     ]
    }
   ],
   "source": [
    "%timeit -n 10 np.add(sample_input[0], sample_input[1])"
   ]
  },
  {
   "cell_type": "markdown",
   "id": "8111e0b3",
   "metadata": {},
   "source": [
    "### Written Questions\n",
    "\n",
    "1. \n",
    "\n",
    "Contrasted with implementing one's own code, using your own method might result in incorrect implementation. NumPy's functions are widely used and open-source, tested including edge-cases. \n",
    "\n",
    "\n",
    "2. \n",
    "\n",
    "Using NumPy arrays is faster because there is no need for inference of the data type. Additionally, NumPy interacts with C and Fortran implementations to take advantage of low-level manipulation optimizations. NumPy also encapsulates multithreading to leverage its benefits.\n",
    "\n"
   ]
  },
  {
   "cell_type": "code",
   "execution_count": null,
   "id": "9b8c814a",
   "metadata": {},
   "outputs": [],
   "source": []
  },
  {
   "cell_type": "code",
   "execution_count": null,
   "id": "3ed98f80",
   "metadata": {},
   "outputs": [],
   "source": []
  },
  {
   "cell_type": "code",
   "execution_count": null,
   "id": "bba3bed3",
   "metadata": {},
   "outputs": [],
   "source": []
  }
 ],
 "metadata": {
  "kernelspec": {
   "display_name": "Python 3 (ipykernel)",
   "language": "python",
   "name": "python3"
  },
  "language_info": {
   "codemirror_mode": {
    "name": "ipython",
    "version": 3
   },
   "file_extension": ".py",
   "mimetype": "text/x-python",
   "name": "python",
   "nbconvert_exporter": "python",
   "pygments_lexer": "ipython3",
   "version": "3.9.12"
  }
 },
 "nbformat": 4,
 "nbformat_minor": 5
}
