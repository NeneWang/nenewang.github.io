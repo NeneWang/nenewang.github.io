{
 "cells": [
  {
   "cell_type": "markdown",
   "metadata": {},
   "source": [
    "## Do the following:\n",
    "\n",
    "- Repeat both in sns and matplot to show difference\n",
    "\n",
    "[Lecture 10 Visualization temperature](https://colab.research.google.com/drive/1H3EdahgEIoBQqgZB7TJMdxLYUoCZnAnf)\n",
    "\n",
    "1. Describe the data, \n",
    "   1. find where there is null\n",
    "2. Find out which are the years where the data is not perfect.\n",
    "   1. Find which are the missing 365 days data.\n",
    "   2. Remove missing datas\n",
    "3. For year 2020 Plot the following:\n",
    "   1. TMAx and TMin\n",
    "   2. over time\n",
    "   3. Use group by month and plot the mean of each month. \n",
    "   4. Add Title, month, temperature\n",
    "4. Experiment\n",
    "   1. Add fill between\n",
    "   2. Add error bar.\n",
    "   3. Grouy by year and plot\n",
    "\n",
    "Cheatsheet:\n",
    "\n",
    "\n",
    "```python\n",
    "plt.fill_between(range(1, 13), tmax, tmin, edgecolor='black',facecolor='gray', alpha=0.2)\n",
    "\n",
    "plt.errorbar(x = range(1,13), y=nyc_df.groupby('MONTH')['TMAX'].mean(), yerr=nyc_df.groupby('MONTH')['TMAX'].std(), label = \"High\", color=\"red\")\n",
    "\n",
    "```\n",
    "\n",
    "\n"
   ]
  },
  {
   "cell_type": "code",
   "execution_count": 2,
   "metadata": {},
   "outputs": [],
   "source": [
    "import pandas as pd\n",
    "from matplotlib import pyplot as plt\n",
    "import seaborn as sns\n"
   ]
  },
  {
   "cell_type": "code",
   "execution_count": 3,
   "metadata": {},
   "outputs": [
    {
     "data": {
      "text/html": [
       "<div>\n",
       "<style scoped>\n",
       "    .dataframe tbody tr th:only-of-type {\n",
       "        vertical-align: middle;\n",
       "    }\n",
       "\n",
       "    .dataframe tbody tr th {\n",
       "        vertical-align: top;\n",
       "    }\n",
       "\n",
       "    .dataframe thead th {\n",
       "        text-align: right;\n",
       "    }\n",
       "</style>\n",
       "<table border=\"1\" class=\"dataframe\">\n",
       "  <thead>\n",
       "    <tr style=\"text-align: right;\">\n",
       "      <th></th>\n",
       "      <th>MM/DD/YYYY</th>\n",
       "      <th>YEAR</th>\n",
       "      <th>MONTH</th>\n",
       "      <th>DAY</th>\n",
       "      <th>TMAX</th>\n",
       "      <th>TMIN</th>\n",
       "    </tr>\n",
       "  </thead>\n",
       "  <tbody>\n",
       "    <tr>\n",
       "      <th>0</th>\n",
       "      <td>1869-01-01</td>\n",
       "      <td>1869</td>\n",
       "      <td>1</td>\n",
       "      <td>1</td>\n",
       "      <td>-17.0</td>\n",
       "      <td>-72.0</td>\n",
       "    </tr>\n",
       "    <tr>\n",
       "      <th>1</th>\n",
       "      <td>1869-01-02</td>\n",
       "      <td>1869</td>\n",
       "      <td>1</td>\n",
       "      <td>2</td>\n",
       "      <td>-28.0</td>\n",
       "      <td>-61.0</td>\n",
       "    </tr>\n",
       "    <tr>\n",
       "      <th>2</th>\n",
       "      <td>1869-01-03</td>\n",
       "      <td>1869</td>\n",
       "      <td>1</td>\n",
       "      <td>3</td>\n",
       "      <td>17.0</td>\n",
       "      <td>-28.0</td>\n",
       "    </tr>\n",
       "    <tr>\n",
       "      <th>3</th>\n",
       "      <td>1869-01-04</td>\n",
       "      <td>1869</td>\n",
       "      <td>1</td>\n",
       "      <td>4</td>\n",
       "      <td>28.0</td>\n",
       "      <td>11.0</td>\n",
       "    </tr>\n",
       "    <tr>\n",
       "      <th>4</th>\n",
       "      <td>1869-01-05</td>\n",
       "      <td>1869</td>\n",
       "      <td>1</td>\n",
       "      <td>5</td>\n",
       "      <td>61.0</td>\n",
       "      <td>28.0</td>\n",
       "    </tr>\n",
       "  </tbody>\n",
       "</table>\n",
       "</div>"
      ],
      "text/plain": [
       "   MM/DD/YYYY  YEAR  MONTH  DAY  TMAX  TMIN\n",
       "0  1869-01-01  1869      1    1 -17.0 -72.0\n",
       "1  1869-01-02  1869      1    2 -28.0 -61.0\n",
       "2  1869-01-03  1869      1    3  17.0 -28.0\n",
       "3  1869-01-04  1869      1    4  28.0  11.0\n",
       "4  1869-01-05  1869      1    5  61.0  28.0"
      ]
     },
     "execution_count": 3,
     "metadata": {},
     "output_type": "execute_result"
    }
   ],
   "source": [
    "# Our first visualization will be a simple line graph showing historical temperature\n",
    "# data from new York City.\n",
    "nyc_df = pd.read_csv(\"https://raw.githubusercontent.com/CUNY-CISC-3225/datasets/main/nyc_temp_1869_2021.csv\", index_col=0)\n",
    "nyc_df.head()"
   ]
  },
  {
   "cell_type": "code",
   "execution_count": null,
   "metadata": {},
   "outputs": [],
   "source": []
  }
 ],
 "metadata": {
  "kernelspec": {
   "display_name": "Python 3",
   "language": "python",
   "name": "python3"
  },
  "language_info": {
   "codemirror_mode": {
    "name": "ipython",
    "version": 3
   },
   "file_extension": ".py",
   "mimetype": "text/x-python",
   "name": "python",
   "nbconvert_exporter": "python",
   "pygments_lexer": "ipython3",
   "version": "3.10.5"
  }
 },
 "nbformat": 4,
 "nbformat_minor": 2
}
