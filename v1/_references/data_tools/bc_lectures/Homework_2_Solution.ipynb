{
  "nbformat": 4,
  "nbformat_minor": 0,
  "metadata": {
    "colab": {
      "provenance": []
    },
    "kernelspec": {
      "name": "python3",
      "display_name": "Python 3"
    },
    "language_info": {
      "name": "python"
    }
  },
  "cells": [
    {
      "cell_type": "code",
      "execution_count": null,
      "metadata": {
        "id": "Ipv3j56Qswtw"
      },
      "outputs": [],
      "source": [
        "import numpy as np"
      ]
    },
    {
      "cell_type": "markdown",
      "source": [
        "# Broadcasting\n",
        "\n",
        "1. ```\n",
        "  a = np.array([[1, 1, 2], [3, 2, 1], [1, 9, 1]])\n",
        "  b = np.array([[1], [2], [3]])\n",
        "  ```\n",
        "  `a.shape` = (3, 3), `b.shape` = (3, 1)\n",
        "\n",
        "  Rule 1: `a` and `b` already have the same number of dimensions.\n",
        "\n",
        "  Rule 2: `a.shape` = (3, 3), `b.shape` = (3, 3)"
      ],
      "metadata": {
        "id": "mqYoXqdSs3OD"
      }
    },
    {
      "cell_type": "code",
      "source": [
        "a = np.array([[1, 1, 2], [3, 2, 1], [1, 9, 1]])\n",
        "b = np.array([[1], [2], [3]])\n",
        "print((a+b).shape)\n",
        "a+b"
      ],
      "metadata": {
        "colab": {
          "base_uri": "https://localhost:8080/"
        },
        "id": "pWnF6gBEs2nD",
        "outputId": "0a1a8536-f14b-4233-88e2-97b728c90a6c"
      },
      "execution_count": null,
      "outputs": [
        {
          "output_type": "stream",
          "name": "stdout",
          "text": [
            "(3, 3)\n"
          ]
        },
        {
          "output_type": "execute_result",
          "data": {
            "text/plain": [
              "array([[ 2,  2,  3],\n",
              "       [ 5,  4,  3],\n",
              "       [ 4, 12,  4]])"
            ]
          },
          "metadata": {},
          "execution_count": 38
        }
      ]
    },
    {
      "cell_type": "markdown",
      "source": [
        "2. ```\n",
        "  a = np.array([[1, 1, 2], [3, 2, 1], [1, 9, 1]])\n",
        "  b = np.array([[1], [2], [3]])\n",
        "  ```\n",
        "  `a.shape` = (2, 2, 2), `b.shape` = (2,)\n",
        "\n",
        "  Rule 1: `a.shape` = (2, 2, 2), `b.shape` = (1, 1, 2)\n",
        "\n",
        "  Rule 2: `a.shape` = (2, 2, 2), `b.shape` = (2, 2, 2)"
      ],
      "metadata": {
        "id": "3e5i_Yn8t2GO"
      }
    },
    {
      "cell_type": "code",
      "source": [
        "a = np.array([[[1, 2], [3, 1]], [[8, 7], [9, 1]]])\n",
        "b = np.array([10, 11])\n",
        "print((a+b).shape)\n",
        "a+b"
      ],
      "metadata": {
        "colab": {
          "base_uri": "https://localhost:8080/"
        },
        "id": "j4EncDCfuBTG",
        "outputId": "0e022fb2-0da5-4a35-a634-c5a3f7ef7543"
      },
      "execution_count": null,
      "outputs": [
        {
          "output_type": "stream",
          "name": "stdout",
          "text": [
            "(2, 2, 2)\n"
          ]
        },
        {
          "output_type": "execute_result",
          "data": {
            "text/plain": [
              "array([[[11, 13],\n",
              "        [13, 12]],\n",
              "\n",
              "       [[18, 18],\n",
              "        [19, 12]]])"
            ]
          },
          "metadata": {},
          "execution_count": 39
        }
      ]
    },
    {
      "cell_type": "markdown",
      "source": [
        "3. ```\n",
        "  a = np.array([1, 2, 3])\n",
        "  b = np.array([[10], [11], [12]])\n",
        "  ```\n",
        "  `a.shape` = (3,), `b.shape` = (3, 1)\n",
        "\n",
        "  Rule 1: `a.shape` = (1, 3), `b.shape` = (3, 1)\n",
        "\n",
        "  Rule 2: `a.shape` = (3, 3), `b.shape` = (3, 3)"
      ],
      "metadata": {
        "id": "jo3JgLr4t11i"
      }
    },
    {
      "cell_type": "code",
      "source": [
        "a = np.array([1, 2, 3])\n",
        "b = np.array([[10], [11], [12]])\n",
        "print((a+b).shape)\n",
        "a+b"
      ],
      "metadata": {
        "colab": {
          "base_uri": "https://localhost:8080/"
        },
        "id": "9cHMgQgLuUr5",
        "outputId": "9e1c6c48-53c7-41ae-d51d-bbbcb918a525"
      },
      "execution_count": null,
      "outputs": [
        {
          "output_type": "stream",
          "name": "stdout",
          "text": [
            "(3, 3)\n"
          ]
        },
        {
          "output_type": "execute_result",
          "data": {
            "text/plain": [
              "array([[11, 12, 13],\n",
              "       [12, 13, 14],\n",
              "       [13, 14, 15]])"
            ]
          },
          "metadata": {},
          "execution_count": 40
        }
      ]
    },
    {
      "cell_type": "markdown",
      "source": [
        "4. ```\n",
        "  a = np.array([[[1, 2], [3, 1]], [[8, 7], [9, 1]]])\n",
        "  b = np.array([10, 11, 12, 13])\n",
        "  ```\n",
        "  `a.shape` = (2, 2, 2), `b.shape` = (4,)\n",
        "\n",
        "  Rule 1: `a.shape` = (2, 2, 2), `b.shape` = (1, 1, 4)\n",
        "\n",
        "  Rule 2: `a.shape` = (2, 2, 2), `b.shape` = (2, 2, 4)\n",
        "\n",
        "  Rule 3: `a` and `b` do not match in the last dimension (`a`=2, `b`=4). They cannot be added."
      ],
      "metadata": {
        "id": "SyCPg3OJum92"
      }
    },
    {
      "cell_type": "code",
      "source": [
        "a = np.array([[[1, 2], [3, 1]], [[8, 7], [9, 1]]])\n",
        "b = np.array([10, 11, 12, 13])\n",
        "a+b"
      ],
      "metadata": {
        "colab": {
          "base_uri": "https://localhost:8080/",
          "height": 176
        },
        "id": "l6-i14sduk_T",
        "outputId": "c497c00c-c487-4d83-c73e-c160fc46714c"
      },
      "execution_count": null,
      "outputs": [
        {
          "output_type": "error",
          "ename": "ValueError",
          "evalue": "operands could not be broadcast together with shapes (2,2,2) (4,) ",
          "traceback": [
            "\u001b[0;31m---------------------------------------------------------------------------\u001b[0m",
            "\u001b[0;31mValueError\u001b[0m                                Traceback (most recent call last)",
            "\u001b[0;32m<ipython-input-10-d8c01afaa82b>\u001b[0m in \u001b[0;36m<cell line: 3>\u001b[0;34m()\u001b[0m\n\u001b[1;32m      1\u001b[0m \u001b[0ma\u001b[0m \u001b[0;34m=\u001b[0m \u001b[0mnp\u001b[0m\u001b[0;34m.\u001b[0m\u001b[0marray\u001b[0m\u001b[0;34m(\u001b[0m\u001b[0;34m[\u001b[0m\u001b[0;34m[\u001b[0m\u001b[0;34m[\u001b[0m\u001b[0;36m1\u001b[0m\u001b[0;34m,\u001b[0m \u001b[0;36m2\u001b[0m\u001b[0;34m]\u001b[0m\u001b[0;34m,\u001b[0m \u001b[0;34m[\u001b[0m\u001b[0;36m3\u001b[0m\u001b[0;34m,\u001b[0m \u001b[0;36m1\u001b[0m\u001b[0;34m]\u001b[0m\u001b[0;34m]\u001b[0m\u001b[0;34m,\u001b[0m \u001b[0;34m[\u001b[0m\u001b[0;34m[\u001b[0m\u001b[0;36m8\u001b[0m\u001b[0;34m,\u001b[0m \u001b[0;36m7\u001b[0m\u001b[0;34m]\u001b[0m\u001b[0;34m,\u001b[0m \u001b[0;34m[\u001b[0m\u001b[0;36m9\u001b[0m\u001b[0;34m,\u001b[0m \u001b[0;36m1\u001b[0m\u001b[0;34m]\u001b[0m\u001b[0;34m]\u001b[0m\u001b[0;34m]\u001b[0m\u001b[0;34m)\u001b[0m\u001b[0;34m\u001b[0m\u001b[0;34m\u001b[0m\u001b[0m\n\u001b[1;32m      2\u001b[0m \u001b[0mb\u001b[0m \u001b[0;34m=\u001b[0m \u001b[0mnp\u001b[0m\u001b[0;34m.\u001b[0m\u001b[0marray\u001b[0m\u001b[0;34m(\u001b[0m\u001b[0;34m[\u001b[0m\u001b[0;36m10\u001b[0m\u001b[0;34m,\u001b[0m \u001b[0;36m11\u001b[0m\u001b[0;34m,\u001b[0m \u001b[0;36m12\u001b[0m\u001b[0;34m,\u001b[0m \u001b[0;36m13\u001b[0m\u001b[0;34m]\u001b[0m\u001b[0;34m)\u001b[0m\u001b[0;34m\u001b[0m\u001b[0;34m\u001b[0m\u001b[0m\n\u001b[0;32m----> 3\u001b[0;31m \u001b[0ma\u001b[0m\u001b[0;34m+\u001b[0m\u001b[0mb\u001b[0m\u001b[0;34m\u001b[0m\u001b[0;34m\u001b[0m\u001b[0m\n\u001b[0m",
            "\u001b[0;31mValueError\u001b[0m: operands could not be broadcast together with shapes (2,2,2) (4,) "
          ]
        }
      ]
    },
    {
      "cell_type": "markdown",
      "source": [
        "5. ```\n",
        "  a = np.array([[[[1]]], [[[2]]]])\n",
        "  b = np.array([3, 4])\n",
        "  ```\n",
        "  `a.shape` = (2, 1, 1, 1), `b.shape` = (2,)\n",
        "\n",
        "  Rule 1: `a.shape` = (2, 1, 1, 1), `b.shape` = (1, 1, 1, 2)\n",
        "\n",
        "  Rule 2: `a.shape` = (2, 1, 1, 2), `b.shape` = (2, 1, 1, 2)"
      ],
      "metadata": {
        "id": "RpRltFq5u-lB"
      }
    },
    {
      "cell_type": "code",
      "source": [
        "a = np.array([[[[1]]], [[[2]]]])\n",
        "b = np.array([3, 4])\n",
        "print((a+b).shape)\n",
        "a+b"
      ],
      "metadata": {
        "colab": {
          "base_uri": "https://localhost:8080/"
        },
        "id": "zMRe8mn0u-DV",
        "outputId": "572090b6-c68b-4da8-e2b6-31e812a88415"
      },
      "execution_count": null,
      "outputs": [
        {
          "output_type": "stream",
          "name": "stdout",
          "text": [
            "(2, 1, 1, 2)\n"
          ]
        },
        {
          "output_type": "execute_result",
          "data": {
            "text/plain": [
              "array([[[[4, 5]]],\n",
              "\n",
              "\n",
              "       [[[5, 6]]]])"
            ]
          },
          "metadata": {},
          "execution_count": 46
        }
      ]
    },
    {
      "cell_type": "markdown",
      "source": [
        "#Solar"
      ],
      "metadata": {
        "id": "MsmaCZ0svUYR"
      }
    },
    {
      "cell_type": "code",
      "source": [
        "# Load the solar.csv data. Note that the file `solar.csv` must be uploaded\n",
        "# into Colab session storage before this cell can be run.\n",
        "solar_data = np.loadtxt('solar.csv')"
      ],
      "metadata": {
        "id": "ki6KWn4WvT4w"
      },
      "execution_count": null,
      "outputs": []
    },
    {
      "cell_type": "code",
      "source": [
        "# 1. How many watts were generated all year?\n",
        "np.sum(solar_data)"
      ],
      "metadata": {
        "colab": {
          "base_uri": "https://localhost:8080/"
        },
        "id": "DdYDT4DevTRI",
        "outputId": "c2e9882a-5970-4d8b-9e6d-b41b0454b850"
      },
      "execution_count": null,
      "outputs": [
        {
          "output_type": "execute_result",
          "data": {
            "text/plain": [
              "218010.26201750195"
            ]
          },
          "metadata": {},
          "execution_count": 14
        }
      ]
    },
    {
      "cell_type": "code",
      "source": [
        "# 2. What is the highest number of watts produced by the solar panels? The lowest?\n",
        "print(\"Highest:\", np.max(solar_data))\n",
        "print(\"Lowest:\", np.min(solar_data))"
      ],
      "metadata": {
        "colab": {
          "base_uri": "https://localhost:8080/"
        },
        "id": "qAQu3HHlvtDc",
        "outputId": "5157d30e-a767-40fd-f813-5f6fbd65edd3"
      },
      "execution_count": null,
      "outputs": [
        {
          "output_type": "stream",
          "name": "stdout",
          "text": [
            "Highest: 450.23976606026287\n",
            "Lowest: 0.0\n"
          ]
        }
      ]
    },
    {
      "cell_type": "code",
      "source": [
        "# 3. What is the highest number of watts in the morning, afternoon, and evening? The lowest?\n",
        "print(\"Highest in the morning, afternoon, and evening:\", np.max(solar_data, axis=0))\n",
        "print(\"Lowest in the morning, afternoon, and evening:\", np.min(solar_data, axis=0))"
      ],
      "metadata": {
        "colab": {
          "base_uri": "https://localhost:8080/"
        },
        "id": "lAMcElAjv0qc",
        "outputId": "69d2fa48-4bca-46ff-f9b5-e887372b368b"
      },
      "execution_count": null,
      "outputs": [
        {
          "output_type": "stream",
          "name": "stdout",
          "text": [
            "Highest in the morning, afternoon, and evening: [446.40434207 450.23976606 247.01509894]\n",
            "Lowest in the morning, afternoon, and evening: [166.23303073   0.           0.        ]\n"
          ]
        }
      ]
    },
    {
      "cell_type": "code",
      "source": [
        "# 4. What is the average number of watts generated in January?\n",
        "# Some students approached this problem differently, and I accepted both variants.\n",
        "\n",
        "# Approach 1: Average all readings across January\n",
        "print(\"Average wattage across all readings in January:\", np.mean(solar_data[:31]))\n",
        "\n",
        "# Approach 2: Average across the daily energy production totals of January\n",
        "print(\"Average daily production in January:\", np.mean(np.sum(solar_data[:31], axis=1)))"
      ],
      "metadata": {
        "colab": {
          "base_uri": "https://localhost:8080/"
        },
        "id": "ZRMsFC53wIUn",
        "outputId": "a893c0e4-67cf-4f09-dc16-77b72a0dfeef"
      },
      "execution_count": null,
      "outputs": [
        {
          "output_type": "stream",
          "name": "stdout",
          "text": [
            "Average wattage across all readings in January: 202.55189316344854\n",
            "Average daily production in January: 607.6556794903456\n"
          ]
        }
      ]
    },
    {
      "cell_type": "code",
      "source": [
        "# 5. What is the average number of watts generated on January afternoons?\n",
        "print(\"Average afternoon wattage in January:\", np.mean(solar_data[:31, 1]))"
      ],
      "metadata": {
        "colab": {
          "base_uri": "https://localhost:8080/"
        },
        "id": "vRorEh6rwsLs",
        "outputId": "edcd1525-13e6-470c-d50b-cd8a06919cd4"
      },
      "execution_count": null,
      "outputs": [
        {
          "output_type": "stream",
          "name": "stdout",
          "text": [
            "Average afternoon wattage in January: 215.93478827333328\n"
          ]
        }
      ]
    },
    {
      "cell_type": "code",
      "source": [
        "# 6. How many readings had less than 50 watts?\n",
        "print(\"Number of readings with less than 50 watts:\", np.sum(solar_data < 50))"
      ],
      "metadata": {
        "colab": {
          "base_uri": "https://localhost:8080/"
        },
        "id": "kv-xy2wZw1mk",
        "outputId": "172964b2-93ba-40e9-e5c9-f1edb08d7fba"
      },
      "execution_count": null,
      "outputs": [
        {
          "output_type": "stream",
          "name": "stdout",
          "text": [
            "Number of readings with less than 50 watts: 92\n"
          ]
        }
      ]
    },
    {
      "cell_type": "code",
      "source": [
        "# 7. Of the readings with less than 50 watts, what was the highest amount?\n",
        "print(\"Highest reading under 50 watts:\", np.max(solar_data[solar_data < 50]))"
      ],
      "metadata": {
        "colab": {
          "base_uri": "https://localhost:8080/"
        },
        "id": "HH9SL8bQw_hd",
        "outputId": "efbd36f4-5585-4f9a-c2d5-01f7097fe63d"
      },
      "execution_count": null,
      "outputs": [
        {
          "output_type": "stream",
          "name": "stdout",
          "text": [
            "Highest reading under 50 watts: 49.317967494803355\n"
          ]
        }
      ]
    },
    {
      "cell_type": "code",
      "source": [
        "# 8. How many evenings had less than 50 watts?\n",
        "print(\"Number of evenings with less than 50 watts:\", np.sum(solar_data[:,2] < 50))"
      ],
      "metadata": {
        "colab": {
          "base_uri": "https://localhost:8080/"
        },
        "id": "A-S_5YmoxFsf",
        "outputId": "adc50227-8f7f-4cc7-e4ad-4e101ea43f65"
      },
      "execution_count": null,
      "outputs": [
        {
          "output_type": "stream",
          "name": "stdout",
          "text": [
            "Number of evenings with less than 50 watts: 62\n"
          ]
        }
      ]
    },
    {
      "cell_type": "code",
      "source": [
        "# 9. How many days had less than 500 watts total?\n",
        "print(\"Number of days with less than 500 watts total:\", np.sum(np.sum(solar_data, axis=1) < 500))"
      ],
      "metadata": {
        "colab": {
          "base_uri": "https://localhost:8080/"
        },
        "id": "z433OgyJxOCB",
        "outputId": "ade3695b-4983-4ed4-c654-90da1f7b77f5"
      },
      "execution_count": null,
      "outputs": [
        {
          "output_type": "stream",
          "name": "stdout",
          "text": [
            "Number of days with less than 500 watts total: 89\n"
          ]
        }
      ]
    },
    {
      "cell_type": "code",
      "source": [
        "# 10. Accidentally ommitted from the homework"
      ],
      "metadata": {
        "id": "XS4YfOjvxYSi"
      },
      "execution_count": null,
      "outputs": []
    },
    {
      "cell_type": "code",
      "source": [
        "# Bonus: Which direction are the solar panels most likely facing, and why?\n",
        "# If we look at the wattage produced at each of the 3 time periods, we see that\n",
        "# on average, the most wattage is produced in the morning. This suggests the\n",
        "# solar panels are probably facing east, where they receive the most direct\n",
        "# light when the sun rises.\n",
        "print(\"Average wattage for mornings, afternoons, and evenings:\", np.mean(solar_data, axis=0))"
      ],
      "metadata": {
        "colab": {
          "base_uri": "https://localhost:8080/"
        },
        "id": "Sse8I1VpxcDi",
        "outputId": "b871f3a2-cfe6-4b5e-9e2e-726995225c20"
      },
      "execution_count": null,
      "outputs": [
        {
          "output_type": "stream",
          "name": "stdout",
          "text": [
            "Average wattage for mornings, afternoons, and evenings: [300.38834891 198.39523217  98.50480801]\n"
          ]
        }
      ]
    }
  ]
}